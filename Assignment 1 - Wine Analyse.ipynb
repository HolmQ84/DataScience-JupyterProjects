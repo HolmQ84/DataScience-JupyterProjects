{
 "cells": [
  {
   "cell_type": "markdown",
   "id": "bcc003d8",
   "metadata": {},
   "source": [
    "# <center><span style=\"color: blue\">**ASSIGNMENT 1 - WINE ANALYSE**</span></center>"
   ]
  },
  {
   "cell_type": "markdown",
   "id": "df64db8c",
   "metadata": {},
   "source": [
    "# <center><span style=\"color: blue\">Load the data</span></center>"
   ]
  },
  {
   "cell_type": "markdown",
   "id": "c90d05c8",
   "metadata": {},
   "source": [
    "# Installing/Importing"
   ]
  },
  {
   "cell_type": "code",
   "execution_count": 7,
   "id": "d42fa68f",
   "metadata": {},
   "outputs": [],
   "source": [
    "# !pip install pandas\n",
    "# !pip install matplotlib\n",
    "# !pip install sklearn"
   ]
  },
  {
   "cell_type": "code",
   "execution_count": 2,
   "id": "9b31ccf0",
   "metadata": {
    "scrolled": true
   },
   "outputs": [],
   "source": [
    "import pandas as pd\n",
    "import numpy as np\n",
    "import matplotlib.pyplot as plt\n",
    "%matplotlib inline\n",
    "import random\n",
    "from sklearn import datasets, svm, tree, preprocessing, metrics"
   ]
  },
  {
   "cell_type": "markdown",
   "id": "2586f006",
   "metadata": {},
   "source": [
    "***"
   ]
  },
  {
   "cell_type": "markdown",
   "id": "f8c8e9f3",
   "metadata": {},
   "source": [
    "# 1. Load Wine Data"
   ]
  },
  {
   "cell_type": "markdown",
   "id": "f73e9e8e",
   "metadata": {},
   "source": [
    "## Red wines"
   ]
  },
  {
   "cell_type": "code",
   "execution_count": 8,
   "id": "d0df6d82",
   "metadata": {},
   "outputs": [],
   "source": [
    "red_wines = pd.read_excel('./data/winequality-red.xlsx', skiprows=1)"
   ]
  },
  {
   "cell_type": "code",
   "execution_count": 9,
   "id": "93d843f8",
   "metadata": {},
   "outputs": [
    {
     "data": {
      "text/html": [
       "<div>\n",
       "<style scoped>\n",
       "    .dataframe tbody tr th:only-of-type {\n",
       "        vertical-align: middle;\n",
       "    }\n",
       "\n",
       "    .dataframe tbody tr th {\n",
       "        vertical-align: top;\n",
       "    }\n",
       "\n",
       "    .dataframe thead th {\n",
       "        text-align: right;\n",
       "    }\n",
       "</style>\n",
       "<table border=\"1\" class=\"dataframe\">\n",
       "  <thead>\n",
       "    <tr style=\"text-align: right;\">\n",
       "      <th></th>\n",
       "      <th>fixed acidity</th>\n",
       "      <th>volatile acidity</th>\n",
       "      <th>citric acid</th>\n",
       "      <th>residual sugar</th>\n",
       "      <th>chlorides</th>\n",
       "      <th>free sulfur dioxide</th>\n",
       "      <th>total sulfur dioxide</th>\n",
       "      <th>density</th>\n",
       "      <th>pH</th>\n",
       "      <th>sulphates</th>\n",
       "      <th>alcohol</th>\n",
       "      <th>quality</th>\n",
       "    </tr>\n",
       "  </thead>\n",
       "  <tbody>\n",
       "    <tr>\n",
       "      <th>0</th>\n",
       "      <td>7.4</td>\n",
       "      <td>0.70</td>\n",
       "      <td>0.00</td>\n",
       "      <td>1.9</td>\n",
       "      <td>0.076</td>\n",
       "      <td>11.0</td>\n",
       "      <td>34.0</td>\n",
       "      <td>0.9978</td>\n",
       "      <td>3.51</td>\n",
       "      <td>0.56</td>\n",
       "      <td>9.4</td>\n",
       "      <td>5</td>\n",
       "    </tr>\n",
       "    <tr>\n",
       "      <th>1</th>\n",
       "      <td>7.8</td>\n",
       "      <td>0.88</td>\n",
       "      <td>0.00</td>\n",
       "      <td>2.6</td>\n",
       "      <td>0.098</td>\n",
       "      <td>25.0</td>\n",
       "      <td>67.0</td>\n",
       "      <td>0.9968</td>\n",
       "      <td>3.20</td>\n",
       "      <td>0.68</td>\n",
       "      <td>9.8</td>\n",
       "      <td>5</td>\n",
       "    </tr>\n",
       "    <tr>\n",
       "      <th>2</th>\n",
       "      <td>7.8</td>\n",
       "      <td>0.76</td>\n",
       "      <td>0.04</td>\n",
       "      <td>2.3</td>\n",
       "      <td>0.092</td>\n",
       "      <td>15.0</td>\n",
       "      <td>54.0</td>\n",
       "      <td>0.9970</td>\n",
       "      <td>3.26</td>\n",
       "      <td>0.65</td>\n",
       "      <td>9.8</td>\n",
       "      <td>5</td>\n",
       "    </tr>\n",
       "    <tr>\n",
       "      <th>3</th>\n",
       "      <td>11.2</td>\n",
       "      <td>0.28</td>\n",
       "      <td>0.56</td>\n",
       "      <td>1.9</td>\n",
       "      <td>0.075</td>\n",
       "      <td>17.0</td>\n",
       "      <td>60.0</td>\n",
       "      <td>0.9980</td>\n",
       "      <td>3.16</td>\n",
       "      <td>0.58</td>\n",
       "      <td>9.8</td>\n",
       "      <td>6</td>\n",
       "    </tr>\n",
       "    <tr>\n",
       "      <th>4</th>\n",
       "      <td>7.4</td>\n",
       "      <td>0.70</td>\n",
       "      <td>0.00</td>\n",
       "      <td>1.9</td>\n",
       "      <td>0.076</td>\n",
       "      <td>11.0</td>\n",
       "      <td>34.0</td>\n",
       "      <td>0.9978</td>\n",
       "      <td>3.51</td>\n",
       "      <td>0.56</td>\n",
       "      <td>9.4</td>\n",
       "      <td>5</td>\n",
       "    </tr>\n",
       "  </tbody>\n",
       "</table>\n",
       "</div>"
      ],
      "text/plain": [
       "   fixed acidity  volatile acidity  citric acid  residual sugar  chlorides  \\\n",
       "0            7.4              0.70         0.00             1.9      0.076   \n",
       "1            7.8              0.88         0.00             2.6      0.098   \n",
       "2            7.8              0.76         0.04             2.3      0.092   \n",
       "3           11.2              0.28         0.56             1.9      0.075   \n",
       "4            7.4              0.70         0.00             1.9      0.076   \n",
       "\n",
       "   free sulfur dioxide  total sulfur dioxide  density    pH  sulphates  \\\n",
       "0                 11.0                  34.0   0.9978  3.51       0.56   \n",
       "1                 25.0                  67.0   0.9968  3.20       0.68   \n",
       "2                 15.0                  54.0   0.9970  3.26       0.65   \n",
       "3                 17.0                  60.0   0.9980  3.16       0.58   \n",
       "4                 11.0                  34.0   0.9978  3.51       0.56   \n",
       "\n",
       "   alcohol  quality  \n",
       "0      9.4        5  \n",
       "1      9.8        5  \n",
       "2      9.8        5  \n",
       "3      9.8        6  \n",
       "4      9.4        5  "
      ]
     },
     "execution_count": 9,
     "metadata": {},
     "output_type": "execute_result"
    }
   ],
   "source": [
    "red_wines.head()"
   ]
  },
  {
   "cell_type": "code",
   "execution_count": 10,
   "id": "e8375307",
   "metadata": {
    "scrolled": true
   },
   "outputs": [
    {
     "data": {
      "text/html": [
       "<div>\n",
       "<style scoped>\n",
       "    .dataframe tbody tr th:only-of-type {\n",
       "        vertical-align: middle;\n",
       "    }\n",
       "\n",
       "    .dataframe tbody tr th {\n",
       "        vertical-align: top;\n",
       "    }\n",
       "\n",
       "    .dataframe thead th {\n",
       "        text-align: right;\n",
       "    }\n",
       "</style>\n",
       "<table border=\"1\" class=\"dataframe\">\n",
       "  <thead>\n",
       "    <tr style=\"text-align: right;\">\n",
       "      <th></th>\n",
       "      <th>fixed acidity</th>\n",
       "      <th>volatile acidity</th>\n",
       "      <th>citric acid</th>\n",
       "      <th>residual sugar</th>\n",
       "      <th>chlorides</th>\n",
       "      <th>free sulfur dioxide</th>\n",
       "      <th>total sulfur dioxide</th>\n",
       "      <th>density</th>\n",
       "      <th>pH</th>\n",
       "      <th>sulphates</th>\n",
       "      <th>alcohol</th>\n",
       "      <th>quality</th>\n",
       "    </tr>\n",
       "  </thead>\n",
       "  <tbody>\n",
       "    <tr>\n",
       "      <th>1594</th>\n",
       "      <td>6.2</td>\n",
       "      <td>0.600</td>\n",
       "      <td>0.08</td>\n",
       "      <td>2.0</td>\n",
       "      <td>0.090</td>\n",
       "      <td>32.0</td>\n",
       "      <td>44.0</td>\n",
       "      <td>0.99490</td>\n",
       "      <td>3.45</td>\n",
       "      <td>0.58</td>\n",
       "      <td>10.5</td>\n",
       "      <td>5</td>\n",
       "    </tr>\n",
       "    <tr>\n",
       "      <th>1595</th>\n",
       "      <td>5.9</td>\n",
       "      <td>0.550</td>\n",
       "      <td>0.10</td>\n",
       "      <td>2.2</td>\n",
       "      <td>0.062</td>\n",
       "      <td>39.0</td>\n",
       "      <td>51.0</td>\n",
       "      <td>0.99512</td>\n",
       "      <td>3.52</td>\n",
       "      <td>0.76</td>\n",
       "      <td>11.2</td>\n",
       "      <td>6</td>\n",
       "    </tr>\n",
       "    <tr>\n",
       "      <th>1596</th>\n",
       "      <td>6.3</td>\n",
       "      <td>0.510</td>\n",
       "      <td>0.13</td>\n",
       "      <td>2.3</td>\n",
       "      <td>0.076</td>\n",
       "      <td>29.0</td>\n",
       "      <td>40.0</td>\n",
       "      <td>0.99574</td>\n",
       "      <td>3.42</td>\n",
       "      <td>0.75</td>\n",
       "      <td>11.0</td>\n",
       "      <td>6</td>\n",
       "    </tr>\n",
       "    <tr>\n",
       "      <th>1597</th>\n",
       "      <td>5.9</td>\n",
       "      <td>0.645</td>\n",
       "      <td>0.12</td>\n",
       "      <td>2.0</td>\n",
       "      <td>0.075</td>\n",
       "      <td>32.0</td>\n",
       "      <td>44.0</td>\n",
       "      <td>0.99547</td>\n",
       "      <td>3.57</td>\n",
       "      <td>0.71</td>\n",
       "      <td>10.2</td>\n",
       "      <td>5</td>\n",
       "    </tr>\n",
       "    <tr>\n",
       "      <th>1598</th>\n",
       "      <td>6.0</td>\n",
       "      <td>0.310</td>\n",
       "      <td>0.47</td>\n",
       "      <td>3.6</td>\n",
       "      <td>0.067</td>\n",
       "      <td>18.0</td>\n",
       "      <td>42.0</td>\n",
       "      <td>0.99549</td>\n",
       "      <td>3.39</td>\n",
       "      <td>0.66</td>\n",
       "      <td>11.0</td>\n",
       "      <td>6</td>\n",
       "    </tr>\n",
       "  </tbody>\n",
       "</table>\n",
       "</div>"
      ],
      "text/plain": [
       "      fixed acidity  volatile acidity  citric acid  residual sugar  chlorides  \\\n",
       "1594            6.2             0.600         0.08             2.0      0.090   \n",
       "1595            5.9             0.550         0.10             2.2      0.062   \n",
       "1596            6.3             0.510         0.13             2.3      0.076   \n",
       "1597            5.9             0.645         0.12             2.0      0.075   \n",
       "1598            6.0             0.310         0.47             3.6      0.067   \n",
       "\n",
       "      free sulfur dioxide  total sulfur dioxide  density    pH  sulphates  \\\n",
       "1594                 32.0                  44.0  0.99490  3.45       0.58   \n",
       "1595                 39.0                  51.0  0.99512  3.52       0.76   \n",
       "1596                 29.0                  40.0  0.99574  3.42       0.75   \n",
       "1597                 32.0                  44.0  0.99547  3.57       0.71   \n",
       "1598                 18.0                  42.0  0.99549  3.39       0.66   \n",
       "\n",
       "      alcohol  quality  \n",
       "1594     10.5        5  \n",
       "1595     11.2        6  \n",
       "1596     11.0        6  \n",
       "1597     10.2        5  \n",
       "1598     11.0        6  "
      ]
     },
     "execution_count": 10,
     "metadata": {},
     "output_type": "execute_result"
    }
   ],
   "source": [
    "red_wines.tail()"
   ]
  },
  {
   "cell_type": "code",
   "execution_count": 11,
   "id": "43d1fe01",
   "metadata": {},
   "outputs": [
    {
     "data": {
      "text/plain": [
       "Index(['fixed acidity', 'volatile acidity', 'citric acid', 'residual sugar',\n",
       "       'chlorides', 'free sulfur dioxide', 'total sulfur dioxide', 'density',\n",
       "       'pH', 'sulphates', 'alcohol', 'quality'],\n",
       "      dtype='object')"
      ]
     },
     "execution_count": 11,
     "metadata": {},
     "output_type": "execute_result"
    }
   ],
   "source": [
    "red_wines.columns"
   ]
  },
  {
   "cell_type": "code",
   "execution_count": 12,
   "id": "63834013",
   "metadata": {},
   "outputs": [
    {
     "data": {
      "text/plain": [
       "fixed acidity           float64\n",
       "volatile acidity        float64\n",
       "citric acid             float64\n",
       "residual sugar          float64\n",
       "chlorides               float64\n",
       "free sulfur dioxide     float64\n",
       "total sulfur dioxide    float64\n",
       "density                 float64\n",
       "pH                      float64\n",
       "sulphates               float64\n",
       "alcohol                 float64\n",
       "quality                   int64\n",
       "dtype: object"
      ]
     },
     "execution_count": 12,
     "metadata": {},
     "output_type": "execute_result"
    }
   ],
   "source": [
    "red_wines.dtypes"
   ]
  },
  {
   "cell_type": "markdown",
   "id": "0e35c948",
   "metadata": {},
   "source": [
    "***"
   ]
  },
  {
   "cell_type": "markdown",
   "id": "78ead9d2",
   "metadata": {},
   "source": [
    "## White Wines"
   ]
  },
  {
   "cell_type": "code",
   "execution_count": 13,
   "id": "3fdb959d",
   "metadata": {},
   "outputs": [],
   "source": [
    "white_wines = pd.read_excel('./data/winequality-white.xlsx', skiprows=1)"
   ]
  },
  {
   "cell_type": "code",
   "execution_count": 14,
   "id": "b9dd0b73",
   "metadata": {},
   "outputs": [
    {
     "data": {
      "text/html": [
       "<div>\n",
       "<style scoped>\n",
       "    .dataframe tbody tr th:only-of-type {\n",
       "        vertical-align: middle;\n",
       "    }\n",
       "\n",
       "    .dataframe tbody tr th {\n",
       "        vertical-align: top;\n",
       "    }\n",
       "\n",
       "    .dataframe thead th {\n",
       "        text-align: right;\n",
       "    }\n",
       "</style>\n",
       "<table border=\"1\" class=\"dataframe\">\n",
       "  <thead>\n",
       "    <tr style=\"text-align: right;\">\n",
       "      <th></th>\n",
       "      <th>fixed acidity</th>\n",
       "      <th>volatile acidity</th>\n",
       "      <th>citric acid</th>\n",
       "      <th>residual sugar</th>\n",
       "      <th>chlorides</th>\n",
       "      <th>free sulfur dioxide</th>\n",
       "      <th>total sulfur dioxide</th>\n",
       "      <th>density</th>\n",
       "      <th>pH</th>\n",
       "      <th>sulphates</th>\n",
       "      <th>alcohol</th>\n",
       "      <th>quality</th>\n",
       "    </tr>\n",
       "  </thead>\n",
       "  <tbody>\n",
       "    <tr>\n",
       "      <th>0</th>\n",
       "      <td>7.0</td>\n",
       "      <td>0.27</td>\n",
       "      <td>0.36</td>\n",
       "      <td>20.7</td>\n",
       "      <td>0.045</td>\n",
       "      <td>45.0</td>\n",
       "      <td>170.0</td>\n",
       "      <td>1.0010</td>\n",
       "      <td>3.00</td>\n",
       "      <td>0.45</td>\n",
       "      <td>8.8</td>\n",
       "      <td>6</td>\n",
       "    </tr>\n",
       "    <tr>\n",
       "      <th>1</th>\n",
       "      <td>6.3</td>\n",
       "      <td>0.30</td>\n",
       "      <td>0.34</td>\n",
       "      <td>1.6</td>\n",
       "      <td>0.049</td>\n",
       "      <td>14.0</td>\n",
       "      <td>132.0</td>\n",
       "      <td>0.9940</td>\n",
       "      <td>3.30</td>\n",
       "      <td>0.49</td>\n",
       "      <td>9.5</td>\n",
       "      <td>6</td>\n",
       "    </tr>\n",
       "    <tr>\n",
       "      <th>2</th>\n",
       "      <td>8.1</td>\n",
       "      <td>0.28</td>\n",
       "      <td>0.40</td>\n",
       "      <td>6.9</td>\n",
       "      <td>0.050</td>\n",
       "      <td>30.0</td>\n",
       "      <td>97.0</td>\n",
       "      <td>0.9951</td>\n",
       "      <td>3.26</td>\n",
       "      <td>0.44</td>\n",
       "      <td>10.1</td>\n",
       "      <td>6</td>\n",
       "    </tr>\n",
       "    <tr>\n",
       "      <th>3</th>\n",
       "      <td>7.2</td>\n",
       "      <td>0.23</td>\n",
       "      <td>0.32</td>\n",
       "      <td>8.5</td>\n",
       "      <td>0.058</td>\n",
       "      <td>47.0</td>\n",
       "      <td>186.0</td>\n",
       "      <td>0.9956</td>\n",
       "      <td>3.19</td>\n",
       "      <td>0.40</td>\n",
       "      <td>9.9</td>\n",
       "      <td>6</td>\n",
       "    </tr>\n",
       "    <tr>\n",
       "      <th>4</th>\n",
       "      <td>7.2</td>\n",
       "      <td>0.23</td>\n",
       "      <td>0.32</td>\n",
       "      <td>8.5</td>\n",
       "      <td>0.058</td>\n",
       "      <td>47.0</td>\n",
       "      <td>186.0</td>\n",
       "      <td>0.9956</td>\n",
       "      <td>3.19</td>\n",
       "      <td>0.40</td>\n",
       "      <td>9.9</td>\n",
       "      <td>6</td>\n",
       "    </tr>\n",
       "  </tbody>\n",
       "</table>\n",
       "</div>"
      ],
      "text/plain": [
       "   fixed acidity  volatile acidity  citric acid  residual sugar  chlorides  \\\n",
       "0            7.0              0.27         0.36            20.7      0.045   \n",
       "1            6.3              0.30         0.34             1.6      0.049   \n",
       "2            8.1              0.28         0.40             6.9      0.050   \n",
       "3            7.2              0.23         0.32             8.5      0.058   \n",
       "4            7.2              0.23         0.32             8.5      0.058   \n",
       "\n",
       "   free sulfur dioxide  total sulfur dioxide  density    pH  sulphates  \\\n",
       "0                 45.0                 170.0   1.0010  3.00       0.45   \n",
       "1                 14.0                 132.0   0.9940  3.30       0.49   \n",
       "2                 30.0                  97.0   0.9951  3.26       0.44   \n",
       "3                 47.0                 186.0   0.9956  3.19       0.40   \n",
       "4                 47.0                 186.0   0.9956  3.19       0.40   \n",
       "\n",
       "   alcohol  quality  \n",
       "0      8.8        6  \n",
       "1      9.5        6  \n",
       "2     10.1        6  \n",
       "3      9.9        6  \n",
       "4      9.9        6  "
      ]
     },
     "execution_count": 14,
     "metadata": {},
     "output_type": "execute_result"
    }
   ],
   "source": [
    "white_wines.head()"
   ]
  },
  {
   "cell_type": "code",
   "execution_count": 15,
   "id": "61973b7c",
   "metadata": {},
   "outputs": [
    {
     "data": {
      "text/html": [
       "<div>\n",
       "<style scoped>\n",
       "    .dataframe tbody tr th:only-of-type {\n",
       "        vertical-align: middle;\n",
       "    }\n",
       "\n",
       "    .dataframe tbody tr th {\n",
       "        vertical-align: top;\n",
       "    }\n",
       "\n",
       "    .dataframe thead th {\n",
       "        text-align: right;\n",
       "    }\n",
       "</style>\n",
       "<table border=\"1\" class=\"dataframe\">\n",
       "  <thead>\n",
       "    <tr style=\"text-align: right;\">\n",
       "      <th></th>\n",
       "      <th>fixed acidity</th>\n",
       "      <th>volatile acidity</th>\n",
       "      <th>citric acid</th>\n",
       "      <th>residual sugar</th>\n",
       "      <th>chlorides</th>\n",
       "      <th>free sulfur dioxide</th>\n",
       "      <th>total sulfur dioxide</th>\n",
       "      <th>density</th>\n",
       "      <th>pH</th>\n",
       "      <th>sulphates</th>\n",
       "      <th>alcohol</th>\n",
       "      <th>quality</th>\n",
       "    </tr>\n",
       "  </thead>\n",
       "  <tbody>\n",
       "    <tr>\n",
       "      <th>4893</th>\n",
       "      <td>6.2</td>\n",
       "      <td>0.21</td>\n",
       "      <td>0.29</td>\n",
       "      <td>1.6</td>\n",
       "      <td>0.039</td>\n",
       "      <td>24.0</td>\n",
       "      <td>92.0</td>\n",
       "      <td>0.99114</td>\n",
       "      <td>3.27</td>\n",
       "      <td>0.50</td>\n",
       "      <td>11.2</td>\n",
       "      <td>6</td>\n",
       "    </tr>\n",
       "    <tr>\n",
       "      <th>4894</th>\n",
       "      <td>6.6</td>\n",
       "      <td>0.32</td>\n",
       "      <td>0.36</td>\n",
       "      <td>8.0</td>\n",
       "      <td>0.047</td>\n",
       "      <td>57.0</td>\n",
       "      <td>168.0</td>\n",
       "      <td>0.99490</td>\n",
       "      <td>3.15</td>\n",
       "      <td>0.46</td>\n",
       "      <td>9.6</td>\n",
       "      <td>5</td>\n",
       "    </tr>\n",
       "    <tr>\n",
       "      <th>4895</th>\n",
       "      <td>6.5</td>\n",
       "      <td>0.24</td>\n",
       "      <td>0.19</td>\n",
       "      <td>1.2</td>\n",
       "      <td>0.041</td>\n",
       "      <td>30.0</td>\n",
       "      <td>111.0</td>\n",
       "      <td>0.99254</td>\n",
       "      <td>2.99</td>\n",
       "      <td>0.46</td>\n",
       "      <td>9.4</td>\n",
       "      <td>6</td>\n",
       "    </tr>\n",
       "    <tr>\n",
       "      <th>4896</th>\n",
       "      <td>5.5</td>\n",
       "      <td>0.29</td>\n",
       "      <td>0.30</td>\n",
       "      <td>1.1</td>\n",
       "      <td>0.022</td>\n",
       "      <td>20.0</td>\n",
       "      <td>110.0</td>\n",
       "      <td>0.98869</td>\n",
       "      <td>3.34</td>\n",
       "      <td>0.38</td>\n",
       "      <td>12.8</td>\n",
       "      <td>7</td>\n",
       "    </tr>\n",
       "    <tr>\n",
       "      <th>4897</th>\n",
       "      <td>6.0</td>\n",
       "      <td>0.21</td>\n",
       "      <td>0.38</td>\n",
       "      <td>0.8</td>\n",
       "      <td>0.020</td>\n",
       "      <td>22.0</td>\n",
       "      <td>98.0</td>\n",
       "      <td>0.98941</td>\n",
       "      <td>3.26</td>\n",
       "      <td>0.32</td>\n",
       "      <td>11.8</td>\n",
       "      <td>6</td>\n",
       "    </tr>\n",
       "  </tbody>\n",
       "</table>\n",
       "</div>"
      ],
      "text/plain": [
       "      fixed acidity  volatile acidity  citric acid  residual sugar  chlorides  \\\n",
       "4893            6.2              0.21         0.29             1.6      0.039   \n",
       "4894            6.6              0.32         0.36             8.0      0.047   \n",
       "4895            6.5              0.24         0.19             1.2      0.041   \n",
       "4896            5.5              0.29         0.30             1.1      0.022   \n",
       "4897            6.0              0.21         0.38             0.8      0.020   \n",
       "\n",
       "      free sulfur dioxide  total sulfur dioxide  density    pH  sulphates  \\\n",
       "4893                 24.0                  92.0  0.99114  3.27       0.50   \n",
       "4894                 57.0                 168.0  0.99490  3.15       0.46   \n",
       "4895                 30.0                 111.0  0.99254  2.99       0.46   \n",
       "4896                 20.0                 110.0  0.98869  3.34       0.38   \n",
       "4897                 22.0                  98.0  0.98941  3.26       0.32   \n",
       "\n",
       "      alcohol  quality  \n",
       "4893     11.2        6  \n",
       "4894      9.6        5  \n",
       "4895      9.4        6  \n",
       "4896     12.8        7  \n",
       "4897     11.8        6  "
      ]
     },
     "execution_count": 15,
     "metadata": {},
     "output_type": "execute_result"
    }
   ],
   "source": [
    "white_wines.tail()"
   ]
  },
  {
   "cell_type": "code",
   "execution_count": 16,
   "id": "dcf4b4d0",
   "metadata": {},
   "outputs": [
    {
     "data": {
      "text/plain": [
       "Index(['fixed acidity', 'volatile acidity', 'citric acid', 'residual sugar',\n",
       "       'chlorides', 'free sulfur dioxide', 'total sulfur dioxide', 'density',\n",
       "       'pH', 'sulphates', 'alcohol', 'quality'],\n",
       "      dtype='object')"
      ]
     },
     "execution_count": 16,
     "metadata": {},
     "output_type": "execute_result"
    }
   ],
   "source": [
    "white_wines.columns"
   ]
  },
  {
   "cell_type": "code",
   "execution_count": 17,
   "id": "04ae0746",
   "metadata": {},
   "outputs": [
    {
     "data": {
      "text/plain": [
       "fixed acidity           float64\n",
       "volatile acidity        float64\n",
       "citric acid             float64\n",
       "residual sugar          float64\n",
       "chlorides               float64\n",
       "free sulfur dioxide     float64\n",
       "total sulfur dioxide    float64\n",
       "density                 float64\n",
       "pH                      float64\n",
       "sulphates               float64\n",
       "alcohol                 float64\n",
       "quality                   int64\n",
       "dtype: object"
      ]
     },
     "execution_count": 17,
     "metadata": {},
     "output_type": "execute_result"
    }
   ],
   "source": [
    "white_wines.dtypes"
   ]
  },
  {
   "cell_type": "markdown",
   "id": "336e596b",
   "metadata": {},
   "source": [
    "***"
   ]
  },
  {
   "cell_type": "markdown",
   "id": "31d94d3f",
   "metadata": {},
   "source": [
    "# 2. Joining datasets"
   ]
  },
  {
   "cell_type": "code",
   "execution_count": 18,
   "id": "4ccb5fd4",
   "metadata": {},
   "outputs": [],
   "source": [
    "red_wines['type'] = 'red'"
   ]
  },
  {
   "cell_type": "code",
   "execution_count": 19,
   "id": "31cb7a3a",
   "metadata": {},
   "outputs": [],
   "source": [
    "white_wines['type'] = 'white'"
   ]
  },
  {
   "cell_type": "code",
   "execution_count": 20,
   "id": "009cfa74",
   "metadata": {},
   "outputs": [],
   "source": [
    "# Merge the two files.\n",
    "all_wines = pd.concat([red_wines, white_wines])"
   ]
  },
  {
   "cell_type": "code",
   "execution_count": 21,
   "id": "fa8125c3",
   "metadata": {},
   "outputs": [],
   "source": [
    "# Reset the index files, so every entry has their own id.\n",
    "all_wines.reset_index(drop=True, inplace=True)"
   ]
  },
  {
   "cell_type": "markdown",
   "id": "6a523c61",
   "metadata": {},
   "source": [
    "***"
   ]
  },
  {
   "cell_type": "markdown",
   "id": "e1a9a59d",
   "metadata": {},
   "source": [
    "# <center><span style=\"color: blue\">Exploring the data</span></center>"
   ]
  },
  {
   "cell_type": "markdown",
   "id": "037b7704",
   "metadata": {},
   "source": [
    "# 3. Explore the general parameters of the new file\n",
    "- Number of rows and columns\n",
    "- Type of data in each column\n",
    "- Descriptive statstics of the numeric data (count, mean, min, max, std, quantiles)"
   ]
  },
  {
   "cell_type": "code",
   "execution_count": 22,
   "id": "c222fc52",
   "metadata": {},
   "outputs": [
    {
     "data": {
      "text/html": [
       "<div>\n",
       "<style scoped>\n",
       "    .dataframe tbody tr th:only-of-type {\n",
       "        vertical-align: middle;\n",
       "    }\n",
       "\n",
       "    .dataframe tbody tr th {\n",
       "        vertical-align: top;\n",
       "    }\n",
       "\n",
       "    .dataframe thead th {\n",
       "        text-align: right;\n",
       "    }\n",
       "</style>\n",
       "<table border=\"1\" class=\"dataframe\">\n",
       "  <thead>\n",
       "    <tr style=\"text-align: right;\">\n",
       "      <th></th>\n",
       "      <th>fixed acidity</th>\n",
       "      <th>volatile acidity</th>\n",
       "      <th>citric acid</th>\n",
       "      <th>residual sugar</th>\n",
       "      <th>chlorides</th>\n",
       "      <th>free sulfur dioxide</th>\n",
       "      <th>total sulfur dioxide</th>\n",
       "      <th>density</th>\n",
       "      <th>pH</th>\n",
       "      <th>sulphates</th>\n",
       "      <th>alcohol</th>\n",
       "      <th>quality</th>\n",
       "      <th>type</th>\n",
       "    </tr>\n",
       "  </thead>\n",
       "  <tbody>\n",
       "    <tr>\n",
       "      <th>0</th>\n",
       "      <td>7.4</td>\n",
       "      <td>0.70</td>\n",
       "      <td>0.00</td>\n",
       "      <td>1.9</td>\n",
       "      <td>0.076</td>\n",
       "      <td>11.0</td>\n",
       "      <td>34.0</td>\n",
       "      <td>0.99780</td>\n",
       "      <td>3.51</td>\n",
       "      <td>0.56</td>\n",
       "      <td>9.4</td>\n",
       "      <td>5</td>\n",
       "      <td>red</td>\n",
       "    </tr>\n",
       "    <tr>\n",
       "      <th>1</th>\n",
       "      <td>7.8</td>\n",
       "      <td>0.88</td>\n",
       "      <td>0.00</td>\n",
       "      <td>2.6</td>\n",
       "      <td>0.098</td>\n",
       "      <td>25.0</td>\n",
       "      <td>67.0</td>\n",
       "      <td>0.99680</td>\n",
       "      <td>3.20</td>\n",
       "      <td>0.68</td>\n",
       "      <td>9.8</td>\n",
       "      <td>5</td>\n",
       "      <td>red</td>\n",
       "    </tr>\n",
       "    <tr>\n",
       "      <th>2</th>\n",
       "      <td>7.8</td>\n",
       "      <td>0.76</td>\n",
       "      <td>0.04</td>\n",
       "      <td>2.3</td>\n",
       "      <td>0.092</td>\n",
       "      <td>15.0</td>\n",
       "      <td>54.0</td>\n",
       "      <td>0.99700</td>\n",
       "      <td>3.26</td>\n",
       "      <td>0.65</td>\n",
       "      <td>9.8</td>\n",
       "      <td>5</td>\n",
       "      <td>red</td>\n",
       "    </tr>\n",
       "    <tr>\n",
       "      <th>3</th>\n",
       "      <td>11.2</td>\n",
       "      <td>0.28</td>\n",
       "      <td>0.56</td>\n",
       "      <td>1.9</td>\n",
       "      <td>0.075</td>\n",
       "      <td>17.0</td>\n",
       "      <td>60.0</td>\n",
       "      <td>0.99800</td>\n",
       "      <td>3.16</td>\n",
       "      <td>0.58</td>\n",
       "      <td>9.8</td>\n",
       "      <td>6</td>\n",
       "      <td>red</td>\n",
       "    </tr>\n",
       "    <tr>\n",
       "      <th>4</th>\n",
       "      <td>7.4</td>\n",
       "      <td>0.70</td>\n",
       "      <td>0.00</td>\n",
       "      <td>1.9</td>\n",
       "      <td>0.076</td>\n",
       "      <td>11.0</td>\n",
       "      <td>34.0</td>\n",
       "      <td>0.99780</td>\n",
       "      <td>3.51</td>\n",
       "      <td>0.56</td>\n",
       "      <td>9.4</td>\n",
       "      <td>5</td>\n",
       "      <td>red</td>\n",
       "    </tr>\n",
       "    <tr>\n",
       "      <th>...</th>\n",
       "      <td>...</td>\n",
       "      <td>...</td>\n",
       "      <td>...</td>\n",
       "      <td>...</td>\n",
       "      <td>...</td>\n",
       "      <td>...</td>\n",
       "      <td>...</td>\n",
       "      <td>...</td>\n",
       "      <td>...</td>\n",
       "      <td>...</td>\n",
       "      <td>...</td>\n",
       "      <td>...</td>\n",
       "      <td>...</td>\n",
       "    </tr>\n",
       "    <tr>\n",
       "      <th>6492</th>\n",
       "      <td>6.2</td>\n",
       "      <td>0.21</td>\n",
       "      <td>0.29</td>\n",
       "      <td>1.6</td>\n",
       "      <td>0.039</td>\n",
       "      <td>24.0</td>\n",
       "      <td>92.0</td>\n",
       "      <td>0.99114</td>\n",
       "      <td>3.27</td>\n",
       "      <td>0.50</td>\n",
       "      <td>11.2</td>\n",
       "      <td>6</td>\n",
       "      <td>white</td>\n",
       "    </tr>\n",
       "    <tr>\n",
       "      <th>6493</th>\n",
       "      <td>6.6</td>\n",
       "      <td>0.32</td>\n",
       "      <td>0.36</td>\n",
       "      <td>8.0</td>\n",
       "      <td>0.047</td>\n",
       "      <td>57.0</td>\n",
       "      <td>168.0</td>\n",
       "      <td>0.99490</td>\n",
       "      <td>3.15</td>\n",
       "      <td>0.46</td>\n",
       "      <td>9.6</td>\n",
       "      <td>5</td>\n",
       "      <td>white</td>\n",
       "    </tr>\n",
       "    <tr>\n",
       "      <th>6494</th>\n",
       "      <td>6.5</td>\n",
       "      <td>0.24</td>\n",
       "      <td>0.19</td>\n",
       "      <td>1.2</td>\n",
       "      <td>0.041</td>\n",
       "      <td>30.0</td>\n",
       "      <td>111.0</td>\n",
       "      <td>0.99254</td>\n",
       "      <td>2.99</td>\n",
       "      <td>0.46</td>\n",
       "      <td>9.4</td>\n",
       "      <td>6</td>\n",
       "      <td>white</td>\n",
       "    </tr>\n",
       "    <tr>\n",
       "      <th>6495</th>\n",
       "      <td>5.5</td>\n",
       "      <td>0.29</td>\n",
       "      <td>0.30</td>\n",
       "      <td>1.1</td>\n",
       "      <td>0.022</td>\n",
       "      <td>20.0</td>\n",
       "      <td>110.0</td>\n",
       "      <td>0.98869</td>\n",
       "      <td>3.34</td>\n",
       "      <td>0.38</td>\n",
       "      <td>12.8</td>\n",
       "      <td>7</td>\n",
       "      <td>white</td>\n",
       "    </tr>\n",
       "    <tr>\n",
       "      <th>6496</th>\n",
       "      <td>6.0</td>\n",
       "      <td>0.21</td>\n",
       "      <td>0.38</td>\n",
       "      <td>0.8</td>\n",
       "      <td>0.020</td>\n",
       "      <td>22.0</td>\n",
       "      <td>98.0</td>\n",
       "      <td>0.98941</td>\n",
       "      <td>3.26</td>\n",
       "      <td>0.32</td>\n",
       "      <td>11.8</td>\n",
       "      <td>6</td>\n",
       "      <td>white</td>\n",
       "    </tr>\n",
       "  </tbody>\n",
       "</table>\n",
       "<p>6497 rows × 13 columns</p>\n",
       "</div>"
      ],
      "text/plain": [
       "      fixed acidity  volatile acidity  citric acid  residual sugar  chlorides  \\\n",
       "0               7.4              0.70         0.00             1.9      0.076   \n",
       "1               7.8              0.88         0.00             2.6      0.098   \n",
       "2               7.8              0.76         0.04             2.3      0.092   \n",
       "3              11.2              0.28         0.56             1.9      0.075   \n",
       "4               7.4              0.70         0.00             1.9      0.076   \n",
       "...             ...               ...          ...             ...        ...   \n",
       "6492            6.2              0.21         0.29             1.6      0.039   \n",
       "6493            6.6              0.32         0.36             8.0      0.047   \n",
       "6494            6.5              0.24         0.19             1.2      0.041   \n",
       "6495            5.5              0.29         0.30             1.1      0.022   \n",
       "6496            6.0              0.21         0.38             0.8      0.020   \n",
       "\n",
       "      free sulfur dioxide  total sulfur dioxide  density    pH  sulphates  \\\n",
       "0                    11.0                  34.0  0.99780  3.51       0.56   \n",
       "1                    25.0                  67.0  0.99680  3.20       0.68   \n",
       "2                    15.0                  54.0  0.99700  3.26       0.65   \n",
       "3                    17.0                  60.0  0.99800  3.16       0.58   \n",
       "4                    11.0                  34.0  0.99780  3.51       0.56   \n",
       "...                   ...                   ...      ...   ...        ...   \n",
       "6492                 24.0                  92.0  0.99114  3.27       0.50   \n",
       "6493                 57.0                 168.0  0.99490  3.15       0.46   \n",
       "6494                 30.0                 111.0  0.99254  2.99       0.46   \n",
       "6495                 20.0                 110.0  0.98869  3.34       0.38   \n",
       "6496                 22.0                  98.0  0.98941  3.26       0.32   \n",
       "\n",
       "      alcohol  quality   type  \n",
       "0         9.4        5    red  \n",
       "1         9.8        5    red  \n",
       "2         9.8        5    red  \n",
       "3         9.8        6    red  \n",
       "4         9.4        5    red  \n",
       "...       ...      ...    ...  \n",
       "6492     11.2        6  white  \n",
       "6493      9.6        5  white  \n",
       "6494      9.4        6  white  \n",
       "6495     12.8        7  white  \n",
       "6496     11.8        6  white  \n",
       "\n",
       "[6497 rows x 13 columns]"
      ]
     },
     "execution_count": 22,
     "metadata": {},
     "output_type": "execute_result"
    }
   ],
   "source": [
    "all_wines"
   ]
  },
  {
   "cell_type": "code",
   "execution_count": 23,
   "id": "9834380d",
   "metadata": {},
   "outputs": [
    {
     "data": {
      "text/plain": [
       "fixed acidity           float64\n",
       "volatile acidity        float64\n",
       "citric acid             float64\n",
       "residual sugar          float64\n",
       "chlorides               float64\n",
       "free sulfur dioxide     float64\n",
       "total sulfur dioxide    float64\n",
       "density                 float64\n",
       "pH                      float64\n",
       "sulphates               float64\n",
       "alcohol                 float64\n",
       "quality                   int64\n",
       "type                     object\n",
       "dtype: object"
      ]
     },
     "execution_count": 23,
     "metadata": {},
     "output_type": "execute_result"
    }
   ],
   "source": [
    "all_wines.dtypes"
   ]
  },
  {
   "cell_type": "markdown",
   "id": "be64f53a",
   "metadata": {},
   "source": [
    "### Count"
   ]
  },
  {
   "cell_type": "code",
   "execution_count": 24,
   "id": "6d74ca8c",
   "metadata": {},
   "outputs": [
    {
     "data": {
      "text/plain": [
       "white    4898\n",
       "red      1599\n",
       "Name: type, dtype: int64"
      ]
     },
     "execution_count": 24,
     "metadata": {},
     "output_type": "execute_result"
    }
   ],
   "source": [
    "all_wines['type'].value_counts()"
   ]
  },
  {
   "cell_type": "code",
   "execution_count": 25,
   "id": "1c78033c",
   "metadata": {},
   "outputs": [
    {
     "data": {
      "text/plain": [
       "<AxesSubplot:>"
      ]
     },
     "execution_count": 25,
     "metadata": {},
     "output_type": "execute_result"
    },
    {
     "data": {
      "image/png": "[encoded data removed]",
      "text/plain": [
       "<Figure size 432x288 with 1 Axes>"
      ]
     },
     "metadata": {
      "needs_background": "light"
     },
     "output_type": "display_data"
    }
   ],
   "source": [
    "all_wines['type'].value_counts().plot.bar()"
   ]
  },
  {
   "cell_type": "markdown",
   "id": "e3a9ecd6",
   "metadata": {},
   "source": [
    "***"
   ]
  },
  {
   "cell_type": "markdown",
   "id": "d7a0526e",
   "metadata": {},
   "source": [
    "### Mean"
   ]
  },
  {
   "cell_type": "code",
   "execution_count": 26,
   "id": "61a1fc15",
   "metadata": {},
   "outputs": [
    {
     "name": "stderr",
     "output_type": "stream",
     "text": [
      "C:\\Users\\marti\\AppData\\Local\\Temp\\ipykernel_16460\\454274112.py:1: FutureWarning: Dropping of nuisance columns in DataFrame reductions (with 'numeric_only=None') is deprecated; in a future version this will raise TypeError.  Select only valid columns before calling the reduction.\n",
      "  all_wines.mean()\n"
     ]
    },
    {
     "data": {
      "text/plain": [
       "fixed acidity             7.215307\n",
       "volatile acidity          0.339666\n",
       "citric acid               0.318633\n",
       "residual sugar            5.443235\n",
       "chlorides                 0.056034\n",
       "free sulfur dioxide      30.525319\n",
       "total sulfur dioxide    115.744574\n",
       "density                   0.994697\n",
       "pH                        3.218501\n",
       "sulphates                 0.531268\n",
       "alcohol                  10.491801\n",
       "quality                   5.818378\n",
       "dtype: float64"
      ]
     },
     "execution_count": 26,
     "metadata": {},
     "output_type": "execute_result"
    }
   ],
   "source": [
    "all_wines.mean()"
   ]
  },
  {
   "cell_type": "markdown",
   "id": "bfd296f8",
   "metadata": {},
   "source": [
    "***"
   ]
  },
  {
   "cell_type": "markdown",
   "id": "f00c3601",
   "metadata": {},
   "source": [
    "### Minimum scores"
   ]
  },
  {
   "cell_type": "code",
   "execution_count": 27,
   "id": "d2976139",
   "metadata": {},
   "outputs": [
    {
     "data": {
      "text/plain": [
       "fixed acidity               3.8\n",
       "volatile acidity           0.08\n",
       "citric acid                 0.0\n",
       "residual sugar              0.6\n",
       "chlorides                 0.009\n",
       "free sulfur dioxide         1.0\n",
       "total sulfur dioxide        6.0\n",
       "density                 0.98711\n",
       "pH                         2.72\n",
       "sulphates                  0.22\n",
       "alcohol                     8.0\n",
       "quality                       3\n",
       "type                        red\n",
       "dtype: object"
      ]
     },
     "execution_count": 27,
     "metadata": {},
     "output_type": "execute_result"
    }
   ],
   "source": [
    "all_wines.min()"
   ]
  },
  {
   "cell_type": "markdown",
   "id": "19c22dd0",
   "metadata": {},
   "source": [
    "***"
   ]
  },
  {
   "cell_type": "markdown",
   "id": "d5f43e5e",
   "metadata": {},
   "source": [
    "### Maximum Scores"
   ]
  },
  {
   "cell_type": "code",
   "execution_count": 28,
   "id": "83e32d68",
   "metadata": {},
   "outputs": [
    {
     "data": {
      "text/plain": [
       "fixed acidity              15.9\n",
       "volatile acidity           1.58\n",
       "citric acid                1.66\n",
       "residual sugar             65.8\n",
       "chlorides                 0.611\n",
       "free sulfur dioxide       289.0\n",
       "total sulfur dioxide      440.0\n",
       "density                 1.03898\n",
       "pH                         4.01\n",
       "sulphates                   2.0\n",
       "alcohol                    14.9\n",
       "quality                       9\n",
       "type                      white\n",
       "dtype: object"
      ]
     },
     "execution_count": 28,
     "metadata": {},
     "output_type": "execute_result"
    }
   ],
   "source": [
    "all_wines.max()"
   ]
  },
  {
   "cell_type": "markdown",
   "id": "8598bfbc",
   "metadata": {},
   "source": [
    "***"
   ]
  },
  {
   "cell_type": "markdown",
   "id": "40fd42f7",
   "metadata": {},
   "source": [
    "### Quantiles"
   ]
  },
  {
   "cell_type": "code",
   "execution_count": 29,
   "id": "afb79967",
   "metadata": {},
   "outputs": [
    {
     "data": {
      "text/html": [
       "<div>\n",
       "<style scoped>\n",
       "    .dataframe tbody tr th:only-of-type {\n",
       "        vertical-align: middle;\n",
       "    }\n",
       "\n",
       "    .dataframe tbody tr th {\n",
       "        vertical-align: top;\n",
       "    }\n",
       "\n",
       "    .dataframe thead th {\n",
       "        text-align: right;\n",
       "    }\n",
       "</style>\n",
       "<table border=\"1\" class=\"dataframe\">\n",
       "  <thead>\n",
       "    <tr style=\"text-align: right;\">\n",
       "      <th></th>\n",
       "      <th>fixed acidity</th>\n",
       "      <th>volatile acidity</th>\n",
       "      <th>citric acid</th>\n",
       "      <th>residual sugar</th>\n",
       "      <th>chlorides</th>\n",
       "      <th>free sulfur dioxide</th>\n",
       "      <th>total sulfur dioxide</th>\n",
       "      <th>density</th>\n",
       "      <th>pH</th>\n",
       "      <th>sulphates</th>\n",
       "      <th>alcohol</th>\n",
       "      <th>quality</th>\n",
       "    </tr>\n",
       "  </thead>\n",
       "  <tbody>\n",
       "    <tr>\n",
       "      <th>0.00</th>\n",
       "      <td>3.8</td>\n",
       "      <td>0.08</td>\n",
       "      <td>0.00</td>\n",
       "      <td>0.6</td>\n",
       "      <td>0.009</td>\n",
       "      <td>1.0</td>\n",
       "      <td>6.0</td>\n",
       "      <td>0.98711</td>\n",
       "      <td>2.72</td>\n",
       "      <td>0.22</td>\n",
       "      <td>8.0</td>\n",
       "      <td>3.0</td>\n",
       "    </tr>\n",
       "    <tr>\n",
       "      <th>0.25</th>\n",
       "      <td>6.4</td>\n",
       "      <td>0.23</td>\n",
       "      <td>0.25</td>\n",
       "      <td>1.8</td>\n",
       "      <td>0.038</td>\n",
       "      <td>17.0</td>\n",
       "      <td>77.0</td>\n",
       "      <td>0.99234</td>\n",
       "      <td>3.11</td>\n",
       "      <td>0.43</td>\n",
       "      <td>9.5</td>\n",
       "      <td>5.0</td>\n",
       "    </tr>\n",
       "    <tr>\n",
       "      <th>0.50</th>\n",
       "      <td>7.0</td>\n",
       "      <td>0.29</td>\n",
       "      <td>0.31</td>\n",
       "      <td>3.0</td>\n",
       "      <td>0.047</td>\n",
       "      <td>29.0</td>\n",
       "      <td>118.0</td>\n",
       "      <td>0.99489</td>\n",
       "      <td>3.21</td>\n",
       "      <td>0.51</td>\n",
       "      <td>10.3</td>\n",
       "      <td>6.0</td>\n",
       "    </tr>\n",
       "    <tr>\n",
       "      <th>0.75</th>\n",
       "      <td>7.7</td>\n",
       "      <td>0.40</td>\n",
       "      <td>0.39</td>\n",
       "      <td>8.1</td>\n",
       "      <td>0.065</td>\n",
       "      <td>41.0</td>\n",
       "      <td>156.0</td>\n",
       "      <td>0.99699</td>\n",
       "      <td>3.32</td>\n",
       "      <td>0.60</td>\n",
       "      <td>11.3</td>\n",
       "      <td>6.0</td>\n",
       "    </tr>\n",
       "    <tr>\n",
       "      <th>1.00</th>\n",
       "      <td>15.9</td>\n",
       "      <td>1.58</td>\n",
       "      <td>1.66</td>\n",
       "      <td>65.8</td>\n",
       "      <td>0.611</td>\n",
       "      <td>289.0</td>\n",
       "      <td>440.0</td>\n",
       "      <td>1.03898</td>\n",
       "      <td>4.01</td>\n",
       "      <td>2.00</td>\n",
       "      <td>14.9</td>\n",
       "      <td>9.0</td>\n",
       "    </tr>\n",
       "  </tbody>\n",
       "</table>\n",
       "</div>"
      ],
      "text/plain": [
       "      fixed acidity  volatile acidity  citric acid  residual sugar  chlorides  \\\n",
       "0.00            3.8              0.08         0.00             0.6      0.009   \n",
       "0.25            6.4              0.23         0.25             1.8      0.038   \n",
       "0.50            7.0              0.29         0.31             3.0      0.047   \n",
       "0.75            7.7              0.40         0.39             8.1      0.065   \n",
       "1.00           15.9              1.58         1.66            65.8      0.611   \n",
       "\n",
       "      free sulfur dioxide  total sulfur dioxide  density    pH  sulphates  \\\n",
       "0.00                  1.0                   6.0  0.98711  2.72       0.22   \n",
       "0.25                 17.0                  77.0  0.99234  3.11       0.43   \n",
       "0.50                 29.0                 118.0  0.99489  3.21       0.51   \n",
       "0.75                 41.0                 156.0  0.99699  3.32       0.60   \n",
       "1.00                289.0                 440.0  1.03898  4.01       2.00   \n",
       "\n",
       "      alcohol  quality  \n",
       "0.00      8.0      3.0  \n",
       "0.25      9.5      5.0  \n",
       "0.50     10.3      6.0  \n",
       "0.75     11.3      6.0  \n",
       "1.00     14.9      9.0  "
      ]
     },
     "execution_count": 29,
     "metadata": {},
     "output_type": "execute_result"
    }
   ],
   "source": [
    "all_wines.quantile([0, 0.25, 0.5, 0.75, 1])"
   ]
  },
  {
   "cell_type": "code",
   "execution_count": 37,
   "id": "9600e1fb",
   "metadata": {},
   "outputs": [
    {
     "data": {
      "text/html": [
       "<div>\n",
       "<style scoped>\n",
       "    .dataframe tbody tr th:only-of-type {\n",
       "        vertical-align: middle;\n",
       "    }\n",
       "\n",
       "    .dataframe tbody tr th {\n",
       "        vertical-align: top;\n",
       "    }\n",
       "\n",
       "    .dataframe thead th {\n",
       "        text-align: right;\n",
       "    }\n",
       "</style>\n",
       "<table border=\"1\" class=\"dataframe\">\n",
       "  <thead>\n",
       "    <tr style=\"text-align: right;\">\n",
       "      <th></th>\n",
       "      <th>fixed acidity</th>\n",
       "      <th>volatile acidity</th>\n",
       "      <th>citric acid</th>\n",
       "      <th>residual sugar</th>\n",
       "      <th>chlorides</th>\n",
       "      <th>free sulfur dioxide</th>\n",
       "      <th>total sulfur dioxide</th>\n",
       "      <th>density</th>\n",
       "      <th>pH</th>\n",
       "      <th>sulphates</th>\n",
       "      <th>alcohol</th>\n",
       "      <th>quality</th>\n",
       "    </tr>\n",
       "  </thead>\n",
       "  <tbody>\n",
       "    <tr>\n",
       "      <th>count</th>\n",
       "      <td>6497.000000</td>\n",
       "      <td>6497.000000</td>\n",
       "      <td>6497.000000</td>\n",
       "      <td>6497.000000</td>\n",
       "      <td>6497.000000</td>\n",
       "      <td>6497.000000</td>\n",
       "      <td>6497.000000</td>\n",
       "      <td>6497.000000</td>\n",
       "      <td>6497.000000</td>\n",
       "      <td>6497.000000</td>\n",
       "      <td>6497.000000</td>\n",
       "      <td>6497.000000</td>\n",
       "    </tr>\n",
       "    <tr>\n",
       "      <th>mean</th>\n",
       "      <td>7.215307</td>\n",
       "      <td>0.339666</td>\n",
       "      <td>0.318633</td>\n",
       "      <td>5.443235</td>\n",
       "      <td>0.056034</td>\n",
       "      <td>30.525319</td>\n",
       "      <td>115.744574</td>\n",
       "      <td>0.994697</td>\n",
       "      <td>3.218501</td>\n",
       "      <td>0.531268</td>\n",
       "      <td>10.491801</td>\n",
       "      <td>5.818378</td>\n",
       "    </tr>\n",
       "    <tr>\n",
       "      <th>std</th>\n",
       "      <td>1.296434</td>\n",
       "      <td>0.164636</td>\n",
       "      <td>0.145318</td>\n",
       "      <td>4.757804</td>\n",
       "      <td>0.035034</td>\n",
       "      <td>17.749400</td>\n",
       "      <td>56.521855</td>\n",
       "      <td>0.002999</td>\n",
       "      <td>0.160787</td>\n",
       "      <td>0.148806</td>\n",
       "      <td>1.192712</td>\n",
       "      <td>0.873255</td>\n",
       "    </tr>\n",
       "    <tr>\n",
       "      <th>min</th>\n",
       "      <td>3.800000</td>\n",
       "      <td>0.080000</td>\n",
       "      <td>0.000000</td>\n",
       "      <td>0.600000</td>\n",
       "      <td>0.009000</td>\n",
       "      <td>1.000000</td>\n",
       "      <td>6.000000</td>\n",
       "      <td>0.987110</td>\n",
       "      <td>2.720000</td>\n",
       "      <td>0.220000</td>\n",
       "      <td>8.000000</td>\n",
       "      <td>3.000000</td>\n",
       "    </tr>\n",
       "    <tr>\n",
       "      <th>25%</th>\n",
       "      <td>6.400000</td>\n",
       "      <td>0.230000</td>\n",
       "      <td>0.250000</td>\n",
       "      <td>1.800000</td>\n",
       "      <td>0.038000</td>\n",
       "      <td>17.000000</td>\n",
       "      <td>77.000000</td>\n",
       "      <td>0.992340</td>\n",
       "      <td>3.110000</td>\n",
       "      <td>0.430000</td>\n",
       "      <td>9.500000</td>\n",
       "      <td>5.000000</td>\n",
       "    </tr>\n",
       "    <tr>\n",
       "      <th>50%</th>\n",
       "      <td>7.000000</td>\n",
       "      <td>0.290000</td>\n",
       "      <td>0.310000</td>\n",
       "      <td>3.000000</td>\n",
       "      <td>0.047000</td>\n",
       "      <td>29.000000</td>\n",
       "      <td>118.000000</td>\n",
       "      <td>0.994890</td>\n",
       "      <td>3.210000</td>\n",
       "      <td>0.510000</td>\n",
       "      <td>10.300000</td>\n",
       "      <td>6.000000</td>\n",
       "    </tr>\n",
       "    <tr>\n",
       "      <th>75%</th>\n",
       "      <td>7.700000</td>\n",
       "      <td>0.400000</td>\n",
       "      <td>0.390000</td>\n",
       "      <td>8.100000</td>\n",
       "      <td>0.065000</td>\n",
       "      <td>41.000000</td>\n",
       "      <td>156.000000</td>\n",
       "      <td>0.996990</td>\n",
       "      <td>3.320000</td>\n",
       "      <td>0.600000</td>\n",
       "      <td>11.300000</td>\n",
       "      <td>6.000000</td>\n",
       "    </tr>\n",
       "    <tr>\n",
       "      <th>max</th>\n",
       "      <td>15.900000</td>\n",
       "      <td>1.580000</td>\n",
       "      <td>1.660000</td>\n",
       "      <td>65.800000</td>\n",
       "      <td>0.611000</td>\n",
       "      <td>289.000000</td>\n",
       "      <td>440.000000</td>\n",
       "      <td>1.038980</td>\n",
       "      <td>4.010000</td>\n",
       "      <td>2.000000</td>\n",
       "      <td>14.900000</td>\n",
       "      <td>9.000000</td>\n",
       "    </tr>\n",
       "  </tbody>\n",
       "</table>\n",
       "</div>"
      ],
      "text/plain": [
       "       fixed acidity  volatile acidity  citric acid  residual sugar  \\\n",
       "count    6497.000000       6497.000000  6497.000000     6497.000000   \n",
       "mean        7.215307          0.339666     0.318633        5.443235   \n",
       "std         1.296434          0.164636     0.145318        4.757804   \n",
       "min         3.800000          0.080000     0.000000        0.600000   \n",
       "25%         6.400000          0.230000     0.250000        1.800000   \n",
       "50%         7.000000          0.290000     0.310000        3.000000   \n",
       "75%         7.700000          0.400000     0.390000        8.100000   \n",
       "max        15.900000          1.580000     1.660000       65.800000   \n",
       "\n",
       "         chlorides  free sulfur dioxide  total sulfur dioxide      density  \\\n",
       "count  6497.000000          6497.000000           6497.000000  6497.000000   \n",
       "mean      0.056034            30.525319            115.744574     0.994697   \n",
       "std       0.035034            17.749400             56.521855     0.002999   \n",
       "min       0.009000             1.000000              6.000000     0.987110   \n",
       "25%       0.038000            17.000000             77.000000     0.992340   \n",
       "50%       0.047000            29.000000            118.000000     0.994890   \n",
       "75%       0.065000            41.000000            156.000000     0.996990   \n",
       "max       0.611000           289.000000            440.000000     1.038980   \n",
       "\n",
       "                pH    sulphates      alcohol      quality  \n",
       "count  6497.000000  6497.000000  6497.000000  6497.000000  \n",
       "mean      3.218501     0.531268    10.491801     5.818378  \n",
       "std       0.160787     0.148806     1.192712     0.873255  \n",
       "min       2.720000     0.220000     8.000000     3.000000  \n",
       "25%       3.110000     0.430000     9.500000     5.000000  \n",
       "50%       3.210000     0.510000    10.300000     6.000000  \n",
       "75%       3.320000     0.600000    11.300000     6.000000  \n",
       "max       4.010000     2.000000    14.900000     9.000000  "
      ]
     },
     "execution_count": 37,
     "metadata": {},
     "output_type": "execute_result"
    }
   ],
   "source": [
    "all_wines.describe()"
   ]
  },
  {
   "cell_type": "markdown",
   "id": "46eff68b",
   "metadata": {},
   "source": [
    "***"
   ]
  },
  {
   "cell_type": "markdown",
   "id": "e11a80f4",
   "metadata": {},
   "source": [
    "# 4. Plot diagrams that visualize the differences in red and white wines. \n",
    "- What do your diagrams show? \n",
    "- Can you tell which type of wine has higher average quality? \n",
    "- Which type of wine has higher average level of alcohol? \n",
    "- Which one has higher average quantity of residual sugar? "
   ]
  },
  {
   "cell_type": "markdown",
   "id": "65e4bdac",
   "metadata": {},
   "source": [
    "### <span style=\"color:blue\">*What do your diagrams show?*</span>"
   ]
  },
  {
   "cell_type": "code",
   "execution_count": null,
   "id": "c89ee7e6",
   "metadata": {
    "scrolled": true
   },
   "outputs": [],
   "source": [
    "all_wines.groupby('type').mean().plot.bar().legend(loc='center left',bbox_to_anchor=(1.0, 0.5))"
   ]
  },
  {
   "cell_type": "code",
   "execution_count": null,
   "id": "608302a6",
   "metadata": {},
   "outputs": [],
   "source": [
    "# Dividing the variables into different charts, to make sure that all values can be read by human eyes.\n",
    "categories_1 = ['volatile acidity', 'citric acid', 'chlorides', 'sulphates']\n",
    "categories_2 = ['fixed acidity', 'residual sugar', 'density', 'pH', 'alcohol', 'quality']\n",
    "categories_3 = ['free sulfur dioxide', 'total sulfur dioxide']"
   ]
  },
  {
   "cell_type": "code",
   "execution_count": null,
   "id": "ed4dd803",
   "metadata": {},
   "outputs": [],
   "source": [
    "all_wines.groupby('type')[categories_1].mean().plot.bar().legend(loc='center left',bbox_to_anchor=(1.0, 0.5))"
   ]
  },
  {
   "cell_type": "code",
   "execution_count": null,
   "id": "15c49394",
   "metadata": {},
   "outputs": [],
   "source": [
    "all_wines.groupby('type')[categories_2].mean().plot.bar().legend(loc='center left',bbox_to_anchor=(1.0, 0.5))"
   ]
  },
  {
   "cell_type": "code",
   "execution_count": null,
   "id": "20bd4bf6",
   "metadata": {},
   "outputs": [],
   "source": [
    "all_wines.groupby('type')[categories_3].mean().plot.bar().legend(loc='center left',bbox_to_anchor=(1.0, 0.5))"
   ]
  },
  {
   "cell_type": "code",
   "execution_count": null,
   "id": "61d249ac",
   "metadata": {},
   "outputs": [],
   "source": [
    "white_wines.mean(numeric_only=True).plot.pie(autopct = '%1.1f%%', figsize=(15, 15), ylabel='Total average of each column')"
   ]
  },
  {
   "cell_type": "code",
   "execution_count": null,
   "id": "b45f2fb1",
   "metadata": {},
   "outputs": [],
   "source": [
    "# Average value of all columns.\n",
    "all_wines.groupby('type').mean()"
   ]
  },
  {
   "cell_type": "markdown",
   "id": "c2c07ef5",
   "metadata": {},
   "source": [
    "### <span style=\"color:blue\">*Can you tell which type of wine has higher average quality?*</span>"
   ]
  },
  {
   "cell_type": "code",
   "execution_count": null,
   "id": "28418a4e",
   "metadata": {},
   "outputs": [],
   "source": [
    "all_wines.groupby('type')['quality'].mean()"
   ]
  },
  {
   "cell_type": "markdown",
   "id": "3f75e694",
   "metadata": {},
   "source": [
    "### <span style=\"color:blue\">*Which type of wine has higher average level of alcohol?*</span>"
   ]
  },
  {
   "cell_type": "code",
   "execution_count": null,
   "id": "59d40fa8",
   "metadata": {},
   "outputs": [],
   "source": [
    "all_wines.groupby('type')['alcohol'].mean()"
   ]
  },
  {
   "cell_type": "markdown",
   "id": "c505bf39",
   "metadata": {},
   "source": [
    "### <span style=\"color:blue\">*Which one has higher average quantity of residual sugar?*</span>"
   ]
  },
  {
   "cell_type": "code",
   "execution_count": null,
   "id": "a25962bf",
   "metadata": {},
   "outputs": [],
   "source": [
    "all_wines.groupby('type')['residual sugar'].mean()"
   ]
  },
  {
   "cell_type": "markdown",
   "id": "1d25ef54",
   "metadata": {},
   "source": [
    "***"
   ]
  },
  {
   "cell_type": "markdown",
   "id": "3fd0c61e",
   "metadata": {},
   "source": [
    "# 5. Split the data into five subsets by binning the attribute pH. \n",
    "- Identify the subset with the highest density? \n",
    "- What if you split the data in ten subsets?"
   ]
  },
  {
   "cell_type": "markdown",
   "id": "43fa17f1",
   "metadata": {},
   "source": [
    "## <span style=color:orange>The most straightforward way of creating subsets...</span>"
   ]
  },
  {
   "cell_type": "code",
   "execution_count": null,
   "id": "6c5e0814",
   "metadata": {},
   "outputs": [],
   "source": [
    "# Creating subsets based on hardcoded values\n",
    "subset_1 = all_wines.loc[all_wines.pH <= 3 ]\n",
    "subset_2 = all_wines.loc[(all_wines.pH > 3) & (all_wines.pH < 3.25)]\n",
    "subset_3 = all_wines.loc[(all_wines.pH > 3.25) & (all_wines.pH < 3.50)]\n",
    "subset_4 = all_wines.loc[(all_wines.pH > 3.50) & (all_wines.pH < 3.75)]\n",
    "subset_5 = all_wines.loc[(all_wines.pH > 3.75)]"
   ]
  },
  {
   "cell_type": "code",
   "execution_count": null,
   "id": "15c23fe2",
   "metadata": {},
   "outputs": [],
   "source": [
    "# Printing the count of entries in each subset\n",
    "print(len(subset_1))\n",
    "print(len(subset_2))\n",
    "print(len(subset_3))\n",
    "print(len(subset_4))\n",
    "print(len(subset_5))"
   ]
  },
  {
   "cell_type": "code",
   "execution_count": null,
   "id": "ca0c20fb",
   "metadata": {},
   "outputs": [],
   "source": [
    "# Showing the count of rows in subsets in a 'Bar Plot'\n",
    "pd.Series([len(subset_1), len(subset_2), len(subset_3), len(subset_4), len(subset_5)],[1, 2, 3, 4, 5]).plot(kind='barh', figsize=(10, 5))"
   ]
  },
  {
   "cell_type": "markdown",
   "id": "b3adf93c",
   "metadata": {},
   "source": [
    "## <span style=color:orange>Better way of creating subsets...</span>"
   ]
  },
  {
   "cell_type": "code",
   "execution_count": null,
   "id": "7612af6e",
   "metadata": {
    "scrolled": true
   },
   "outputs": [],
   "source": [
    "# Identifying where to split the dataframe, to create equal sized subsets.\n",
    "all_wines['pH'].quantile([0, 0.2, 0.4, 0.6, 0.8, 1])"
   ]
  },
  {
   "cell_type": "code",
   "execution_count": null,
   "id": "6f0e0ae1",
   "metadata": {},
   "outputs": [],
   "source": [
    "subset_1 = all_wines.loc[(all_wines['pH'] <= 3.08)]\n",
    "subset_2 = all_wines.loc[(all_wines['pH'] <= 3.17) & (all_wines['pH'] > 3.08)]\n",
    "subset_3 = all_wines.loc[(all_wines['pH'] <= 3.25) & (all_wines['pH'] > 3.17)]\n",
    "subset_4 = all_wines.loc[(all_wines['pH'] <= 3.35) & (all_wines['pH'] > 3.25)]\n",
    "subset_5 = all_wines.loc[(all_wines['pH'] > 3.35)]\n"
   ]
  },
  {
   "cell_type": "code",
   "execution_count": null,
   "id": "09f2eb73",
   "metadata": {},
   "outputs": [],
   "source": [
    "# Showing the count of rows in subsets in a 'Bar Plot'\n",
    "pd.Series([len(subset_1), len(subset_2), len(subset_3), len(subset_4), len(subset_5)],[1, 2, 3, 4, 5]).plot(kind='barh', figsize=(10, 5))"
   ]
  },
  {
   "cell_type": "markdown",
   "id": "2a280bbe",
   "metadata": {},
   "source": [
    "***"
   ]
  },
  {
   "cell_type": "markdown",
   "id": "6bd89479",
   "metadata": {},
   "source": [
    "# 6. Use the function corr() to create a correlation matrix of all data and investigate it. \n",
    "- Can you tell which vine attribute has the biggest influence on the wine quality? \n",
    "- Do you get the same results when you analyze the red and white wine data sets separately?"
   ]
  },
  {
   "cell_type": "markdown",
   "id": "5bf52c6e",
   "metadata": {},
   "source": [
    "### <span style=\"color:blue\">*Which wine attribute has the biggest influence on the wine quality?*</span>"
   ]
  },
  {
   "cell_type": "code",
   "execution_count": null,
   "id": "2be60b8e",
   "metadata": {
    "scrolled": false
   },
   "outputs": [],
   "source": [
    "all_wines.corr()"
   ]
  },
  {
   "cell_type": "markdown",
   "id": "9953f499",
   "metadata": {},
   "source": [
    "### <span style=\"color:green\"><u>Conclusion:</u></span>\n",
    "### <span style=\"color:green\"><u>Alcohol</u> has the biggest influence on wine quality.</span>"
   ]
  },
  {
   "cell_type": "markdown",
   "id": "171334b4",
   "metadata": {
    "scrolled": false
   },
   "source": [
    "### <span style=\"color:blue\">*Do you get the same results when you analyze the red and white wine data sets separately?*</span>"
   ]
  },
  {
   "cell_type": "code",
   "execution_count": null,
   "id": "e3491b56",
   "metadata": {},
   "outputs": [],
   "source": [
    "red_wines.corr()"
   ]
  },
  {
   "cell_type": "code",
   "execution_count": null,
   "id": "8f0ff4f3",
   "metadata": {
    "scrolled": false
   },
   "outputs": [],
   "source": [
    "white_wines.corr()"
   ]
  },
  {
   "cell_type": "markdown",
   "id": "2bb8a86a",
   "metadata": {},
   "source": [
    "### <span style=\"color:green\"><u>Conclusion:</u></span>\n",
    "### <span style=\"color:green\">It's still <u>alcohol</u> which has the biggest influence on wine quality. </span>\n",
    "### <span style=\"color:green\">Though it's worth to notice that <u>sulphates</u> has much bigger effect on quality in red wines, than in white wines.</span>"
   ]
  },
  {
   "cell_type": "markdown",
   "id": "32608809",
   "metadata": {},
   "source": [
    "***"
   ]
  },
  {
   "cell_type": "markdown",
   "id": "bdf65d25",
   "metadata": {},
   "source": [
    "# <center><span style=\"color: blue\">Prepare the data for further analysis</span></center>"
   ]
  },
  {
   "cell_type": "markdown",
   "id": "d8030cae",
   "metadata": {},
   "source": [
    "# 7. Search the data for allocating\n",
    "- Missing values\n",
    "- Cells with a value of ‘0’ (zero)\n",
    "\n",
    "Replace these values with the average value of their column."
   ]
  },
  {
   "cell_type": "markdown",
   "id": "a1ab8fcc",
   "metadata": {},
   "source": [
    "***"
   ]
  },
  {
   "cell_type": "markdown",
   "id": "483000de",
   "metadata": {},
   "source": [
    "### <span style=\"color: blue\">*Finding missing values*</span>"
   ]
  },
  {
   "cell_type": "code",
   "execution_count": null,
   "id": "c6b806ad",
   "metadata": {},
   "outputs": [],
   "source": [
    "all_wines.isnull().sum()"
   ]
  },
  {
   "cell_type": "code",
   "execution_count": null,
   "id": "19a2339e",
   "metadata": {},
   "outputs": [],
   "source": [
    "(all_wines == 0).sum()"
   ]
  },
  {
   "cell_type": "markdown",
   "id": "3c8b0ad5",
   "metadata": {},
   "source": [
    "***"
   ]
  },
  {
   "cell_type": "markdown",
   "id": "3bc258e3",
   "metadata": {},
   "source": [
    "### <span style=\"color: blue\">*Replace these values with the average value of their column.*</span>"
   ]
  },
  {
   "cell_type": "markdown",
   "id": "94dcf917",
   "metadata": {},
   "source": [
    "#### Checking the values of red, white and both."
   ]
  },
  {
   "cell_type": "code",
   "execution_count": null,
   "id": "68cb5e24",
   "metadata": {},
   "outputs": [],
   "source": [
    "all_wines['citric acid'].mean()"
   ]
  },
  {
   "cell_type": "code",
   "execution_count": null,
   "id": "af18084d",
   "metadata": {},
   "outputs": [],
   "source": [
    "red_wines['citric acid'].mean()"
   ]
  },
  {
   "cell_type": "code",
   "execution_count": null,
   "id": "669928a0",
   "metadata": {},
   "outputs": [],
   "source": [
    "white_wines['citric acid'].mean()"
   ]
  },
  {
   "cell_type": "markdown",
   "id": "dbe16da1",
   "metadata": {},
   "source": [
    "#### Inserting average values of missing fields."
   ]
  },
  {
   "cell_type": "code",
   "execution_count": null,
   "id": "8212e2b0",
   "metadata": {},
   "outputs": [],
   "source": [
    "red_wines['citric acid']=red_wines['citric acid'].replace(0,red_wines['citric acid'].mean())"
   ]
  },
  {
   "cell_type": "code",
   "execution_count": null,
   "id": "26f2d6a8",
   "metadata": {},
   "outputs": [],
   "source": [
    "white_wines['citric acid']=white_wines['citric acid'].replace(0,white_wines['citric acid'].mean())"
   ]
  },
  {
   "cell_type": "code",
   "execution_count": null,
   "id": "a5753ad4",
   "metadata": {},
   "outputs": [],
   "source": [
    "all_wines = pd.concat([red_wines, white_wines])\n",
    "# Reset the index files, so every entry has their own id.\n",
    "all_wines.reset_index(drop=True, inplace=True)"
   ]
  },
  {
   "cell_type": "code",
   "execution_count": null,
   "id": "5485dc01",
   "metadata": {},
   "outputs": [],
   "source": [
    "(all_wines == 0).sum()"
   ]
  },
  {
   "cell_type": "code",
   "execution_count": null,
   "id": "e2816f0f",
   "metadata": {},
   "outputs": [],
   "source": [
    "all_wines['citric acid'].mean()"
   ]
  },
  {
   "cell_type": "code",
   "execution_count": null,
   "id": "31e5bcf2",
   "metadata": {},
   "outputs": [],
   "source": [
    "red_wines['citric acid'].mean()"
   ]
  },
  {
   "cell_type": "code",
   "execution_count": null,
   "id": "e992e0db",
   "metadata": {},
   "outputs": [],
   "source": [
    "white_wines['citric acid'].mean()"
   ]
  },
  {
   "cell_type": "markdown",
   "id": "48f7941a",
   "metadata": {},
   "source": [
    "### Here we can see the impact that it made on average \"Citric Acid\" values: \n",
    "#### - All wines = 0.3186 --> 0.3251\n",
    "#### - Red wines = 0.2710 --> 0.2933\n",
    "#### - White wines = 0.3342 --> 0.3355\n",
    "### So maybe not the biggest impact, but still important to make more accurate statistics"
   ]
  },
  {
   "cell_type": "markdown",
   "id": "348f86be",
   "metadata": {},
   "source": [
    "***"
   ]
  },
  {
   "cell_type": "markdown",
   "id": "9835e732",
   "metadata": {},
   "source": [
    "# 8. Explore the feature ‘residual sugar’. \n",
    "- Is there any outlier (a value much different from the rest)? \n",
    "- On which row is it found? \n",
    "- Remove that row."
   ]
  },
  {
   "cell_type": "code",
   "execution_count": null,
   "id": "a792b59b",
   "metadata": {},
   "outputs": [],
   "source": [
    "all_wines['residual sugar'].mean()"
   ]
  },
  {
   "cell_type": "code",
   "execution_count": null,
   "id": "c0ac7b8c",
   "metadata": {},
   "outputs": [],
   "source": [
    "temp_wines = all_wines.sort_values(by = \"residual sugar\")"
   ]
  },
  {
   "cell_type": "code",
   "execution_count": null,
   "id": "6d1bf0de",
   "metadata": {},
   "outputs": [],
   "source": [
    "temp_wines.tail()"
   ]
  },
  {
   "cell_type": "markdown",
   "id": "21646ec1",
   "metadata": {},
   "source": [
    "#### On which row is it found?\n",
    "#### <u>Row 4380</u> as we can see above\n",
    "#### Remove that row"
   ]
  },
  {
   "cell_type": "code",
   "execution_count": null,
   "id": "f24b509d",
   "metadata": {},
   "outputs": [],
   "source": [
    "all_wines.index[4380]"
   ]
  },
  {
   "cell_type": "code",
   "execution_count": null,
   "id": "47fe17d4",
   "metadata": {},
   "outputs": [],
   "source": [
    "all_wines = all_wines[all_wines['residual sugar'] != 65.80]"
   ]
  },
  {
   "cell_type": "code",
   "execution_count": null,
   "id": "7b3ebf3a",
   "metadata": {},
   "outputs": [],
   "source": [
    "all_wines.index[4380]"
   ]
  },
  {
   "cell_type": "markdown",
   "id": "d28afb6e",
   "metadata": {},
   "source": [
    "# 9. Identify the attribute with the lowest correlation to the wine quality and remove it."
   ]
  },
  {
   "cell_type": "code",
   "execution_count": null,
   "id": "25e5c172",
   "metadata": {},
   "outputs": [],
   "source": [
    "all_wines.corr()"
   ]
  },
  {
   "cell_type": "markdown",
   "id": "4cd96994",
   "metadata": {},
   "source": [
    "#### <span style=\"color: green\">The attribute with the lowest impact on quality is <u>pH</u>. (Closest to zero.)</span>"
   ]
  },
  {
   "cell_type": "code",
   "execution_count": null,
   "id": "1468e622",
   "metadata": {},
   "outputs": [],
   "source": [
    "all_wines = all_wines.drop(['pH'], axis = 1)"
   ]
  },
  {
   "cell_type": "code",
   "execution_count": null,
   "id": "bfddf1a4",
   "metadata": {},
   "outputs": [],
   "source": [
    "all_wines.head()"
   ]
  },
  {
   "cell_type": "markdown",
   "id": "a58e5175",
   "metadata": {},
   "source": [
    "# 10. Finally, transform categorical data into numeric and print out the start and the end of the preprocessed data frame."
   ]
  },
  {
   "cell_type": "markdown",
   "id": "2c4647b2",
   "metadata": {},
   "source": [
    "#### The only categorical data, is the column called 'type', which was created in the beginning\n",
    "#### Changing it so <span style=\"color: red\">red = 0</span> and <span style=\"color: blue\">white = 1</span>:"
   ]
  },
  {
   "cell_type": "code",
   "execution_count": null,
   "id": "914df096",
   "metadata": {},
   "outputs": [],
   "source": [
    "all_wines['type'].replace(['red', 'white'], [0, 1], inplace=True)"
   ]
  },
  {
   "cell_type": "code",
   "execution_count": null,
   "id": "1760d9c1",
   "metadata": {},
   "outputs": [],
   "source": [
    "all_wines.head()"
   ]
  },
  {
   "cell_type": "code",
   "execution_count": null,
   "id": "6bb21eeb",
   "metadata": {},
   "outputs": [],
   "source": [
    "all_wines.tail()"
   ]
  }
 ],
 "metadata": {
  "kernelspec": {
   "display_name": "Python 3 (ipykernel)",
   "language": "python",
   "name": "python3"
  },
  "language_info": {
   "codemirror_mode": {
    "name": "ipython",
    "version": 3
   },
   "file_extension": ".py",
   "mimetype": "text/x-python",
   "name": "python",
   "nbconvert_exporter": "python",
   "pygments_lexer": "ipython3",
   "version": "3.10.2"
  }
 },
 "nbformat": 4,
 "nbformat_minor": 5
}
