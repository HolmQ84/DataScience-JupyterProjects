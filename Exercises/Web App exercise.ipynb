{
 "cells": [
  {
   "cell_type": "markdown",
   "metadata": {},
   "source": [
    "# Exercise 4:  Reusing Stored Model in Web App"
   ]
  },
  {
   "cell_type": "markdown",
   "metadata": {},
   "source": [
    "## Load and Test the Model from a File"
   ]
  },
  {
   "cell_type": "code",
   "execution_count": 1,
   "metadata": {},
   "outputs": [],
   "source": [
    "# For serialization and deserialization of data from/to file\n",
    "# from sklearn.externals \n",
    "import joblib\n",
    "msmodel = joblib.load('../storedFiles/msmodel.pkl')"
   ]
  },
  {
   "cell_type": "code",
   "execution_count": 2,
   "metadata": {},
   "outputs": [
    {
     "data": {
      "text/plain": [
       "array([1], dtype=int64)"
      ]
     },
     "execution_count": 2,
     "metadata": {},
     "output_type": "execute_result"
    }
   ],
   "source": [
    "# Test reading from the file\n",
    "my_prediction = msmodel.predict([[137,  83]])\n",
    "my_prediction"
   ]
  },
  {
   "cell_type": "markdown",
   "metadata": {},
   "source": [
    "## Install Flask"
   ]
  },
  {
   "cell_type": "code",
   "execution_count": 3,
   "metadata": {},
   "outputs": [
    {
     "name": "stdout",
     "output_type": "stream",
     "text": [
      "Collecting flask-bootstrap\n",
      "  Downloading Flask-Bootstrap-3.3.7.1.tar.gz (456 kB)\n",
      "     -------------------------------------- 456.4/456.4 KB 7.2 MB/s eta 0:00:00\n",
      "  Preparing metadata (setup.py): started\n",
      "  Preparing metadata (setup.py): finished with status 'done'\n",
      "Collecting Flask>=0.8\n",
      "  Downloading Flask-2.1.2-py3-none-any.whl (95 kB)\n",
      "     ---------------------------------------- 95.2/95.2 KB ? eta 0:00:00\n",
      "Collecting dominate\n",
      "  Downloading dominate-2.6.0-py2.py3-none-any.whl (29 kB)\n",
      "Collecting visitor\n",
      "  Downloading visitor-0.1.3.tar.gz (3.3 kB)\n",
      "  Preparing metadata (setup.py): started\n",
      "  Preparing metadata (setup.py): finished with status 'done'\n",
      "Requirement already satisfied: click>=8.0 in c:\\python310\\lib\\site-packages (from Flask>=0.8->flask-bootstrap) (8.0.3)\n",
      "Collecting itsdangerous>=2.0\n",
      "  Downloading itsdangerous-2.1.2-py3-none-any.whl (15 kB)\n",
      "Collecting Werkzeug>=2.0\n",
      "  Downloading Werkzeug-2.1.2-py3-none-any.whl (224 kB)\n",
      "     ------------------------------------- 224.9/224.9 KB 14.3 MB/s eta 0:00:00\n",
      "Requirement already satisfied: Jinja2>=3.0 in c:\\python310\\lib\\site-packages (from Flask>=0.8->flask-bootstrap) (3.0.3)\n",
      "Requirement already satisfied: colorama in c:\\python310\\lib\\site-packages (from click>=8.0->Flask>=0.8->flask-bootstrap) (0.4.4)\n",
      "Requirement already satisfied: MarkupSafe>=2.0 in c:\\python310\\lib\\site-packages (from Jinja2>=3.0->Flask>=0.8->flask-bootstrap) (2.0.1)\n",
      "Building wheels for collected packages: flask-bootstrap, visitor\n",
      "  Building wheel for flask-bootstrap (setup.py): started\n",
      "  Building wheel for flask-bootstrap (setup.py): finished with status 'done'\n",
      "  Created wheel for flask-bootstrap: filename=Flask_Bootstrap-3.3.7.1-py3-none-any.whl size=460123 sha256=03d814bb85e51fa1f5081347965cc6ef19e782e6e0209b45af4c71451247dc38\n",
      "  Stored in directory: c:\\users\\marti\\appdata\\local\\pip\\cache\\wheels\\6f\\33\\ad\\26540e84a28334e5dfeda756df270f95353779f03bc5cf40d4\n",
      "  Building wheel for visitor (setup.py): started\n",
      "  Building wheel for visitor (setup.py): finished with status 'done'\n",
      "  Created wheel for visitor: filename=visitor-0.1.3-py3-none-any.whl size=3946 sha256=40543fcdba77787d792d3ccadbde589ed73db06eebb1451bc963ee149c5d14b8\n",
      "  Stored in directory: c:\\users\\marti\\appdata\\local\\pip\\cache\\wheels\\19\\31\\99\\2ec5b4459cac4d801d6201d501a354366d180afc9f8bb2d333\n",
      "Successfully built flask-bootstrap visitor\n",
      "Installing collected packages: visitor, Werkzeug, itsdangerous, dominate, Flask, flask-bootstrap\n"
     ]
    },
    {
     "name": "stderr",
     "output_type": "stream",
     "text": [
      "  WARNING: Failed to write executable - trying to use .deleteme logic\n",
      "ERROR: Could not install packages due to an OSError: [WinError 2] Den angivne fil blev ikke fundet: 'C:\\\\Python310\\\\Scripts\\\\flask.exe' -> 'C:\\\\Python310\\\\Scripts\\\\flask.exe.deleteme'\n",
      "\n"
     ]
    }
   ],
   "source": [
    "!pip install flask-bootstrap"
   ]
  },
  {
   "cell_type": "code",
   "execution_count": 4,
   "metadata": {},
   "outputs": [
    {
     "name": "stdout",
     "output_type": "stream",
     "text": [
      "Collecting wtforms\n",
      "  Downloading WTForms-3.0.1-py3-none-any.whl (136 kB)\n",
      "     -------------------------------------- 136.5/136.5 KB 2.7 MB/s eta 0:00:00\n",
      "Requirement already satisfied: MarkupSafe in c:\\python310\\lib\\site-packages (from wtforms) (2.0.1)\n",
      "Installing collected packages: wtforms\n",
      "Successfully installed wtforms-3.0.1\n"
     ]
    }
   ],
   "source": [
    "!pip install wtforms"
   ]
  },
  {
   "cell_type": "markdown",
   "metadata": {},
   "source": [
    "## Create Flask Web Server"
   ]
  },
  {
   "cell_type": "code",
   "execution_count": 5,
   "metadata": {},
   "outputs": [
    {
     "name": "stdout",
     "output_type": "stream",
     "text": [
      "Overwriting mswebapp.py\n"
     ]
    }
   ],
   "source": [
    "%%writefile mswebapp.py\n",
    "\n",
    "# Import libraries\n",
    "import numpy as np\n",
    "\n",
    "# from sklearn.externals \n",
    "import joblib\n",
    "import pickle\n",
    "from flask import Flask, request, jsonify, render_template\n",
    "\n",
    "# create an instance (our app)\n",
    "app = Flask(__name__, template_folder='../templates')\n",
    "# app = Flask(__name__)\n",
    "\n",
    "msmodel = joblib.load('../storedFiles/msmodel.pkl')\n",
    "\n",
    "@app.route('/', methods=['GET', 'POST'])\n",
    "\n",
    "@app.route('/hi/<name>')\n",
    "def hello(name = None):\n",
    "    return render_template('start.html', name=name)\n",
    "# name is parameter in the template: {{name}}\n",
    "\n",
    "@app.route('/predict')\n",
    "def predict():\n",
    "    return render_template('prediction.html')\n",
    "\n",
    "@app.route('/predicted', methods=['GET', 'POST'])\n",
    "def predicted():\n",
    "    if request.method == 'POST':\n",
    "        x1 = request.form['x1']\n",
    "        x2 = request.form['x2']\n",
    "        X = [[x1, x2]]\n",
    "        predicted = msmodel.predict(X)\n",
    "          \n",
    "        return render_template(\"predicted.html\", content=X, prediction=predicted)\n",
    "    \n",
    "@app.route('/bye')\n",
    "def bye():\n",
    "    return render_template('bye.html')\n",
    "\n",
    "if __name__ == '__main__':\n",
    "    app.run(debug=True)"
   ]
  },
  {
   "cell_type": "code",
   "execution_count": null,
   "metadata": {},
   "outputs": [],
   "source": [
    "!python mswebapp.py"
   ]
  },
  {
   "cell_type": "code",
   "execution_count": null,
   "metadata": {},
   "outputs": [],
   "source": [
    "msmodel.predict([[137, 18]])"
   ]
  },
  {
   "cell_type": "code",
   "execution_count": null,
   "metadata": {},
   "outputs": [],
   "source": []
  }
 ],
 "metadata": {
  "kernelspec": {
   "display_name": "Python 3 (ipykernel)",
   "language": "python",
   "name": "python3"
  },
  "language_info": {
   "codemirror_mode": {
    "name": "ipython",
    "version": 3
   },
   "file_extension": ".py",
   "mimetype": "text/x-python",
   "name": "python",
   "nbconvert_exporter": "python",
   "pygments_lexer": "ipython3",
   "version": "3.10.4"
  }
 },
 "nbformat": 4,
 "nbformat_minor": 2
}
