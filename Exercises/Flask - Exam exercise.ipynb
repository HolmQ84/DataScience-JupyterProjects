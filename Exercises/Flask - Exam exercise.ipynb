{
 "cells": [
  {
   "cell_type": "code",
   "execution_count": 1,
   "id": "f8d3a0ae",
   "metadata": {},
   "outputs": [
    {
     "name": "stdout",
     "output_type": "stream",
     "text": [
      "Requirement already satisfied: plotly in c:\\python310\\lib\\site-packages (5.7.0)\n",
      "Requirement already satisfied: six in c:\\python310\\lib\\site-packages (from plotly) (1.16.0)\n",
      "Requirement already satisfied: tenacity>=6.2.0 in c:\\python310\\lib\\site-packages (from plotly) (8.0.1)\n"
     ]
    }
   ],
   "source": [
    "!pip install plotly"
   ]
  },
  {
   "cell_type": "code",
   "execution_count": 2,
   "id": "9f8ea84a",
   "metadata": {},
   "outputs": [
    {
     "name": "stdout",
     "output_type": "stream",
     "text": [
      "Overwriting mswebapp.py\n"
     ]
    }
   ],
   "source": [
    "%%writefile mswebapp.py\n",
    "\n",
    "# Import libraries\n",
    "import numpy as np\n",
    "import pandas as pd\n",
    "import json\n",
    "import plotly\n",
    "import plotly.express as px\n",
    "\n",
    "# from sklearn.externals \n",
    "import joblib\n",
    "import pickle\n",
    "from flask import Flask, request, jsonify, render_template\n",
    "\n",
    "# create an instance (our app)\n",
    "app = Flask(__name__, template_folder='../templates')\n",
    "# app = Flask(__name__)\n",
    "\n",
    "@app.route('/', methods=['GET', 'POST'])\n",
    "\n",
    "@app.route('/hi/<name>')\n",
    "def hello(name = None):\n",
    "    return render_template('start.html', name=name)\n",
    "# name is parameter in the template: {{name}}\n",
    "\n",
    "@app.route('/predict')\n",
    "def predict():\n",
    "    return render_template('prediction.html')\n",
    "\n",
    "@app.route('/predicted', methods=['GET', 'POST'])\n",
    "def predicted():\n",
    "    if request.method == 'POST':\n",
    "        x1 = request.form['x1']\n",
    "        x2 = request.form['x2']\n",
    "        X = [[x1, x2]]\n",
    "        predicted = msmodel.predict(X)\n",
    "          \n",
    "        return render_template(\"predicted.html\", content=X, prediction=predicted)\n",
    "    \n",
    "@app.route('/bye')\n",
    "def bye():\n",
    "    return render_template('bye.html')\n",
    "\n",
    "@app.route('/test')\n",
    "def notdash():\n",
    "   df = pd.DataFrame({\n",
    "      'Fruit': ['Apples', 'Oranges', 'Bananas', 'Apples', 'Oranges', \n",
    "      'Bananas'],\n",
    "      'Amount': [4, 1, 2, 2, 4, 5],\n",
    "      'City': ['SF', 'SF', 'SF', 'Montreal', 'Montreal', 'Montreal']\n",
    "   })\n",
    "   fig = px.bar(df, x='Fruit', y='Amount', color='City', \n",
    "      barmode='group')\n",
    "   graphJSON = json.dumps(fig, cls=plotly.utils.PlotlyJSONEncoder)\n",
    "   return render_template('flaskpytest.html', graphJSON=graphJSON)\n",
    "\n",
    "@app.route('/setValues')\n",
    "def setValues():\n",
    "    return render_template('setValues.html')\n",
    "\n",
    "@app.route('/getCharts', methods=['GET', 'POST'])\n",
    "def getCharts():\n",
    "    if request.method == 'POST':\n",
    "        value1name = request.form['value1name']\n",
    "        value2name = request.form['value2name']\n",
    "        value3name = request.form['value3name']\n",
    "        value4name = request.form['value4name']\n",
    "        value1amount = request.form['value1amount']\n",
    "        value2amount = request.form['value2amount']\n",
    "        value3amount = request.form['value3amount']\n",
    "        value4amount = request.form['value4amount']\n",
    "        \n",
    "        names = [value1name, value2name, value3name, value4name]\n",
    "        amounts = [value1amount, value2amount, value3amount, value4amount]\n",
    "        \n",
    "        df = pd.DataFrame({\n",
    "            'Name': names,\n",
    "            'Amount': amounts\n",
    "        })\n",
    "        fig2 = px.pie(df, values='Amount', names='Name')\n",
    "        graphJSON2 = json.dumps(fig2, cls=plotly.utils.PlotlyJSONEncoder)\n",
    "        return render_template(\"getCharts.html\", graphJSON=graphJSON2)\n",
    "\n",
    "if __name__ == '__main__':\n",
    "    app.run(debug=True)"
   ]
  },
  {
   "cell_type": "code",
   "execution_count": null,
   "id": "4d47116a",
   "metadata": {},
   "outputs": [],
   "source": [
    "!python mswebapp.py"
   ]
  },
  {
   "cell_type": "code",
   "execution_count": null,
   "id": "1c4512ff",
   "metadata": {},
   "outputs": [],
   "source": [
    "import pandas as pd\n",
    "import plotly.express as px\n",
    "\n",
    "names = ['value1name', 'value2name', 'value3name', 'value4name']\n",
    "amounts = [1, 2, 3, 4]\n",
    "\n",
    "df = pd.DataFrame({\n",
    "    'Name': names,\n",
    "    'Amount': amounts\n",
    "})\n",
    "\n",
    "df"
   ]
  },
  {
   "cell_type": "code",
   "execution_count": null,
   "id": "1a0b6854",
   "metadata": {},
   "outputs": [],
   "source": [
    "fig = px.bar(df, x='Name', y='Amount', barmode='group')\n",
    "fig"
   ]
  },
  {
   "cell_type": "code",
   "execution_count": null,
   "id": "cdaffad6",
   "metadata": {},
   "outputs": [],
   "source": [
    "fig = px.pie(df, values='Amount', names='Name')\n",
    "fig.show()"
   ]
  },
  {
   "cell_type": "code",
   "execution_count": null,
   "id": "00482bbc",
   "metadata": {},
   "outputs": [],
   "source": []
  }
 ],
 "metadata": {
  "kernelspec": {
   "display_name": "Python 3 (ipykernel)",
   "language": "python",
   "name": "python3"
  },
  "language_info": {
   "codemirror_mode": {
    "name": "ipython",
    "version": 3
   },
   "file_extension": ".py",
   "mimetype": "text/x-python",
   "name": "python",
   "nbconvert_exporter": "python",
   "pygments_lexer": "ipython3",
   "version": "3.10.4"
  }
 },
 "nbformat": 4,
 "nbformat_minor": 5
}
