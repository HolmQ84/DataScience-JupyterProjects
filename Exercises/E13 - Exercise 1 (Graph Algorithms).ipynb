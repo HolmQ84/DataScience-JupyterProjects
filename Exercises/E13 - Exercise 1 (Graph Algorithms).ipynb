{
 "cells": [
  {
   "cell_type": "markdown",
   "id": "f84ceca6",
   "metadata": {},
   "source": [
    "# E13 - Exercise 1: Graph Algorithms\n",
    "In the directory E13-1-GDS-Examples at the repository soft2022spring-DS you will find\n",
    "airports data and processing graph algorithms.\\\n",
    "Your task is to wrangle the available data into a graph database and create a Python\n",
    "application, which performs the major graph data science algorithms on the database.\n",
    "Reuse the available code as much as possible."
   ]
  },
  {
   "cell_type": "code",
   "execution_count": 1,
   "id": "29d6955c",
   "metadata": {},
   "outputs": [],
   "source": [
    "import numpy as np\n",
    "import pandas as pd\n",
    "import matplotlib.pyplot as plt\n",
    "\n",
    "from neo4j import GraphDatabase"
   ]
  },
  {
   "cell_type": "markdown",
   "id": "ea48f10b",
   "metadata": {},
   "source": [
    "### Make a connection class"
   ]
  },
  {
   "cell_type": "code",
   "execution_count": 2,
   "id": "de9f1d28",
   "metadata": {},
   "outputs": [],
   "source": [
    "class Neo4jConnection:\n",
    "    \n",
    "    def __init__(self, uri, user, pwd):\n",
    "        self.__uri = uri\n",
    "        self.__user = user\n",
    "        self.__pwd = pwd\n",
    "        self.__driver = None\n",
    "        try:\n",
    "            self.__driver = GraphDatabase.driver(self.__uri, auth=(self.__user, self.__pwd))\n",
    "        except Exception as e:\n",
    "            print(\"Failed to create the driver:\", e)\n",
    "        \n",
    "    def close(self):\n",
    "        if self.__driver is not None:\n",
    "            self.__driver.close()\n",
    "        \n",
    "    def query(self, query, parameters=None, db=None):\n",
    "        assert self.__driver is not None, \"Driver not initialized!\"\n",
    "        session = None\n",
    "        response = None\n",
    "        try: \n",
    "            session = self.__driver.session(database=db) if db is not None else self.__driver.session() \n",
    "            response = list(session.run(query, parameters))\n",
    "        except Exception as e:\n",
    "            print(\"Query failed:\", e)\n",
    "        finally: \n",
    "            if session is not None:\n",
    "                session.close()\n",
    "        return response"
   ]
  },
  {
   "cell_type": "markdown",
   "id": "ffe0e7a0",
   "metadata": {},
   "source": [
    "### Connect to the Neo4J DB."
   ]
  },
  {
   "cell_type": "code",
   "execution_count": 3,
   "id": "fa9ade3d",
   "metadata": {},
   "outputs": [],
   "source": [
    "uri = 'bolt://localhost:7687'\n",
    "pwd = 'test1234'\n",
    "\n",
    "conn = Neo4jConnection(uri=uri, user=\"neo4j\", pwd=pwd)"
   ]
  },
  {
   "cell_type": "markdown",
   "id": "933f85e6",
   "metadata": {},
   "source": [
    "### Return the number of nodes."
   ]
  },
  {
   "cell_type": "code",
   "execution_count": 4,
   "id": "8b95a560",
   "metadata": {},
   "outputs": [
    {
     "name": "stdout",
     "output_type": "stream",
     "text": [
      "Number of nodes:  8627\n"
     ]
    }
   ],
   "source": [
    "result = conn.query('MATCH (n) RETURN COUNT(n) AS count')\n",
    "\n",
    "print('Number of nodes: ', result[0]['count'])"
   ]
  },
  {
   "cell_type": "markdown",
   "id": "11fa68cd",
   "metadata": {},
   "source": [
    "### Return the number of relationships."
   ]
  },
  {
   "cell_type": "code",
   "execution_count": 5,
   "id": "fabc4f36",
   "metadata": {},
   "outputs": [
    {
     "name": "stdout",
     "output_type": "stream",
     "text": [
      "Number of relationships:  73954\n"
     ]
    }
   ],
   "source": [
    "result = conn.query('MATCH ()-[r]->() RETURN COUNT(r) AS count')\n",
    "\n",
    "print('Number of relationships: ', result[0]['count'])"
   ]
  },
  {
   "cell_type": "markdown",
   "id": "46808b3d",
   "metadata": {},
   "source": [
    "### Return the amount of 'In Degree' relations for each city (Limit by 10)"
   ]
  },
  {
   "cell_type": "code",
   "execution_count": 6,
   "id": "4ebfbd08",
   "metadata": {},
   "outputs": [
    {
     "data": {
      "text/html": [
       "<div>\n",
       "<style scoped>\n",
       "    .dataframe tbody tr th:only-of-type {\n",
       "        vertical-align: middle;\n",
       "    }\n",
       "\n",
       "    .dataframe tbody tr th {\n",
       "        vertical-align: top;\n",
       "    }\n",
       "\n",
       "    .dataframe thead th {\n",
       "        text-align: right;\n",
       "    }\n",
       "</style>\n",
       "<table border=\"1\" class=\"dataframe\">\n",
       "  <thead>\n",
       "    <tr style=\"text-align: right;\">\n",
       "      <th></th>\n",
       "      <th>City</th>\n",
       "      <th>InDegree</th>\n",
       "    </tr>\n",
       "  </thead>\n",
       "  <tbody>\n",
       "    <tr>\n",
       "      <th>0</th>\n",
       "      <td>Frankfurt</td>\n",
       "      <td>303</td>\n",
       "    </tr>\n",
       "    <tr>\n",
       "      <th>1</th>\n",
       "      <td>Paris</td>\n",
       "      <td>291</td>\n",
       "    </tr>\n",
       "    <tr>\n",
       "      <th>2</th>\n",
       "      <td>Amsterdam</td>\n",
       "      <td>280</td>\n",
       "    </tr>\n",
       "    <tr>\n",
       "      <th>3</th>\n",
       "      <td>Istanbul</td>\n",
       "      <td>268</td>\n",
       "    </tr>\n",
       "    <tr>\n",
       "      <th>4</th>\n",
       "      <td>Munich</td>\n",
       "      <td>265</td>\n",
       "    </tr>\n",
       "    <tr>\n",
       "      <th>5</th>\n",
       "      <td>Chicago</td>\n",
       "      <td>257</td>\n",
       "    </tr>\n",
       "    <tr>\n",
       "      <th>6</th>\n",
       "      <td>Dallas</td>\n",
       "      <td>248</td>\n",
       "    </tr>\n",
       "    <tr>\n",
       "      <th>7</th>\n",
       "      <td>Atlanta</td>\n",
       "      <td>242</td>\n",
       "    </tr>\n",
       "    <tr>\n",
       "      <th>8</th>\n",
       "      <td>Dubai</td>\n",
       "      <td>237</td>\n",
       "    </tr>\n",
       "    <tr>\n",
       "      <th>9</th>\n",
       "      <td>London</td>\n",
       "      <td>226</td>\n",
       "    </tr>\n",
       "  </tbody>\n",
       "</table>\n",
       "</div>"
      ],
      "text/plain": [
       "        City  InDegree\n",
       "0  Frankfurt       303\n",
       "1      Paris       291\n",
       "2  Amsterdam       280\n",
       "3   Istanbul       268\n",
       "4     Munich       265\n",
       "5    Chicago       257\n",
       "6     Dallas       248\n",
       "7    Atlanta       242\n",
       "8      Dubai       237\n",
       "9     London       226"
      ]
     },
     "execution_count": 6,
     "metadata": {},
     "output_type": "execute_result"
    }
   ],
   "source": [
    "in_degree_query = \"\"\"MATCH (a:Airport)\n",
    "                     WITH a, SIZE(()-[:HAS_ROUTE]->(a)) AS in_degree\n",
    "                     RETURN a.city as City, in_degree as InDegree\n",
    "                     ORDER BY in_degree DESC\n",
    "                     LIMIT 10\n",
    "                  \"\"\"\n",
    "\n",
    "in_degree_df = pd.DataFrame([dict(_) for _ in conn.query(in_degree_query)])\n",
    "in_degree_df.head(10)"
   ]
  },
  {
   "cell_type": "markdown",
   "id": "8e3cbb68",
   "metadata": {},
   "source": [
    "### Return the amount of 'Total Degree' relations for each city (Limit by 10)"
   ]
  },
  {
   "cell_type": "code",
   "execution_count": 7,
   "id": "0f8b55e2",
   "metadata": {},
   "outputs": [
    {
     "data": {
      "text/html": [
       "<div>\n",
       "<style scoped>\n",
       "    .dataframe tbody tr th:only-of-type {\n",
       "        vertical-align: middle;\n",
       "    }\n",
       "\n",
       "    .dataframe tbody tr th {\n",
       "        vertical-align: top;\n",
       "    }\n",
       "\n",
       "    .dataframe thead th {\n",
       "        text-align: right;\n",
       "    }\n",
       "</style>\n",
       "<table border=\"1\" class=\"dataframe\">\n",
       "  <thead>\n",
       "    <tr style=\"text-align: right;\">\n",
       "      <th></th>\n",
       "      <th>City</th>\n",
       "      <th>TotalDegree</th>\n",
       "    </tr>\n",
       "  </thead>\n",
       "  <tbody>\n",
       "    <tr>\n",
       "      <th>0</th>\n",
       "      <td>Frankfurt</td>\n",
       "      <td>610</td>\n",
       "    </tr>\n",
       "    <tr>\n",
       "      <th>1</th>\n",
       "      <td>Paris</td>\n",
       "      <td>584</td>\n",
       "    </tr>\n",
       "    <tr>\n",
       "      <th>2</th>\n",
       "      <td>Istanbul</td>\n",
       "      <td>575</td>\n",
       "    </tr>\n",
       "    <tr>\n",
       "      <th>3</th>\n",
       "      <td>Amsterdam</td>\n",
       "      <td>562</td>\n",
       "    </tr>\n",
       "    <tr>\n",
       "      <th>4</th>\n",
       "      <td>Munich</td>\n",
       "      <td>535</td>\n",
       "    </tr>\n",
       "    <tr>\n",
       "      <th>5</th>\n",
       "      <td>Chicago</td>\n",
       "      <td>521</td>\n",
       "    </tr>\n",
       "    <tr>\n",
       "      <th>6</th>\n",
       "      <td>Dallas</td>\n",
       "      <td>499</td>\n",
       "    </tr>\n",
       "    <tr>\n",
       "      <th>7</th>\n",
       "      <td>Dubai</td>\n",
       "      <td>484</td>\n",
       "    </tr>\n",
       "    <tr>\n",
       "      <th>8</th>\n",
       "      <td>Atlanta</td>\n",
       "      <td>484</td>\n",
       "    </tr>\n",
       "    <tr>\n",
       "      <th>9</th>\n",
       "      <td>Beijing</td>\n",
       "      <td>469</td>\n",
       "    </tr>\n",
       "  </tbody>\n",
       "</table>\n",
       "</div>"
      ],
      "text/plain": [
       "        City  TotalDegree\n",
       "0  Frankfurt          610\n",
       "1      Paris          584\n",
       "2   Istanbul          575\n",
       "3  Amsterdam          562\n",
       "4     Munich          535\n",
       "5    Chicago          521\n",
       "6     Dallas          499\n",
       "7      Dubai          484\n",
       "8    Atlanta          484\n",
       "9    Beijing          469"
      ]
     },
     "execution_count": 7,
     "metadata": {},
     "output_type": "execute_result"
    }
   ],
   "source": [
    "total_degree_query = \"\"\"MATCH (a:Airport)\n",
    "                        WITH a, SIZE(()-[:HAS_ROUTE]-(a)) AS total_degree\n",
    "                        RETURN a.city as City, total_degree as TotalDegree\n",
    "                        ORDER BY total_degree DESC\n",
    "                        LIMIT 10\n",
    "                     \"\"\"\n",
    "\n",
    "total_degree_df = pd.DataFrame([dict(_) for _ in conn.query(total_degree_query)])\n",
    "total_degree_df.head(10)"
   ]
  },
  {
   "cell_type": "markdown",
   "id": "319dba7f",
   "metadata": {},
   "source": [
    "### Return how many airports are exactly 1, exactly 2, and then 1 or 2 hops from a target airport."
   ]
  },
  {
   "cell_type": "code",
   "execution_count": 8,
   "id": "6a31d412",
   "metadata": {},
   "outputs": [
    {
     "name": "stdout",
     "output_type": "stream",
     "text": [
      "Number of airports within exactly 1 hop:  [<Record COUNT(DISTINCT a2)=216>]\n",
      "Number of airports within exactly 2 hops:  [<Record COUNT(DISTINCT a2)=1218>]\n",
      "Number of airports within 1 or 2 hops:  [<Record COUNT(DISTINCT a2)=1231>]\n"
     ]
    }
   ],
   "source": [
    "one_hop_query = \"MATCH (a:Airport {iata: 'DEN'})-[:HAS_ROUTE]->(a2) RETURN COUNT(DISTINCT a2)\"\n",
    "two_hop_query = \"MATCH (a:Airport {iata: 'DEN'})-[:HAS_ROUTE*2]->(a2) RETURN COUNT(DISTINCT a2)\"\n",
    "one_or_two_query = \"MATCH (a:Airport {iata: 'DEN'})-[:HAS_ROUTE*1..2]->(a2) RETURN COUNT(DISTINCT a2)\"\n",
    "\n",
    "print('Number of airports within exactly 1 hop: ', conn.query(one_hop_query))\n",
    "print('Number of airports within exactly 2 hops: ', conn.query(two_hop_query))\n",
    "print('Number of airports within 1 or 2 hops: ', conn.query(one_or_two_query))"
   ]
  },
  {
   "cell_type": "markdown",
   "id": "819e5411",
   "metadata": {},
   "source": [
    "***"
   ]
  },
  {
   "cell_type": "markdown",
   "id": "b31349ad",
   "metadata": {},
   "source": [
    "### Creating a graph projection"
   ]
  },
  {
   "cell_type": "code",
   "execution_count": 9,
   "id": "f7d45dca",
   "metadata": {},
   "outputs": [
    {
     "name": "stdout",
     "output_type": "stream",
     "text": [
      "Query failed: {code: Neo.ClientError.Procedure.ProcedureCallFailed} {message: Failed to invoke procedure `gds.graph.create`: Caused by: java.lang.IllegalArgumentException: A graph with name 'routes' already exists.}\n"
     ]
    }
   ],
   "source": [
    "projection_query = \"\"\"CALL gds.graph.create(\n",
    "                      'routes',\n",
    "                      'Airport',\n",
    "                      'HAS_ROUTE'\n",
    "                      )\n",
    "                      YIELD\n",
    "                          graphName, nodeProjection, nodeCount, relationshipProjection, relationshipCount\n",
    "                    \"\"\"\n",
    "\n",
    "conn.query(projection_query)"
   ]
  },
  {
   "cell_type": "markdown",
   "id": "77fe3f05",
   "metadata": {},
   "source": [
    "***\n",
    "### Page Rank\n",
    "Score based on the weights of each airports connections to other airports.\n",
    "\n",
    "The PageRank algorithm measures the importance of each node within the graph, based on the number incoming relationships and the importance of the corresponding source nodes. The underlying assumption roughly speaking is that a page is only as important as the pages that link to it."
   ]
  },
  {
   "cell_type": "code",
   "execution_count": 17,
   "id": "173306ac",
   "metadata": {},
   "outputs": [
    {
     "data": {
      "text/html": [
       "<div>\n",
       "<style scoped>\n",
       "    .dataframe tbody tr th:only-of-type {\n",
       "        vertical-align: middle;\n",
       "    }\n",
       "\n",
       "    .dataframe tbody tr th {\n",
       "        vertical-align: top;\n",
       "    }\n",
       "\n",
       "    .dataframe thead th {\n",
       "        text-align: right;\n",
       "    }\n",
       "</style>\n",
       "<table border=\"1\" class=\"dataframe\">\n",
       "  <thead>\n",
       "    <tr style=\"text-align: right;\">\n",
       "      <th></th>\n",
       "      <th>Iata</th>\n",
       "      <th>Description</th>\n",
       "      <th>Score</th>\n",
       "    </tr>\n",
       "  </thead>\n",
       "  <tbody>\n",
       "    <tr>\n",
       "      <th>0</th>\n",
       "      <td>DFW</td>\n",
       "      <td>Dallas/Fort Worth International Airport</td>\n",
       "      <td>11.979783</td>\n",
       "    </tr>\n",
       "    <tr>\n",
       "      <th>1</th>\n",
       "      <td>ORD</td>\n",
       "      <td>Chicago O'Hare International Airport</td>\n",
       "      <td>11.162988</td>\n",
       "    </tr>\n",
       "    <tr>\n",
       "      <th>2</th>\n",
       "      <td>DEN</td>\n",
       "      <td>Denver International Airport</td>\n",
       "      <td>10.997299</td>\n",
       "    </tr>\n",
       "    <tr>\n",
       "      <th>3</th>\n",
       "      <td>ATL</td>\n",
       "      <td>Hartsfield - Jackson Atlanta International Air...</td>\n",
       "      <td>10.389948</td>\n",
       "    </tr>\n",
       "    <tr>\n",
       "      <th>4</th>\n",
       "      <td>IST</td>\n",
       "      <td>Istanbul International Airport</td>\n",
       "      <td>8.425801</td>\n",
       "    </tr>\n",
       "    <tr>\n",
       "      <th>5</th>\n",
       "      <td>CDG</td>\n",
       "      <td>Paris Charles de Gaulle</td>\n",
       "      <td>8.401469</td>\n",
       "    </tr>\n",
       "    <tr>\n",
       "      <th>6</th>\n",
       "      <td>IAH</td>\n",
       "      <td>George Bush Intercontinental</td>\n",
       "      <td>8.341141</td>\n",
       "    </tr>\n",
       "    <tr>\n",
       "      <th>7</th>\n",
       "      <td>FRA</td>\n",
       "      <td>Frankfurt am Main</td>\n",
       "      <td>8.203205</td>\n",
       "    </tr>\n",
       "    <tr>\n",
       "      <th>8</th>\n",
       "      <td>LAX</td>\n",
       "      <td>Los Angeles International Airport</td>\n",
       "      <td>8.193558</td>\n",
       "    </tr>\n",
       "    <tr>\n",
       "      <th>9</th>\n",
       "      <td>CLT</td>\n",
       "      <td>Charlotte Douglas International Airport</td>\n",
       "      <td>7.873303</td>\n",
       "    </tr>\n",
       "  </tbody>\n",
       "</table>\n",
       "</div>"
      ],
      "text/plain": [
       "  Iata                                        Description      Score\n",
       "0  DFW            Dallas/Fort Worth International Airport  11.979783\n",
       "1  ORD               Chicago O'Hare International Airport  11.162988\n",
       "2  DEN                       Denver International Airport  10.997299\n",
       "3  ATL  Hartsfield - Jackson Atlanta International Air...  10.389948\n",
       "4  IST                     Istanbul International Airport   8.425801\n",
       "5  CDG                            Paris Charles de Gaulle   8.401469\n",
       "6  IAH                       George Bush Intercontinental   8.341141\n",
       "7  FRA                                  Frankfurt am Main   8.203205\n",
       "8  LAX                  Los Angeles International Airport   8.193558\n",
       "9  CLT            Charlotte Douglas International Airport   7.873303"
      ]
     },
     "execution_count": 17,
     "metadata": {},
     "output_type": "execute_result"
    }
   ],
   "source": [
    "\n",
    "pagerank_query = \"\"\"CALL gds.pageRank.stream('routes')\n",
    "                    YIELD nodeId, score\n",
    "                    RETURN gds.util.asNode(nodeId).iata AS Iata, \n",
    "                        gds.util.asNode(nodeId).descr AS Description, score as Score\n",
    "                    ORDER BY score DESC, Iata ASC\n",
    "                    \"\"\"\n",
    "\n",
    "pr_df = pd.DataFrame([dict(_) for _ in conn.query(pagerank_query)])\n",
    "pr_df.head(10)"
   ]
  },
  {
   "cell_type": "markdown",
   "id": "02ac067e",
   "metadata": {},
   "source": [
    "***\n",
    "### Show statistics on the routes\n",
    "The write execution mode extends the stats mode with an important side effect: writing the score for each node as a property to the Neo4j database. The name of the new property is specified using the mandatory configuration parameter writeProperty. The result is a single summary row, similar to stats, but with some additional metrics. The write mode enables directly persisting the results to the database."
   ]
  },
  {
   "cell_type": "code",
   "execution_count": 11,
   "id": "f463e3d7",
   "metadata": {},
   "outputs": [
    {
     "data": {
      "text/plain": [
       "[<Record nodePropertiesWritten=3503 ranIterations=20>]"
      ]
     },
     "execution_count": 11,
     "metadata": {},
     "output_type": "execute_result"
    }
   ],
   "source": [
    "# Page Rank is an algorithm that measures the transitive influence or connectivity of nodes.\n",
    "\n",
    "pagerank_write_query = \"\"\"CALL gds.pageRank.write('routes', \n",
    "                            {\n",
    "                                writeProperty: 'pagerank'\n",
    "                            }\n",
    "                          )\n",
    "                          YIELD nodePropertiesWritten, ranIterations\n",
    "                          \"\"\"\n",
    "\n",
    "conn.query(pagerank_write_query)"
   ]
  },
  {
   "cell_type": "markdown",
   "id": "ef2ab841",
   "metadata": {},
   "source": [
    "***\n",
    "### Path finding (Dijkstra's algorithm for shortest path)"
   ]
  },
  {
   "cell_type": "code",
   "execution_count": 12,
   "id": "ede69c20",
   "metadata": {},
   "outputs": [
    {
     "name": "stdout",
     "output_type": "stream",
     "text": [
      "Query failed: {code: Neo.ClientError.Procedure.ProcedureCallFailed} {message: Failed to invoke procedure `gds.graph.create`: Caused by: java.lang.IllegalArgumentException: A graph with name 'routes-weighted' already exists.}\n"
     ]
    }
   ],
   "source": [
    "weighted_proj_query = \"\"\"CALL gds.graph.create(\n",
    "                              'routes-weighted',\n",
    "                              'Airport',\n",
    "                              'HAS_ROUTE',\n",
    "                                  {\n",
    "                                      relationshipProperties: 'distance'\n",
    "                                  }\n",
    "                          )\n",
    "                      \"\"\"\n",
    "\n",
    "conn.query(weighted_proj_query)"
   ]
  },
  {
   "cell_type": "code",
   "execution_count": 13,
   "id": "b6956d60",
   "metadata": {},
   "outputs": [
    {
     "data": {
      "text/html": [
       "<div>\n",
       "<style scoped>\n",
       "    .dataframe tbody tr th:only-of-type {\n",
       "        vertical-align: middle;\n",
       "    }\n",
       "\n",
       "    .dataframe tbody tr th {\n",
       "        vertical-align: top;\n",
       "    }\n",
       "\n",
       "    .dataframe thead th {\n",
       "        text-align: right;\n",
       "    }\n",
       "</style>\n",
       "<table border=\"1\" class=\"dataframe\">\n",
       "  <thead>\n",
       "    <tr style=\"text-align: right;\">\n",
       "      <th></th>\n",
       "      <th>index</th>\n",
       "      <th>SourceNodeName</th>\n",
       "      <th>TargetNodeName</th>\n",
       "      <th>totalCost</th>\n",
       "      <th>nodeNames</th>\n",
       "      <th>costs</th>\n",
       "      <th>path</th>\n",
       "    </tr>\n",
       "  </thead>\n",
       "  <tbody>\n",
       "    <tr>\n",
       "      <th>0</th>\n",
       "      <td>0</td>\n",
       "      <td>DEN</td>\n",
       "      <td>MLE</td>\n",
       "      <td>9704.0</td>\n",
       "      <td>[DEN, KEF, HEL, VKO, MLE]</td>\n",
       "      <td>[0.0, 3556.0, 5074.0, 5629.0, 9704.0]</td>\n",
       "      <td>[(descr, altitude, longest, iata, city, icao, ...</td>\n",
       "    </tr>\n",
       "  </tbody>\n",
       "</table>\n",
       "</div>"
      ],
      "text/plain": [
       "   index SourceNodeName TargetNodeName  totalCost                  nodeNames  \\\n",
       "0      0            DEN            MLE     9704.0  [DEN, KEF, HEL, VKO, MLE]   \n",
       "\n",
       "                                   costs  \\\n",
       "0  [0.0, 3556.0, 5074.0, 5629.0, 9704.0]   \n",
       "\n",
       "                                                path  \n",
       "0  [(descr, altitude, longest, iata, city, icao, ...  "
      ]
     },
     "execution_count": 13,
     "metadata": {},
     "output_type": "execute_result"
    }
   ],
   "source": [
    "sp_query = \"\"\"MATCH (source:Airport {iata: 'DEN'}), (target:Airport {iata: 'MLE'})\n",
    "              CALL gds.shortestPath.dijkstra.stream('routes-weighted', {\n",
    "                  sourceNode: source,\n",
    "                  targetNode: target,\n",
    "                  relationshipWeightProperty: 'distance'\n",
    "              })\n",
    "              YIELD index, sourceNode, targetNode, totalCost, nodeIds, costs, path\n",
    "              RETURN\n",
    "                  index,\n",
    "                  gds.util.asNode(sourceNode).iata AS SourceNodeName,\n",
    "                  gds.util.asNode(targetNode).iata AS TargetNodeName,\n",
    "                  totalCost,\n",
    "                  [nodeId IN nodeIds | gds.util.asNode(nodeId).iata] AS nodeNames,\n",
    "                  costs,\n",
    "                  nodes(path) as path\n",
    "              ORDER BY index\n",
    "              \"\"\"\n",
    "\n",
    "sp_df = pd.DataFrame([dict(_) for _ in conn.query(sp_query)])\n",
    "sp_df.head(10)"
   ]
  },
  {
   "cell_type": "markdown",
   "id": "2fc13700",
   "metadata": {},
   "source": [
    "***\n",
    "### Clustering (Louvian)"
   ]
  },
  {
   "cell_type": "code",
   "execution_count": 14,
   "id": "8735373c",
   "metadata": {},
   "outputs": [
    {
     "data": {
      "text/html": [
       "<div>\n",
       "<style scoped>\n",
       "    .dataframe tbody tr th:only-of-type {\n",
       "        vertical-align: middle;\n",
       "    }\n",
       "\n",
       "    .dataframe tbody tr th {\n",
       "        vertical-align: top;\n",
       "    }\n",
       "\n",
       "    .dataframe thead th {\n",
       "        text-align: right;\n",
       "    }\n",
       "</style>\n",
       "<table border=\"1\" class=\"dataframe\">\n",
       "  <thead>\n",
       "    <tr style=\"text-align: right;\">\n",
       "      <th></th>\n",
       "      <th>communityId</th>\n",
       "      <th>number_of_airports</th>\n",
       "      <th>city</th>\n",
       "    </tr>\n",
       "  </thead>\n",
       "  <tbody>\n",
       "    <tr>\n",
       "      <th>0</th>\n",
       "      <td>3018</td>\n",
       "      <td>684</td>\n",
       "      <td>[Atlanta, Anchorage, Austin, Nashville, Boston...</td>\n",
       "    </tr>\n",
       "    <tr>\n",
       "      <th>1</th>\n",
       "      <td>3307</td>\n",
       "      <td>498</td>\n",
       "      <td>[London, London, Paris, Frankfurt, Helsinki, D...</td>\n",
       "    </tr>\n",
       "    <tr>\n",
       "      <th>2</th>\n",
       "      <td>2784</td>\n",
       "      <td>418</td>\n",
       "      <td>[Dubai, New Delhi, Mumbai, Doha, Calicut, Hyde...</td>\n",
       "    </tr>\n",
       "    <tr>\n",
       "      <th>3</th>\n",
       "      <td>2838</td>\n",
       "      <td>250</td>\n",
       "      <td>[Tokyo, Singapore, Hong Kong, Beijing, Shangha...</td>\n",
       "    </tr>\n",
       "    <tr>\n",
       "      <th>4</th>\n",
       "      <td>2927</td>\n",
       "      <td>187</td>\n",
       "      <td>[Sydney, Melbourne, Perth, Auckland, Wellingto...</td>\n",
       "    </tr>\n",
       "  </tbody>\n",
       "</table>\n",
       "</div>"
      ],
      "text/plain": [
       "   communityId  number_of_airports  \\\n",
       "0         3018                 684   \n",
       "1         3307                 498   \n",
       "2         2784                 418   \n",
       "3         2838                 250   \n",
       "4         2927                 187   \n",
       "\n",
       "                                                city  \n",
       "0  [Atlanta, Anchorage, Austin, Nashville, Boston...  \n",
       "1  [London, London, Paris, Frankfurt, Helsinki, D...  \n",
       "2  [Dubai, New Delhi, Mumbai, Doha, Calicut, Hyde...  \n",
       "3  [Tokyo, Singapore, Hong Kong, Beijing, Shangha...  \n",
       "4  [Sydney, Melbourne, Perth, Auckland, Wellingto...  "
      ]
     },
     "execution_count": 14,
     "metadata": {},
     "output_type": "execute_result"
    }
   ],
   "source": [
    "louvain_query = \"\"\"CALL gds.louvain.stream('routes')\n",
    "                   YIELD nodeId, communityId\n",
    "                   RETURN \n",
    "                       communityId,\n",
    "                       SIZE(COLLECT(gds.util.asNode(nodeId).iata)) AS number_of_airports,\n",
    "                       COLLECT(gds.util.asNode(nodeId).city) AS city\n",
    "                   ORDER BY number_of_airports DESC, communityId\n",
    "                   \"\"\"\n",
    "\n",
    "louvain_df = pd.DataFrame([dict(_) for _ in conn.query(louvain_query)])\n",
    "louvain_df.head()"
   ]
  },
  {
   "cell_type": "markdown",
   "id": "47c801cf",
   "metadata": {},
   "source": [
    "***\n",
    "### Node Similarity"
   ]
  },
  {
   "cell_type": "code",
   "execution_count": 16,
   "id": "9ae1f2ee",
   "metadata": {},
   "outputs": [
    {
     "data": {
      "text/html": [
       "<div>\n",
       "<style scoped>\n",
       "    .dataframe tbody tr th:only-of-type {\n",
       "        vertical-align: middle;\n",
       "    }\n",
       "\n",
       "    .dataframe tbody tr th {\n",
       "        vertical-align: top;\n",
       "    }\n",
       "\n",
       "    .dataframe thead th {\n",
       "        text-align: right;\n",
       "    }\n",
       "</style>\n",
       "<table border=\"1\" class=\"dataframe\">\n",
       "  <thead>\n",
       "    <tr style=\"text-align: right;\">\n",
       "      <th></th>\n",
       "      <th>City1</th>\n",
       "      <th>City2</th>\n",
       "      <th>similarity</th>\n",
       "    </tr>\n",
       "  </thead>\n",
       "  <tbody>\n",
       "    <tr>\n",
       "      <th>0</th>\n",
       "      <td>Santa Fe</td>\n",
       "      <td>[Flagstaff, Durango, Yuma]</td>\n",
       "      <td>[1.0, 1.0, 0.75]</td>\n",
       "    </tr>\n",
       "    <tr>\n",
       "      <th>1</th>\n",
       "      <td>Manhattan</td>\n",
       "      <td>[Sioux City, Champaign/Urbana, Columbia]</td>\n",
       "      <td>[1.0, 0.6666666666666666, 0.6666666666666666]</td>\n",
       "    </tr>\n",
       "    <tr>\n",
       "      <th>2</th>\n",
       "      <td>Monroe</td>\n",
       "      <td>[Fort Hood/Killeen, Alexandria, Fort Smith]</td>\n",
       "      <td>[1.0, 1.0, 0.6666666666666666]</td>\n",
       "    </tr>\n",
       "    <tr>\n",
       "      <th>3</th>\n",
       "      <td>San Angelo</td>\n",
       "      <td>[Abilene, Waco, Texarkana]</td>\n",
       "      <td>[1.0, 1.0, 1.0]</td>\n",
       "    </tr>\n",
       "    <tr>\n",
       "      <th>4</th>\n",
       "      <td>Wichita Falls</td>\n",
       "      <td>[Abilene, Waco, Texarkana]</td>\n",
       "      <td>[1.0, 1.0, 1.0]</td>\n",
       "    </tr>\n",
       "    <tr>\n",
       "      <th>5</th>\n",
       "      <td>Tyler</td>\n",
       "      <td>[Lake Charles, College Station, Brownsville]</td>\n",
       "      <td>[1.0, 1.0, 0.6666666666666666]</td>\n",
       "    </tr>\n",
       "    <tr>\n",
       "      <th>6</th>\n",
       "      <td>Burlington</td>\n",
       "      <td>[Quincy, Decatur, Cape Girardeau, Greensboro, ...</td>\n",
       "      <td>[1.0, 1.0, 0.6666666666666666, 0.6666666666666...</td>\n",
       "    </tr>\n",
       "    <tr>\n",
       "      <th>7</th>\n",
       "      <td>Florence</td>\n",
       "      <td>[Greenville, Lynchburg, Staunton/Waynesboro/Ha...</td>\n",
       "      <td>[1.0, 1.0, 0.5]</td>\n",
       "    </tr>\n",
       "    <tr>\n",
       "      <th>8</th>\n",
       "      <td>Topeka</td>\n",
       "      <td>[Hancock, Dubuque, Waterloo]</td>\n",
       "      <td>[1.0, 1.0, 1.0]</td>\n",
       "    </tr>\n",
       "    <tr>\n",
       "      <th>9</th>\n",
       "      <td>Marquette</td>\n",
       "      <td>[La Crosse, Mosinee, Saginaw]</td>\n",
       "      <td>[1.0, 1.0, 0.75]</td>\n",
       "    </tr>\n",
       "  </tbody>\n",
       "</table>\n",
       "</div>"
      ],
      "text/plain": [
       "           City1                                              City2  \\\n",
       "0       Santa Fe                         [Flagstaff, Durango, Yuma]   \n",
       "1      Manhattan           [Sioux City, Champaign/Urbana, Columbia]   \n",
       "2         Monroe        [Fort Hood/Killeen, Alexandria, Fort Smith]   \n",
       "3     San Angelo                         [Abilene, Waco, Texarkana]   \n",
       "4  Wichita Falls                         [Abilene, Waco, Texarkana]   \n",
       "5          Tyler       [Lake Charles, College Station, Brownsville]   \n",
       "6     Burlington  [Quincy, Decatur, Cape Girardeau, Greensboro, ...   \n",
       "7       Florence  [Greenville, Lynchburg, Staunton/Waynesboro/Ha...   \n",
       "8         Topeka                       [Hancock, Dubuque, Waterloo]   \n",
       "9      Marquette                      [La Crosse, Mosinee, Saginaw]   \n",
       "\n",
       "                                          similarity  \n",
       "0                                   [1.0, 1.0, 0.75]  \n",
       "1      [1.0, 0.6666666666666666, 0.6666666666666666]  \n",
       "2                     [1.0, 1.0, 0.6666666666666666]  \n",
       "3                                    [1.0, 1.0, 1.0]  \n",
       "4                                    [1.0, 1.0, 1.0]  \n",
       "5                     [1.0, 1.0, 0.6666666666666666]  \n",
       "6  [1.0, 1.0, 0.6666666666666666, 0.6666666666666...  \n",
       "7                                    [1.0, 1.0, 0.5]  \n",
       "8                                    [1.0, 1.0, 1.0]  \n",
       "9                                   [1.0, 1.0, 0.75]  "
      ]
     },
     "execution_count": 16,
     "metadata": {},
     "output_type": "execute_result"
    }
   ],
   "source": [
    "ns_query = \"\"\"CALL gds.nodeSimilarity.stream(\n",
    "                   'routes',\n",
    "                   {\n",
    "                       topK: 3\n",
    "                   }\n",
    "               )\n",
    "               YIELD node1, node2, similarity\n",
    "               RETURN \n",
    "                   gds.util.asNode(node1).city AS City1, \n",
    "                   COLLECT(gds.util.asNode(node2).city) AS City2, \n",
    "                   COLLECT(similarity) AS similarity\n",
    "               ORDER BY similarity[0] DESC\n",
    "               \"\"\"\n",
    "\n",
    "ns_df = pd.DataFrame([dict(_) for _ in conn.query(ns_query)])\n",
    "ns_df.head(10)"
   ]
  }
 ],
 "metadata": {
  "kernelspec": {
   "display_name": "Python 3 (ipykernel)",
   "language": "python",
   "name": "python3"
  },
  "language_info": {
   "codemirror_mode": {
    "name": "ipython",
    "version": 3
   },
   "file_extension": ".py",
   "mimetype": "text/x-python",
   "name": "python",
   "nbconvert_exporter": "python",
   "pygments_lexer": "ipython3",
   "version": "3.10.2"
  }
 },
 "nbformat": 4,
 "nbformat_minor": 5
}
