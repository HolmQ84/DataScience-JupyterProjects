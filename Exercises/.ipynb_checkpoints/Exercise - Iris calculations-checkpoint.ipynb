{
 "cells": [
  {
   "cell_type": "markdown",
   "id": "b9b3bb23",
   "metadata": {},
   "source": [
    "# <center>Exercise - Calculate possibility of specific Iris sort</center>"
   ]
  },
  {
   "cell_type": "markdown",
   "id": "099d7ae1",
   "metadata": {},
   "source": [
    "# Step 1: Load the libraries"
   ]
  },
  {
   "cell_type": "code",
   "execution_count": 1,
   "id": "0594fde1",
   "metadata": {},
   "outputs": [],
   "source": [
    "# pandas to load data\n",
    "import pandas as pd\n",
    "from pandas.plotting import scatter_matrix\n",
    "import matplotlib.pyplot as plt\n",
    "from sklearn import model_selection\n",
    "from sklearn.metrics import classification_report\n",
    "from sklearn.metrics import confusion_matrix\n",
    "from sklearn.metrics import accuracy_score\n",
    "from sklearn.naive_bayes import GaussianNB"
   ]
  },
  {
   "cell_type": "markdown",
   "id": "5c85d232",
   "metadata": {},
   "source": [
    "# Step 2: Load a Dataset"
   ]
  },
  {
   "cell_type": "code",
   "execution_count": 2,
   "id": "3d4864ba",
   "metadata": {},
   "outputs": [],
   "source": [
    "url = \"https://archive.ics.uci.edu/ml/machine-learning-databases/iris/iris.data\"\n",
    "# load dataset into Pandas DataFrame\n",
    "df = pd.read_csv(url, names=['sepal-length','sepal-width','petal-length','petal-width','Species'])"
   ]
  },
  {
   "cell_type": "markdown",
   "id": "d1b2aa16",
   "metadata": {},
   "source": [
    "# Step 3: Get to Know Your Data\n",
    "Investigate the dataset.\n",
    "\n",
    "Find out how many records are available, all they all clean, how many classes they represent.\n",
    "\n",
    "Create diagrams to visualize the set and its descriptive statistics."
   ]
  },
  {
   "cell_type": "code",
   "execution_count": 3,
   "id": "871c2653",
   "metadata": {},
   "outputs": [
    {
     "data": {
      "text/html": [
       "<div>\n",
       "<style scoped>\n",
       "    .dataframe tbody tr th:only-of-type {\n",
       "        vertical-align: middle;\n",
       "    }\n",
       "\n",
       "    .dataframe tbody tr th {\n",
       "        vertical-align: top;\n",
       "    }\n",
       "\n",
       "    .dataframe thead th {\n",
       "        text-align: right;\n",
       "    }\n",
       "</style>\n",
       "<table border=\"1\" class=\"dataframe\">\n",
       "  <thead>\n",
       "    <tr style=\"text-align: right;\">\n",
       "      <th></th>\n",
       "      <th>sepal-length</th>\n",
       "      <th>sepal-width</th>\n",
       "      <th>petal-length</th>\n",
       "      <th>petal-width</th>\n",
       "    </tr>\n",
       "  </thead>\n",
       "  <tbody>\n",
       "    <tr>\n",
       "      <th>count</th>\n",
       "      <td>150.000000</td>\n",
       "      <td>150.000000</td>\n",
       "      <td>150.000000</td>\n",
       "      <td>150.000000</td>\n",
       "    </tr>\n",
       "    <tr>\n",
       "      <th>mean</th>\n",
       "      <td>5.843333</td>\n",
       "      <td>3.054000</td>\n",
       "      <td>3.758667</td>\n",
       "      <td>1.198667</td>\n",
       "    </tr>\n",
       "    <tr>\n",
       "      <th>std</th>\n",
       "      <td>0.828066</td>\n",
       "      <td>0.433594</td>\n",
       "      <td>1.764420</td>\n",
       "      <td>0.763161</td>\n",
       "    </tr>\n",
       "    <tr>\n",
       "      <th>min</th>\n",
       "      <td>4.300000</td>\n",
       "      <td>2.000000</td>\n",
       "      <td>1.000000</td>\n",
       "      <td>0.100000</td>\n",
       "    </tr>\n",
       "    <tr>\n",
       "      <th>25%</th>\n",
       "      <td>5.100000</td>\n",
       "      <td>2.800000</td>\n",
       "      <td>1.600000</td>\n",
       "      <td>0.300000</td>\n",
       "    </tr>\n",
       "    <tr>\n",
       "      <th>50%</th>\n",
       "      <td>5.800000</td>\n",
       "      <td>3.000000</td>\n",
       "      <td>4.350000</td>\n",
       "      <td>1.300000</td>\n",
       "    </tr>\n",
       "    <tr>\n",
       "      <th>75%</th>\n",
       "      <td>6.400000</td>\n",
       "      <td>3.300000</td>\n",
       "      <td>5.100000</td>\n",
       "      <td>1.800000</td>\n",
       "    </tr>\n",
       "    <tr>\n",
       "      <th>max</th>\n",
       "      <td>7.900000</td>\n",
       "      <td>4.400000</td>\n",
       "      <td>6.900000</td>\n",
       "      <td>2.500000</td>\n",
       "    </tr>\n",
       "  </tbody>\n",
       "</table>\n",
       "</div>"
      ],
      "text/plain": [
       "       sepal-length  sepal-width  petal-length  petal-width\n",
       "count    150.000000   150.000000    150.000000   150.000000\n",
       "mean       5.843333     3.054000      3.758667     1.198667\n",
       "std        0.828066     0.433594      1.764420     0.763161\n",
       "min        4.300000     2.000000      1.000000     0.100000\n",
       "25%        5.100000     2.800000      1.600000     0.300000\n",
       "50%        5.800000     3.000000      4.350000     1.300000\n",
       "75%        6.400000     3.300000      5.100000     1.800000\n",
       "max        7.900000     4.400000      6.900000     2.500000"
      ]
     },
     "execution_count": 3,
     "metadata": {},
     "output_type": "execute_result"
    }
   ],
   "source": [
    "df.describe()"
   ]
  },
  {
   "cell_type": "code",
   "execution_count": 4,
   "id": "cfdf3375",
   "metadata": {},
   "outputs": [],
   "source": [
    "df_setosa = df.loc[(df[\"Species\"] == \"Iris-setosa\")]\n",
    "df_versicolor = df.loc[(df[\"Species\"] == \"Iris-versicolor\")]\n",
    "df_virginica = df.loc[(df[\"Species\"] == \"Iris-virginica\")]"
   ]
  },
  {
   "cell_type": "code",
   "execution_count": 5,
   "id": "61da0dfc",
   "metadata": {},
   "outputs": [
    {
     "data": {
      "text/html": [
       "<div>\n",
       "<style scoped>\n",
       "    .dataframe tbody tr th:only-of-type {\n",
       "        vertical-align: middle;\n",
       "    }\n",
       "\n",
       "    .dataframe tbody tr th {\n",
       "        vertical-align: top;\n",
       "    }\n",
       "\n",
       "    .dataframe thead th {\n",
       "        text-align: right;\n",
       "    }\n",
       "</style>\n",
       "<table border=\"1\" class=\"dataframe\">\n",
       "  <thead>\n",
       "    <tr style=\"text-align: right;\">\n",
       "      <th></th>\n",
       "      <th>sepal-length</th>\n",
       "      <th>sepal-width</th>\n",
       "      <th>petal-length</th>\n",
       "      <th>petal-width</th>\n",
       "      <th>Species</th>\n",
       "    </tr>\n",
       "  </thead>\n",
       "  <tbody>\n",
       "    <tr>\n",
       "      <th>0</th>\n",
       "      <td>5.1</td>\n",
       "      <td>3.5</td>\n",
       "      <td>1.4</td>\n",
       "      <td>0.2</td>\n",
       "      <td>Iris-setosa</td>\n",
       "    </tr>\n",
       "    <tr>\n",
       "      <th>1</th>\n",
       "      <td>4.9</td>\n",
       "      <td>3.0</td>\n",
       "      <td>1.4</td>\n",
       "      <td>0.2</td>\n",
       "      <td>Iris-setosa</td>\n",
       "    </tr>\n",
       "    <tr>\n",
       "      <th>2</th>\n",
       "      <td>4.7</td>\n",
       "      <td>3.2</td>\n",
       "      <td>1.3</td>\n",
       "      <td>0.2</td>\n",
       "      <td>Iris-setosa</td>\n",
       "    </tr>\n",
       "    <tr>\n",
       "      <th>3</th>\n",
       "      <td>4.6</td>\n",
       "      <td>3.1</td>\n",
       "      <td>1.5</td>\n",
       "      <td>0.2</td>\n",
       "      <td>Iris-setosa</td>\n",
       "    </tr>\n",
       "    <tr>\n",
       "      <th>4</th>\n",
       "      <td>5.0</td>\n",
       "      <td>3.6</td>\n",
       "      <td>1.4</td>\n",
       "      <td>0.2</td>\n",
       "      <td>Iris-setosa</td>\n",
       "    </tr>\n",
       "  </tbody>\n",
       "</table>\n",
       "</div>"
      ],
      "text/plain": [
       "   sepal-length  sepal-width  petal-length  petal-width      Species\n",
       "0           5.1          3.5           1.4          0.2  Iris-setosa\n",
       "1           4.9          3.0           1.4          0.2  Iris-setosa\n",
       "2           4.7          3.2           1.3          0.2  Iris-setosa\n",
       "3           4.6          3.1           1.5          0.2  Iris-setosa\n",
       "4           5.0          3.6           1.4          0.2  Iris-setosa"
      ]
     },
     "execution_count": 5,
     "metadata": {},
     "output_type": "execute_result"
    }
   ],
   "source": [
    "df.head()"
   ]
  },
  {
   "cell_type": "code",
   "execution_count": 6,
   "id": "1cd21838",
   "metadata": {},
   "outputs": [
    {
     "data": {
      "text/plain": [
       "(150, 5)"
      ]
     },
     "execution_count": 6,
     "metadata": {},
     "output_type": "execute_result"
    }
   ],
   "source": [
    "df.shape"
   ]
  },
  {
   "cell_type": "code",
   "execution_count": 7,
   "id": "eafd78e7",
   "metadata": {},
   "outputs": [
    {
     "data": {
      "text/html": [
       "<div>\n",
       "<style scoped>\n",
       "    .dataframe tbody tr th:only-of-type {\n",
       "        vertical-align: middle;\n",
       "    }\n",
       "\n",
       "    .dataframe tbody tr th {\n",
       "        vertical-align: top;\n",
       "    }\n",
       "\n",
       "    .dataframe thead th {\n",
       "        text-align: right;\n",
       "    }\n",
       "</style>\n",
       "<table border=\"1\" class=\"dataframe\">\n",
       "  <thead>\n",
       "    <tr style=\"text-align: right;\">\n",
       "      <th></th>\n",
       "      <th>sepal-length</th>\n",
       "      <th>sepal-width</th>\n",
       "      <th>petal-length</th>\n",
       "      <th>petal-width</th>\n",
       "    </tr>\n",
       "    <tr>\n",
       "      <th>Species</th>\n",
       "      <th></th>\n",
       "      <th></th>\n",
       "      <th></th>\n",
       "      <th></th>\n",
       "    </tr>\n",
       "  </thead>\n",
       "  <tbody>\n",
       "    <tr>\n",
       "      <th>Iris-setosa</th>\n",
       "      <td>5.006</td>\n",
       "      <td>3.418</td>\n",
       "      <td>1.464</td>\n",
       "      <td>0.244</td>\n",
       "    </tr>\n",
       "    <tr>\n",
       "      <th>Iris-versicolor</th>\n",
       "      <td>5.936</td>\n",
       "      <td>2.770</td>\n",
       "      <td>4.260</td>\n",
       "      <td>1.326</td>\n",
       "    </tr>\n",
       "    <tr>\n",
       "      <th>Iris-virginica</th>\n",
       "      <td>6.588</td>\n",
       "      <td>2.974</td>\n",
       "      <td>5.552</td>\n",
       "      <td>2.026</td>\n",
       "    </tr>\n",
       "  </tbody>\n",
       "</table>\n",
       "</div>"
      ],
      "text/plain": [
       "                 sepal-length  sepal-width  petal-length  petal-width\n",
       "Species                                                              \n",
       "Iris-setosa             5.006        3.418         1.464        0.244\n",
       "Iris-versicolor         5.936        2.770         4.260        1.326\n",
       "Iris-virginica          6.588        2.974         5.552        2.026"
      ]
     },
     "execution_count": 7,
     "metadata": {},
     "output_type": "execute_result"
    }
   ],
   "source": [
    "df.groupby('Species').mean()"
   ]
  },
  {
   "cell_type": "code",
   "execution_count": 8,
   "id": "e62e0f1a",
   "metadata": {},
   "outputs": [
    {
     "data": {
      "text/plain": [
       "Species\n",
       "Iris-setosa        50\n",
       "Iris-versicolor    50\n",
       "Iris-virginica     50\n",
       "dtype: int64"
      ]
     },
     "execution_count": 8,
     "metadata": {},
     "output_type": "execute_result"
    }
   ],
   "source": [
    "df.groupby('Species').size()"
   ]
  },
  {
   "cell_type": "markdown",
   "id": "d9024052",
   "metadata": {},
   "source": [
    "# Step 4: Visualize the Dataset Statistics\n",
    "1. Draw Box-Whisker Plots\n",
    "2. Draw Histograms\n",
    "3. Draw Multivariate Plots"
   ]
  },
  {
   "cell_type": "markdown",
   "id": "7b770616",
   "metadata": {},
   "source": [
    "### Box-Whisker Plot"
   ]
  },
  {
   "cell_type": "code",
   "execution_count": 9,
   "id": "96030d56",
   "metadata": {},
   "outputs": [
    {
     "data": {
      "text/plain": [
       "sepal-length       AxesSubplot(0.125,0.536818;0.352273x0.343182)\n",
       "sepal-width     AxesSubplot(0.547727,0.536818;0.352273x0.343182)\n",
       "petal-length          AxesSubplot(0.125,0.125;0.352273x0.343182)\n",
       "petal-width        AxesSubplot(0.547727,0.125;0.352273x0.343182)\n",
       "dtype: object"
      ]
     },
     "execution_count": 9,
     "metadata": {},
     "output_type": "execute_result"
    },
    {
     "data": {
      "image/png": "[encoded data removed]",
      "text/plain": [
       "<Figure size 864x576 with 4 Axes>"
      ]
     },
     "metadata": {
      "needs_background": "light"
     },
     "output_type": "display_data"
    }
   ],
   "source": [
    "df.plot(kind='box', subplots=True, layout=(2, 2), sharex=False, sharey=False, figsize=(12, 8))"
   ]
  },
  {
   "cell_type": "code",
   "execution_count": 10,
   "id": "7df87fd8",
   "metadata": {},
   "outputs": [
    {
     "data": {
      "text/plain": [
       "array([[<AxesSubplot:title={'center':'sepal-length'}>,\n",
       "        <AxesSubplot:title={'center':'sepal-width'}>],\n",
       "       [<AxesSubplot:title={'center':'petal-length'}>,\n",
       "        <AxesSubplot:title={'center':'petal-width'}>]], dtype=object)"
      ]
     },
     "execution_count": 10,
     "metadata": {},
     "output_type": "execute_result"
    },
    {
     "data": {
      "image/png": "[encoded data removed]",
      "text/plain": [
       "<Figure size 864x576 with 4 Axes>"
      ]
     },
     "metadata": {
      "needs_background": "light"
     },
     "output_type": "display_data"
    }
   ],
   "source": [
    "df.hist(figsize=(12,8))"
   ]
  },
  {
   "cell_type": "code",
   "execution_count": 11,
   "id": "1b771d33",
   "metadata": {},
   "outputs": [
    {
     "data": {
      "text/plain": [
       "array([[<AxesSubplot:xlabel='sepal-length', ylabel='sepal-length'>,\n",
       "        <AxesSubplot:xlabel='sepal-width', ylabel='sepal-length'>,\n",
       "        <AxesSubplot:xlabel='petal-length', ylabel='sepal-length'>,\n",
       "        <AxesSubplot:xlabel='petal-width', ylabel='sepal-length'>],\n",
       "       [<AxesSubplot:xlabel='sepal-length', ylabel='sepal-width'>,\n",
       "        <AxesSubplot:xlabel='sepal-width', ylabel='sepal-width'>,\n",
       "        <AxesSubplot:xlabel='petal-length', ylabel='sepal-width'>,\n",
       "        <AxesSubplot:xlabel='petal-width', ylabel='sepal-width'>],\n",
       "       [<AxesSubplot:xlabel='sepal-length', ylabel='petal-length'>,\n",
       "        <AxesSubplot:xlabel='sepal-width', ylabel='petal-length'>,\n",
       "        <AxesSubplot:xlabel='petal-length', ylabel='petal-length'>,\n",
       "        <AxesSubplot:xlabel='petal-width', ylabel='petal-length'>],\n",
       "       [<AxesSubplot:xlabel='sepal-length', ylabel='petal-width'>,\n",
       "        <AxesSubplot:xlabel='sepal-width', ylabel='petal-width'>,\n",
       "        <AxesSubplot:xlabel='petal-length', ylabel='petal-width'>,\n",
       "        <AxesSubplot:xlabel='petal-width', ylabel='petal-width'>]],\n",
       "      dtype=object)"
      ]
     },
     "execution_count": 11,
     "metadata": {},
     "output_type": "execute_result"
    },
    {
     "data": {
      "image/png": "[encoded data removed]",
      "text/plain": [
       "<Figure size 864x576 with 16 Axes>"
      ]
     },
     "metadata": {
      "needs_background": "light"
     },
     "output_type": "display_data"
    }
   ],
   "source": [
    "scatter_matrix(df, figsize=(12,8))"
   ]
  },
  {
   "cell_type": "markdown",
   "id": "eac7d306",
   "metadata": {},
   "source": [
    "# Step 5 - Train the dataset\n",
    "Now let's try to train a model.\n",
    "\n",
    "1. Divide the dataset into X and y\n",
    "2. Divide both into two subsets: training set and test set\n",
    "3. Implement Bayes algorithm for training with the training sub-set\n",
    "4. Estimate how accurate is the model with the test sub-set"
   ]
  },
  {
   "cell_type": "markdown",
   "id": "eff7791c",
   "metadata": {},
   "source": [
    "### Split the Dataset"
   ]
  },
  {
   "cell_type": "code",
   "execution_count": 12,
   "id": "4e91e126",
   "metadata": {},
   "outputs": [],
   "source": [
    "# Convert the dataset into two arrays\n",
    "array = df.values\n",
    "# Create two (sub) arrays from it\n",
    "X = array[:,0:4] # data without class\n",
    "y = array[:,4]   # just class"
   ]
  },
  {
   "cell_type": "code",
   "execution_count": 13,
   "id": "9beba2f2",
   "metadata": {},
   "outputs": [],
   "source": [
    "# Split the dataset into two: \n",
    "#   80% of it as training data\n",
    "#   20% as a validation dataset\n",
    "# Let Python split the set into four, we tell the proportion of splitting\n",
    "test_set_size = 0.3\n",
    "\n",
    "# Initial value for randomization\n",
    "seed = 7\n",
    "X_train, X_test, y_train, y_test = model_selection.train_test_split(X, y, test_size=test_set_size, random_state=seed)\n"
   ]
  },
  {
   "cell_type": "markdown",
   "id": "21ac7a46",
   "metadata": {},
   "source": [
    "### Choose a model"
   ]
  },
  {
   "cell_type": "code",
   "execution_count": 14,
   "id": "ddd7ec63",
   "metadata": {},
   "outputs": [
    {
     "data": {
      "text/plain": [
       "GaussianNB()"
      ]
     },
     "execution_count": 14,
     "metadata": {},
     "output_type": "execute_result"
    }
   ],
   "source": [
    "# Choose a model for fitting the data.\n",
    "model = GaussianNB()\n",
    "model.fit(X_train, y_train)"
   ]
  },
  {
   "cell_type": "code",
   "execution_count": 15,
   "id": "1d44dd70",
   "metadata": {},
   "outputs": [
    {
     "data": {
      "text/plain": [
       "0.9809523809523809"
      ]
     },
     "execution_count": 15,
     "metadata": {},
     "output_type": "execute_result"
    }
   ],
   "source": [
    "# Check how good the fit of the model is on the train data.\n",
    "model.score(X_train, y_train)"
   ]
  },
  {
   "cell_type": "code",
   "execution_count": 16,
   "id": "550ea43d",
   "metadata": {},
   "outputs": [
    {
     "data": {
      "text/plain": [
       "0.8888888888888888"
      ]
     },
     "execution_count": 16,
     "metadata": {},
     "output_type": "execute_result"
    }
   ],
   "source": [
    "# Check how good the fit of the model is on the test data.\n",
    "model.score(X_test, y_test)"
   ]
  },
  {
   "cell_type": "code",
   "execution_count": 17,
   "id": "4034f71e",
   "metadata": {},
   "outputs": [
    {
     "data": {
      "text/plain": [
       "array(['Iris-virginica', 'Iris-versicolor', 'Iris-setosa',\n",
       "       'Iris-versicolor', 'Iris-versicolor', 'Iris-setosa',\n",
       "       'Iris-virginica', 'Iris-versicolor', 'Iris-setosa',\n",
       "       'Iris-versicolor', 'Iris-virginica', 'Iris-versicolor',\n",
       "       'Iris-setosa', 'Iris-virginica', 'Iris-setosa', 'Iris-virginica',\n",
       "       'Iris-virginica', 'Iris-virginica', 'Iris-setosa', 'Iris-setosa',\n",
       "       'Iris-versicolor', 'Iris-virginica', 'Iris-versicolor',\n",
       "       'Iris-versicolor', 'Iris-virginica', 'Iris-virginica',\n",
       "       'Iris-versicolor', 'Iris-versicolor', 'Iris-virginica',\n",
       "       'Iris-virginica', 'Iris-virginica', 'Iris-versicolor',\n",
       "       'Iris-setosa', 'Iris-virginica', 'Iris-versicolor', 'Iris-setosa',\n",
       "       'Iris-setosa', 'Iris-setosa', 'Iris-setosa', 'Iris-virginica',\n",
       "       'Iris-virginica', 'Iris-versicolor', 'Iris-virginica',\n",
       "       'Iris-virginica', 'Iris-versicolor'], dtype='<U15')"
      ]
     },
     "execution_count": 17,
     "metadata": {},
     "output_type": "execute_result"
    }
   ],
   "source": [
    "# Test on the test data, try prediction\n",
    "prediction = model.predict(X_test)\n",
    "prediction"
   ]
  },
  {
   "cell_type": "code",
   "execution_count": 18,
   "id": "5dd79ccc",
   "metadata": {},
   "outputs": [
    {
     "data": {
      "text/plain": [
       "(45,)"
      ]
     },
     "execution_count": 18,
     "metadata": {},
     "output_type": "execute_result"
    }
   ],
   "source": [
    "prediction.shape"
   ]
  },
  {
   "cell_type": "markdown",
   "id": "5f5c76d0",
   "metadata": {},
   "source": [
    "# Step 6: Evaluation\n",
    "We need a metrics for the model evaluation.\n",
    "\n",
    "The ‘accuracy‘ is the percentage [%] of correctly predicted instances from the total number of instances in the dataset."
   ]
  },
  {
   "cell_type": "code",
   "execution_count": 19,
   "id": "7ce10746",
   "metadata": {},
   "outputs": [],
   "source": [
    "# Set the metrix\n",
    "scoring = 'accuracy'"
   ]
  },
  {
   "cell_type": "markdown",
   "id": "64d8a375",
   "metadata": {},
   "source": [
    "#### Now we can try the model on our validation set."
   ]
  },
  {
   "cell_type": "code",
   "execution_count": 20,
   "id": "08b96a51",
   "metadata": {},
   "outputs": [],
   "source": [
    "prediction = model.predict(X_test)"
   ]
  },
  {
   "cell_type": "code",
   "execution_count": 21,
   "id": "2fe0c044",
   "metadata": {},
   "outputs": [
    {
     "data": {
      "text/plain": [
       "array([[5.9, 3.0, 5.1, 1.8],\n",
       "       [5.4, 3.0, 4.5, 1.5],\n",
       "       [5.0, 3.5, 1.3, 0.3],\n",
       "       [5.6, 3.0, 4.5, 1.5],\n",
       "       [4.9, 2.5, 4.5, 1.7],\n",
       "       [4.5, 2.3, 1.3, 0.3],\n",
       "       [6.9, 3.1, 4.9, 1.5],\n",
       "       [5.6, 2.7, 4.2, 1.3],\n",
       "       [4.8, 3.4, 1.6, 0.2],\n",
       "       [6.4, 3.2, 4.5, 1.5],\n",
       "       [6.7, 3.0, 5.0, 1.7],\n",
       "       [6.0, 3.4, 4.5, 1.6],\n",
       "       [5.2, 4.1, 1.5, 0.1],\n",
       "       [7.2, 3.6, 6.1, 2.5],\n",
       "       [5.2, 3.4, 1.4, 0.2],\n",
       "       [5.9, 3.2, 4.8, 1.8],\n",
       "       [6.7, 2.5, 5.8, 1.8],\n",
       "       [6.4, 3.1, 5.5, 1.8],\n",
       "       [5.1, 3.8, 1.6, 0.2],\n",
       "       [4.9, 3.1, 1.5, 0.1],\n",
       "       [5.8, 2.7, 3.9, 1.2],\n",
       "       [6.9, 3.2, 5.7, 2.3],\n",
       "       [6.1, 2.9, 4.7, 1.4],\n",
       "       [6.0, 2.2, 5.0, 1.5],\n",
       "       [7.2, 3.0, 5.8, 1.6],\n",
       "       [6.0, 3.0, 4.8, 1.8],\n",
       "       [6.2, 2.9, 4.3, 1.3],\n",
       "       [5.5, 2.4, 3.8, 1.1],\n",
       "       [5.8, 2.7, 5.1, 1.9],\n",
       "       [6.7, 3.1, 5.6, 2.4],\n",
       "       [6.2, 2.8, 4.8, 1.8],\n",
       "       [5.7, 2.6, 3.5, 1.0],\n",
       "       [4.6, 3.6, 1.0, 0.2],\n",
       "       [6.9, 3.1, 5.4, 2.1],\n",
       "       [6.4, 2.9, 4.3, 1.3],\n",
       "       [4.8, 3.0, 1.4, 0.3],\n",
       "       [5.5, 3.5, 1.3, 0.2],\n",
       "       [5.4, 3.9, 1.7, 0.4],\n",
       "       [5.1, 3.5, 1.4, 0.3],\n",
       "       [7.1, 3.0, 5.9, 2.1],\n",
       "       [6.7, 3.3, 5.7, 2.1],\n",
       "       [6.8, 2.8, 4.8, 1.4],\n",
       "       [6.4, 2.8, 5.6, 2.2],\n",
       "       [6.5, 3.0, 5.5, 1.8],\n",
       "       [5.7, 3.0, 4.2, 1.2]], dtype=object)"
      ]
     },
     "execution_count": 21,
     "metadata": {},
     "output_type": "execute_result"
    }
   ],
   "source": [
    "X_test"
   ]
  },
  {
   "cell_type": "code",
   "execution_count": 22,
   "id": "91778052",
   "metadata": {},
   "outputs": [
    {
     "name": "stdout",
     "output_type": "stream",
     "text": [
      "0.8888888888888888\n"
     ]
    }
   ],
   "source": [
    "# Calculated accuracy of the model over the validation set\n",
    "print(accuracy_score(y_test, prediction))"
   ]
  },
  {
   "cell_type": "code",
   "execution_count": 23,
   "id": "a1d98017",
   "metadata": {},
   "outputs": [
    {
     "name": "stdout",
     "output_type": "stream",
     "text": [
      "[[12  0  0]\n",
      " [ 0 13  3]\n",
      " [ 0  2 15]]\n"
     ]
    }
   ],
   "source": [
    "# Confusion matrix provides an indication of the the errors of prediction\n",
    "print(confusion_matrix(y_test, prediction))"
   ]
  },
  {
   "cell_type": "code",
   "execution_count": 24,
   "id": "404b1a84",
   "metadata": {},
   "outputs": [
    {
     "name": "stdout",
     "output_type": "stream",
     "text": [
      "                 precision    recall  f1-score   support\n",
      "\n",
      "    Iris-setosa       1.00      1.00      1.00        12\n",
      "Iris-versicolor       0.87      0.81      0.84        16\n",
      " Iris-virginica       0.83      0.88      0.86        17\n",
      "\n",
      "       accuracy                           0.89        45\n",
      "      macro avg       0.90      0.90      0.90        45\n",
      "   weighted avg       0.89      0.89      0.89        45\n",
      "\n"
     ]
    }
   ],
   "source": [
    "# Classification report provides a breakdown of each class by precision, recall, f1-score and support\n",
    "print(classification_report(y_test, prediction))"
   ]
  },
  {
   "cell_type": "markdown",
   "id": "d9906bf0",
   "metadata": {},
   "source": [
    "# Step 7: Testing"
   ]
  },
  {
   "cell_type": "code",
   "execution_count": 25,
   "id": "5eb1958d",
   "metadata": {},
   "outputs": [
    {
     "name": "stdout",
     "output_type": "stream",
     "text": [
      "First flower: Iris-virginica\n",
      "Second flower: Iris-setosa\n"
     ]
    }
   ],
   "source": [
    "# Testing with new data\n",
    "# m = array[[[5] [3] [1] [0]]]\n",
    "m = [[5.7,1.0,5.6,2.6]]\n",
    "k = [[5.4, 3.7, 1.5, 0.2]]\n",
    "my_prediction = model.predict(m)\n",
    "my_prediction2 = model.predict(k)\n",
    "print(\"First flower: \"+ str(my_prediction[0]))\n",
    "print(\"Second flower: \"+str(my_prediction2[0]))"
   ]
  },
  {
   "cell_type": "code",
   "execution_count": 26,
   "id": "58c092c4",
   "metadata": {},
   "outputs": [
    {
     "name": "stdout",
     "output_type": "stream",
     "text": [
      "0.8888888888888888\n"
     ]
    }
   ],
   "source": [
    "# Calculate the accuracy of the model with the test set\n",
    "print(accuracy_score(y_test, prediction))"
   ]
  },
  {
   "cell_type": "code",
   "execution_count": 27,
   "id": "7782e0e5",
   "metadata": {},
   "outputs": [
    {
     "name": "stdout",
     "output_type": "stream",
     "text": [
      "\n",
      "########################################\n"
     ]
    }
   ],
   "source": [
    "# Evaluate classifier performance\n",
    "from sklearn.metrics import classification_report\n",
    "class_names = ['virginia', 'serosa', 'versicolor']\n",
    "print(\"\\n\" + \"#\"*40)"
   ]
  },
  {
   "cell_type": "code",
   "execution_count": 28,
   "id": "26ce624a",
   "metadata": {},
   "outputs": [
    {
     "name": "stdout",
     "output_type": "stream",
     "text": [
      "\n",
      "Classifier performance on training dataset\n",
      "\n",
      "              precision    recall  f1-score   support\n",
      "\n",
      "    virginia       1.00      1.00      1.00        38\n",
      "      serosa       0.94      1.00      0.97        34\n",
      "  versicolor       1.00      0.94      0.97        33\n",
      "\n",
      "    accuracy                           0.98       105\n",
      "   macro avg       0.98      0.98      0.98       105\n",
      "weighted avg       0.98      0.98      0.98       105\n",
      "\n",
      "########################################\n",
      "\n"
     ]
    }
   ],
   "source": [
    "print(\"\\nClassifier performance on training dataset\\n\")\n",
    "print(classification_report(y_train, model.predict(X_train), target_names=class_names))\n",
    "print(\"#\"*40 + \"\\n\")"
   ]
  },
  {
   "cell_type": "code",
   "execution_count": 29,
   "id": "6aac7ec0",
   "metadata": {},
   "outputs": [
    {
     "name": "stdout",
     "output_type": "stream",
     "text": [
      "\n",
      "Classifier performance on test dataset\n",
      "\n",
      "              precision    recall  f1-score   support\n",
      "\n",
      "    virginia       1.00      1.00      1.00        12\n",
      "      serosa       0.87      0.81      0.84        16\n",
      "  versicolor       0.83      0.88      0.86        17\n",
      "\n",
      "    accuracy                           0.89        45\n",
      "   macro avg       0.90      0.90      0.90        45\n",
      "weighted avg       0.89      0.89      0.89        45\n",
      "\n"
     ]
    }
   ],
   "source": [
    "print(\"\\nClassifier performance on test dataset\\n\")\n",
    "print(classification_report(y_test, prediction, target_names=class_names))"
   ]
  },
  {
   "cell_type": "markdown",
   "id": "dafa2aed",
   "metadata": {},
   "source": [
    "The results are not perfect, f1-score differ in the two sub-sets.\n",
    "\n",
    "More methods can be tried."
   ]
  },
  {
   "cell_type": "markdown",
   "id": "bbf08da0",
   "metadata": {},
   "source": [
    "# Step 8: Improvement"
   ]
  },
  {
   "cell_type": "code",
   "execution_count": 30,
   "id": "409a662d",
   "metadata": {},
   "outputs": [],
   "source": [
    "from sklearn import model_selection\n",
    "from sklearn.metrics import classification_report\n",
    "from sklearn.metrics import confusion_matrix\n",
    "from sklearn.metrics import accuracy_score\n",
    "from sklearn.linear_model import LogisticRegression\n",
    "from sklearn.tree import DecisionTreeClassifier\n",
    "from sklearn.neighbors import KNeighborsClassifier\n",
    "from sklearn.naive_bayes import GaussianNB\n",
    "from sklearn.svm import SVC"
   ]
  },
  {
   "cell_type": "code",
   "execution_count": 31,
   "id": "3d999706",
   "metadata": {},
   "outputs": [],
   "source": [
    "# We store each trained model into array called models[]\n",
    "models = []\n",
    "models.append(('LR', LogisticRegression()))\n",
    "models.append(('KNN', KNeighborsClassifier()))\n",
    "models.append(('CART', DecisionTreeClassifier()))\n",
    "models.append(('NB', GaussianNB()))\n",
    "models.append(('SVM', SVC()))\n",
    "# See the various parameters of each model and their default values\n",
    "#models"
   ]
  },
  {
   "cell_type": "markdown",
   "id": "547f622d",
   "metadata": {},
   "source": [
    "We will traing the models several times each, in randomly generated splits.\n",
    "\n",
    "A pseudo-random generator is used (in means, not totally random, but using a very large repeatable sequence of options).\n",
    "\n",
    "A seed is an initial value that is fed into the pseudo random number generator as a start of the process of random number generation. \n",
    "\n",
    "If it is not specified, it is selected randomly. As we want to use the same randomization procedure for our six trainings, we want to make it fixed and known. Then the results of different tests are directly comparable."
   ]
  },
  {
   "cell_type": "code",
   "execution_count": 32,
   "id": "84e19e0b",
   "metadata": {},
   "outputs": [],
   "source": [
    "# Give a fixed value for seed to be used in all tests\n",
    "seed = 7\n",
    "\n",
    "# Give fixed value for the number of repeted trainings of one model\n",
    "num_repeat = 10"
   ]
  },
  {
   "cell_type": "code",
   "execution_count": 33,
   "id": "98f9a16c",
   "metadata": {},
   "outputs": [],
   "source": [
    "# Set the metrix\n",
    "scoring = 'accuracy'"
   ]
  },
  {
   "cell_type": "code",
   "execution_count": 34,
   "id": "6a995468",
   "metadata": {},
   "outputs": [
    {
     "name": "stderr",
     "output_type": "stream",
     "text": [
      "C:\\Python310\\lib\\site-packages\\sklearn\\linear_model\\_logistic.py:814: ConvergenceWarning: lbfgs failed to converge (status=1):\n",
      "STOP: TOTAL NO. of ITERATIONS REACHED LIMIT.\n",
      "\n",
      "Increase the number of iterations (max_iter) or scale the data as shown in:\n",
      "    https://scikit-learn.org/stable/modules/preprocessing.html\n",
      "Please also refer to the documentation for alternative solver options:\n",
      "    https://scikit-learn.org/stable/modules/linear_model.html#logistic-regression\n",
      "  n_iter_i = _check_optimize_result(\n",
      "C:\\Python310\\lib\\site-packages\\sklearn\\linear_model\\_logistic.py:814: ConvergenceWarning: lbfgs failed to converge (status=1):\n",
      "STOP: TOTAL NO. of ITERATIONS REACHED LIMIT.\n",
      "\n",
      "Increase the number of iterations (max_iter) or scale the data as shown in:\n",
      "    https://scikit-learn.org/stable/modules/preprocessing.html\n",
      "Please also refer to the documentation for alternative solver options:\n",
      "    https://scikit-learn.org/stable/modules/linear_model.html#logistic-regression\n",
      "  n_iter_i = _check_optimize_result(\n"
     ]
    },
    {
     "name": "stdout",
     "output_type": "stream",
     "text": [
      "LR: 0.910000 (0.181384)\n",
      "KNN: 0.935000 (0.134257)\n",
      "CART: 0.870000 (0.188680)\n",
      "NB: 0.860000 (0.184120)\n",
      "SVM: 0.860000 (0.160935)\n"
     ]
    }
   ],
   "source": [
    "# Run all the algorithms and store their results in results[] and names in names[]\n",
    "# For each we use the specific parameters preliminary stored in modelss[]\n",
    "results = []\n",
    "names = []\n",
    "for name, model in models:\n",
    "    # prepare randomization of splits\n",
    "    kfold = model_selection.KFold(n_splits=num_repeat, random_state=seed, shuffle=True)\n",
    "    \n",
    "    # implement the model and calculate a score based on 'accuracy' (scoring)\n",
    "    cv_results = model_selection.cross_val_score(model, X_test, y_test, cv=kfold, scoring=scoring)\n",
    "    \n",
    "    # store the result of this method in array results[]\n",
    "    results.append(cv_results)\n",
    "    \n",
    "    # store the name of this method in array names[]\n",
    "    names.append(name)\n",
    "    \n",
    "    # tell what you have done so far\n",
    "    msg = \"%s: %f (%f)\" % (name, cv_results.mean(), cv_results.std())\n",
    "    print(msg)   \n",
    "# repeat the same for next method"
   ]
  },
  {
   "cell_type": "code",
   "execution_count": 39,
   "id": "2ed02c2f",
   "metadata": {},
   "outputs": [
    {
     "data": {
      "image/png": "[encoded data removed]",
      "text/plain": [
       "<Figure size 1080x720 with 1 Axes>"
      ]
     },
     "metadata": {
      "needs_background": "light"
     },
     "output_type": "display_data"
    }
   ],
   "source": [
    "# Compare algorithms frame\n",
    "fig = plt.figure(figsize=(15,10))\n",
    "fig.suptitle('Algorithm Comparison')\n",
    "\n",
    "# x axis includes sub-plots\n",
    "ax = fig.add_subplot(111)\n",
    "\n",
    "# y axis result values\n",
    "plt.boxplot(results)\n",
    "\n",
    "# x axis labels\n",
    "ax.set_xticklabels(names)\n",
    "plt.show()"
   ]
  },
  {
   "cell_type": "code",
   "execution_count": 36,
   "id": "7b5ddbac",
   "metadata": {},
   "outputs": [
    {
     "name": "stdout",
     "output_type": "stream",
     "text": [
      "0.9111111111111111\n",
      "[[12  0  0]\n",
      " [ 0 15  1]\n",
      " [ 0  3 14]]\n",
      "                 precision    recall  f1-score   support\n",
      "\n",
      "    Iris-setosa       1.00      1.00      1.00        12\n",
      "Iris-versicolor       0.83      0.94      0.88        16\n",
      " Iris-virginica       0.93      0.82      0.87        17\n",
      "\n",
      "       accuracy                           0.91        45\n",
      "      macro avg       0.92      0.92      0.92        45\n",
      "   weighted avg       0.92      0.91      0.91        45\n",
      "\n"
     ]
    }
   ],
   "source": [
    "# Compare accuracy with KNN\n",
    "knn = KNeighborsClassifier()\n",
    "knn.fit(X_train, y_train)\n",
    "predictions = knn.predict(X_test)\n",
    "\n",
    "# Calculated accuracy of the model over the validation set\n",
    "print(accuracy_score(y_test, predictions))\n",
    "\n",
    "# Confusion matrix provides an indication of the three errors made ???? errors of predictions?\n",
    "print(confusion_matrix(y_test, predictions))\n",
    "\n",
    "# Classification report provides a breakdown of each class by precision, recall, f1-score and support ????\n",
    "print(classification_report(y_test, predictions))"
   ]
  },
  {
   "cell_type": "code",
   "execution_count": null,
   "id": "c24ddf8b",
   "metadata": {},
   "outputs": [],
   "source": []
  }
 ],
 "metadata": {
  "kernelspec": {
   "display_name": "Python 3 (ipykernel)",
   "language": "python",
   "name": "python3"
  },
  "language_info": {
   "codemirror_mode": {
    "name": "ipython",
    "version": 3
   },
   "file_extension": ".py",
   "mimetype": "text/x-python",
   "name": "python",
   "nbconvert_exporter": "python",
   "pygments_lexer": "ipython3",
   "version": "3.10.2"
  }
 },
 "nbformat": 4,
 "nbformat_minor": 5
}
