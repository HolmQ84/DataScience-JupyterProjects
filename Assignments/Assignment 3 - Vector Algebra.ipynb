{
 "cells": [
  {
   "cell_type": "markdown",
   "id": "786ba1f4",
   "metadata": {},
   "source": [
    "# Python\n",
    "## Python provides linear algebra libraries and other packages containing vector functions."
   ]
  },
  {
   "cell_type": "code",
   "execution_count": 10,
   "id": "3712ec37",
   "metadata": {},
   "outputs": [],
   "source": [
    "import numpy as np\n",
    "import pandas as pd"
   ]
  },
  {
   "cell_type": "markdown",
   "id": "084f085c",
   "metadata": {},
   "source": [
    "***"
   ]
  },
  {
   "cell_type": "markdown",
   "id": "c7e7d511",
   "metadata": {},
   "source": [
    "### (s) Using Python and numpy, implement a function mag(vec) to return the magnitude of a 2-dimensional vector."
   ]
  },
  {
   "cell_type": "code",
   "execution_count": 11,
   "id": "df7a75cc",
   "metadata": {},
   "outputs": [],
   "source": [
    "def mag(vec): \n",
    "    return np.linalg.norm(vec)"
   ]
  },
  {
   "cell_type": "code",
   "execution_count": 13,
   "id": "d630657b",
   "metadata": {},
   "outputs": [
    {
     "data": {
      "text/plain": [
       "5.830951894845301"
      ]
     },
     "execution_count": 13,
     "metadata": {},
     "output_type": "execute_result"
    }
   ],
   "source": [
    "mag([5, 3])"
   ]
  },
  {
   "cell_type": "code",
   "execution_count": 15,
   "id": "f21791d4",
   "metadata": {},
   "outputs": [
    {
     "data": {
      "text/plain": [
       "3.605551275463989"
      ]
     },
     "execution_count": 15,
     "metadata": {},
     "output_type": "execute_result"
    }
   ],
   "source": [
    "mag([2, 3])"
   ]
  },
  {
   "cell_type": "markdown",
   "id": "c90fdbbf",
   "metadata": {},
   "source": [
    "***"
   ]
  },
  {
   "cell_type": "markdown",
   "id": "014fab0f",
   "metadata": {},
   "source": [
    "### (t) Likewise, implement a unit(vec) function to return the unit vector of a 2-dimensional vector (as a numpy array)."
   ]
  },
  {
   "cell_type": "code",
   "execution_count": 16,
   "id": "3cf067f8",
   "metadata": {},
   "outputs": [],
   "source": [
    "def unit(vec):\n",
    "    return (vec / np.linalg.norm(vec))"
   ]
  },
  {
   "cell_type": "code",
   "execution_count": 28,
   "id": "71524644",
   "metadata": {},
   "outputs": [
    {
     "data": {
      "text/plain": [
       "array([0.6, 0.8])"
      ]
     },
     "execution_count": 28,
     "metadata": {},
     "output_type": "execute_result"
    }
   ],
   "source": [
    "unit([3, 4])"
   ]
  },
  {
   "cell_type": "code",
   "execution_count": 21,
   "id": "2c357252",
   "metadata": {},
   "outputs": [
    {
     "data": {
      "text/plain": [
       "array([0.46400699, 0.88583154])"
      ]
     },
     "execution_count": 21,
     "metadata": {},
     "output_type": "execute_result"
    }
   ],
   "source": [
    "unit([2.31, 4.41])"
   ]
  },
  {
   "cell_type": "markdown",
   "id": "c54459c0",
   "metadata": {},
   "source": [
    "***"
   ]
  },
  {
   "cell_type": "markdown",
   "id": "7b6bcb3c",
   "metadata": {},
   "source": [
    "### (u) Rotating a 2D vector 90 degrees counter clockwise is done by swapping x and y, and negating the new x. Implement rot90(vec). It must return a new numpy array, that is a 90 degree rotation of the vec input."
   ]
  },
  {
   "cell_type": "code",
   "execution_count": 98,
   "id": "627d0cb7",
   "metadata": {},
   "outputs": [],
   "source": [
    "def rot90(vec):\n",
    "    return (vec[1], -(vec[0]))"
   ]
  },
  {
   "cell_type": "code",
   "execution_count": 101,
   "id": "44b9a292",
   "metadata": {},
   "outputs": [
    {
     "data": {
      "text/plain": [
       "(3, -2)"
      ]
     },
     "execution_count": 101,
     "metadata": {},
     "output_type": "execute_result"
    }
   ],
   "source": [
    "rot90([2, 3])"
   ]
  },
  {
   "cell_type": "code",
   "execution_count": 103,
   "id": "6edc47cb",
   "metadata": {},
   "outputs": [
    {
     "data": {
      "text/plain": [
       "(-2, -3)"
      ]
     },
     "execution_count": 103,
     "metadata": {},
     "output_type": "execute_result"
    }
   ],
   "source": [
    "rot90([3, -2])"
   ]
  },
  {
   "cell_type": "code",
   "execution_count": 104,
   "id": "3159ba7f",
   "metadata": {},
   "outputs": [
    {
     "data": {
      "text/plain": [
       "(-3, 2)"
      ]
     },
     "execution_count": 104,
     "metadata": {},
     "output_type": "execute_result"
    }
   ],
   "source": [
    "rot90([-2, -3])"
   ]
  },
  {
   "cell_type": "code",
   "execution_count": 105,
   "id": "8ff09096",
   "metadata": {},
   "outputs": [
    {
     "data": {
      "text/plain": [
       "(2, 3)"
      ]
     },
     "execution_count": 105,
     "metadata": {},
     "output_type": "execute_result"
    }
   ],
   "source": [
    "rot90([-3, 2])"
   ]
  },
  {
   "cell_type": "markdown",
   "id": "abaaf183",
   "metadata": {},
   "source": [
    "***"
   ]
  },
  {
   "cell_type": "markdown",
   "id": "ca0820fa",
   "metadata": {},
   "source": [
    "### (v) 2 · ~a"
   ]
  },
  {
   "cell_type": "code",
   "execution_count": 82,
   "id": "9669d6bb",
   "metadata": {},
   "outputs": [],
   "source": [
    "def multiplyVec(vec, num):\n",
    "    return ([vec[0]*num, vec[1]*num])"
   ]
  },
  {
   "cell_type": "code",
   "execution_count": 83,
   "id": "ddfc54a5",
   "metadata": {},
   "outputs": [
    {
     "data": {
      "text/plain": [
       "[4, 6]"
      ]
     },
     "execution_count": 83,
     "metadata": {},
     "output_type": "execute_result"
    }
   ],
   "source": [
    "multiplyVec([2, 3], 2)"
   ]
  },
  {
   "cell_type": "markdown",
   "id": "2996a17d",
   "metadata": {},
   "source": [
    "***"
   ]
  },
  {
   "cell_type": "markdown",
   "id": "46d51ec8",
   "metadata": {},
   "source": [
    "### (w) ~a +~b  ~c"
   ]
  },
  {
   "cell_type": "code",
   "execution_count": 86,
   "id": "e0c83685",
   "metadata": {},
   "outputs": [],
   "source": [
    "def addAndSubtract(vec1, vec2, vec3):\n",
    "    return np.subtract(np.add(vec1, vec2), vec3)"
   ]
  },
  {
   "cell_type": "code",
   "execution_count": 85,
   "id": "0a87887e",
   "metadata": {},
   "outputs": [
    {
     "data": {
      "text/plain": [
       "array([10,  4])"
      ]
     },
     "execution_count": 85,
     "metadata": {},
     "output_type": "execute_result"
    }
   ],
   "source": [
    "np.subtract(np.add([3, 2], [8, 7]), [1, 5])"
   ]
  },
  {
   "cell_type": "code",
   "execution_count": 87,
   "id": "09def396",
   "metadata": {},
   "outputs": [
    {
     "data": {
      "text/plain": [
       "array([10,  4])"
      ]
     },
     "execution_count": 87,
     "metadata": {},
     "output_type": "execute_result"
    }
   ],
   "source": [
    "addAndSubtract([3, 2], [8, 7], [1, 5])"
   ]
  },
  {
   "cell_type": "markdown",
   "id": "233937f1",
   "metadata": {},
   "source": [
    "***"
   ]
  },
  {
   "cell_type": "markdown",
   "id": "44f775ea",
   "metadata": {},
   "source": [
    "### (x) Use the online documentation to find out how to calculate the dot product of two vectors."
   ]
  },
  {
   "cell_type": "code",
   "execution_count": 88,
   "id": "8c2ef723",
   "metadata": {},
   "outputs": [
    {
     "data": {
      "text/plain": [
       "17"
      ]
     },
     "execution_count": 88,
     "metadata": {},
     "output_type": "execute_result"
    }
   ],
   "source": [
    "numpy.dot([1, 5], [2, 3])"
   ]
  },
  {
   "cell_type": "markdown",
   "id": "c8321742",
   "metadata": {},
   "source": [
    "***"
   ]
  },
  {
   "cell_type": "markdown",
   "id": "c6c260aa",
   "metadata": {},
   "source": [
    "### (y) Using numpy, find ~a · ~a. Compare with mag(a)*mag(a). What is the difference?"
   ]
  },
  {
   "cell_type": "code",
   "execution_count": 89,
   "id": "4e3ed0c3",
   "metadata": {},
   "outputs": [
    {
     "data": {
      "text/plain": [
       "13"
      ]
     },
     "execution_count": 89,
     "metadata": {},
     "output_type": "execute_result"
    }
   ],
   "source": [
    "numpy.dot([3, 2], [3, 2])"
   ]
  },
  {
   "cell_type": "code",
   "execution_count": 90,
   "id": "009d3f6a",
   "metadata": {},
   "outputs": [
    {
     "data": {
      "text/plain": [
       "12.999999999999998"
      ]
     },
     "execution_count": 90,
     "metadata": {},
     "output_type": "execute_result"
    }
   ],
   "source": [
    "mag([3, 2])*mag([3, 2])"
   ]
  },
  {
   "cell_type": "markdown",
   "id": "0492aeae",
   "metadata": {},
   "source": [
    "***"
   ]
  },
  {
   "cell_type": "markdown",
   "id": "745c9fec",
   "metadata": {},
   "source": [
    "### (z) Using numpy, find ~a ·~b."
   ]
  },
  {
   "cell_type": "code",
   "execution_count": 91,
   "id": "417b2872",
   "metadata": {},
   "outputs": [
    {
     "data": {
      "text/plain": [
       "38"
      ]
     },
     "execution_count": 91,
     "metadata": {},
     "output_type": "execute_result"
    }
   ],
   "source": [
    "numpy.dot([3, 2], [8, 7])"
   ]
  },
  {
   "cell_type": "markdown",
   "id": "e9a6e6aa",
   "metadata": {},
   "source": [
    "***"
   ]
  },
  {
   "cell_type": "markdown",
   "id": "289f1ee4",
   "metadata": {},
   "source": [
    "### (æ) Using your rot90 function, find the dot product of a and its rotation.\n",
    "#### (That is, given a~r = rot90(a), find ~a · a~r)"
   ]
  },
  {
   "cell_type": "code",
   "execution_count": 100,
   "id": "4b1be83a",
   "metadata": {},
   "outputs": [
    {
     "data": {
      "text/plain": [
       "0"
      ]
     },
     "execution_count": 100,
     "metadata": {},
     "output_type": "execute_result"
    }
   ],
   "source": [
    "numpy.dot([3, 2], rot90([3, 2]))"
   ]
  }
 ],
 "metadata": {
  "kernelspec": {
   "display_name": "Python 3 (ipykernel)",
   "language": "python",
   "name": "python3"
  },
  "language_info": {
   "codemirror_mode": {
    "name": "ipython",
    "version": 3
   },
   "file_extension": ".py",
   "mimetype": "text/x-python",
   "name": "python",
   "nbconvert_exporter": "python",
   "pygments_lexer": "ipython3",
   "version": "3.10.2"
  }
 },
 "nbformat": 4,
 "nbformat_minor": 5
}
