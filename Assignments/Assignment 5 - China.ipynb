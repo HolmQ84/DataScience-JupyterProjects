{
 "cells": [
  {
   "cell_type": "markdown",
   "id": "e6a6187d",
   "metadata": {},
   "source": [
    "# <center>Assignment 5: Prediction by Regression</center>"
   ]
  },
  {
   "cell_type": "markdown",
   "id": "01b5b425",
   "metadata": {},
   "source": [
    "### Assignment description"
   ]
  },
  {
   "cell_type": "markdown",
   "id": "c288e971",
   "metadata": {},
   "source": [
    "In the file china_gdp.csv you will find historic data about the development of China's gross domestic product (GDP).\n",
    "\n",
    "Your task is to train a model that fits to the data and use the model for prediction of the GDP values of years 2010, 2020, and 2022.\n",
    "\n",
    "\n",
    "\n",
    "Please, submit a Python solution and elaborate on the following questions related to it:\n",
    "\n",
    "What type/s of regression have you applied?\n",
    "\n",
    "Which were the challenges?\n",
    "\n",
    "How accurate is your solution?\n",
    "\n",
    "What else could be done for improvement of the accuracy?\n",
    "\n",
    "\n",
    "\n",
    "This is a group project.\n",
    "\n",
    "The solution brings two more study points to your collection."
   ]
  },
  {
   "cell_type": "markdown",
   "id": "ca85cfcd",
   "metadata": {},
   "source": [
    "***"
   ]
  },
  {
   "cell_type": "markdown",
   "id": "2e2d94c4",
   "metadata": {},
   "source": [
    "### <center>Getting modules and dataset.</center>"
   ]
  },
  {
   "cell_type": "code",
   "execution_count": 1,
   "id": "e3de0306",
   "metadata": {},
   "outputs": [],
   "source": [
    "import pandas as pd\n",
    "import numpy as np\n",
    "import matplotlib.pyplot as plt\n",
    "import seaborn as sns\n",
    "%matplotlib inline\n",
    "import random\n",
    "from sklearn import metrics as mt\n",
    "from sklearn.linear_model import LinearRegression\n",
    "from sklearn.model_selection import KFold\n",
    "from sklearn.preprocessing import PolynomialFeatures"
   ]
  },
  {
   "cell_type": "code",
   "execution_count": 2,
   "id": "5937e1ed",
   "metadata": {},
   "outputs": [],
   "source": [
    "china = pd.read_csv('./data/china_gdp.csv')"
   ]
  },
  {
   "cell_type": "code",
   "execution_count": 3,
   "id": "7e866826",
   "metadata": {},
   "outputs": [],
   "source": [
    "# split x and y\n",
    "X = china.iloc[:, 0:1].values\n",
    "y = china.iloc[:, 1].values"
   ]
  },
  {
   "cell_type": "markdown",
   "id": "8df11edc",
   "metadata": {},
   "source": [
    "### <center>Analysing the dataset.</center>"
   ]
  },
  {
   "cell_type": "code",
   "execution_count": 4,
   "id": "acd01c68",
   "metadata": {},
   "outputs": [
    {
     "data": {
      "text/html": [
       "<div>\n",
       "<style scoped>\n",
       "    .dataframe tbody tr th:only-of-type {\n",
       "        vertical-align: middle;\n",
       "    }\n",
       "\n",
       "    .dataframe tbody tr th {\n",
       "        vertical-align: top;\n",
       "    }\n",
       "\n",
       "    .dataframe thead th {\n",
       "        text-align: right;\n",
       "    }\n",
       "</style>\n",
       "<table border=\"1\" class=\"dataframe\">\n",
       "  <thead>\n",
       "    <tr style=\"text-align: right;\">\n",
       "      <th></th>\n",
       "      <th>Year</th>\n",
       "      <th>Value</th>\n",
       "    </tr>\n",
       "  </thead>\n",
       "  <tbody>\n",
       "    <tr>\n",
       "      <th>0</th>\n",
       "      <td>1960</td>\n",
       "      <td>5.918412e+10</td>\n",
       "    </tr>\n",
       "    <tr>\n",
       "      <th>1</th>\n",
       "      <td>1961</td>\n",
       "      <td>4.955705e+10</td>\n",
       "    </tr>\n",
       "    <tr>\n",
       "      <th>2</th>\n",
       "      <td>1962</td>\n",
       "      <td>4.668518e+10</td>\n",
       "    </tr>\n",
       "    <tr>\n",
       "      <th>3</th>\n",
       "      <td>1963</td>\n",
       "      <td>5.009730e+10</td>\n",
       "    </tr>\n",
       "    <tr>\n",
       "      <th>4</th>\n",
       "      <td>1964</td>\n",
       "      <td>5.906225e+10</td>\n",
       "    </tr>\n",
       "  </tbody>\n",
       "</table>\n",
       "</div>"
      ],
      "text/plain": [
       "   Year         Value\n",
       "0  1960  5.918412e+10\n",
       "1  1961  4.955705e+10\n",
       "2  1962  4.668518e+10\n",
       "3  1963  5.009730e+10\n",
       "4  1964  5.906225e+10"
      ]
     },
     "execution_count": 4,
     "metadata": {},
     "output_type": "execute_result"
    }
   ],
   "source": [
    "china.head()"
   ]
  },
  {
   "cell_type": "code",
   "execution_count": 5,
   "id": "ba4a2f98",
   "metadata": {},
   "outputs": [
    {
     "data": {
      "text/html": [
       "<div>\n",
       "<style scoped>\n",
       "    .dataframe tbody tr th:only-of-type {\n",
       "        vertical-align: middle;\n",
       "    }\n",
       "\n",
       "    .dataframe tbody tr th {\n",
       "        vertical-align: top;\n",
       "    }\n",
       "\n",
       "    .dataframe thead th {\n",
       "        text-align: right;\n",
       "    }\n",
       "</style>\n",
       "<table border=\"1\" class=\"dataframe\">\n",
       "  <thead>\n",
       "    <tr style=\"text-align: right;\">\n",
       "      <th></th>\n",
       "      <th>Year</th>\n",
       "      <th>Value</th>\n",
       "    </tr>\n",
       "  </thead>\n",
       "  <tbody>\n",
       "    <tr>\n",
       "      <th>50</th>\n",
       "      <td>2010</td>\n",
       "      <td>6.039659e+12</td>\n",
       "    </tr>\n",
       "    <tr>\n",
       "      <th>51</th>\n",
       "      <td>2011</td>\n",
       "      <td>7.492432e+12</td>\n",
       "    </tr>\n",
       "    <tr>\n",
       "      <th>52</th>\n",
       "      <td>2012</td>\n",
       "      <td>8.461623e+12</td>\n",
       "    </tr>\n",
       "    <tr>\n",
       "      <th>53</th>\n",
       "      <td>2013</td>\n",
       "      <td>9.490603e+12</td>\n",
       "    </tr>\n",
       "    <tr>\n",
       "      <th>54</th>\n",
       "      <td>2014</td>\n",
       "      <td>1.035483e+13</td>\n",
       "    </tr>\n",
       "  </tbody>\n",
       "</table>\n",
       "</div>"
      ],
      "text/plain": [
       "    Year         Value\n",
       "50  2010  6.039659e+12\n",
       "51  2011  7.492432e+12\n",
       "52  2012  8.461623e+12\n",
       "53  2013  9.490603e+12\n",
       "54  2014  1.035483e+13"
      ]
     },
     "execution_count": 5,
     "metadata": {},
     "output_type": "execute_result"
    }
   ],
   "source": [
    "china.tail()"
   ]
  },
  {
   "cell_type": "code",
   "execution_count": 6,
   "id": "57097989",
   "metadata": {},
   "outputs": [
    {
     "data": {
      "text/plain": [
       "(55, 2)"
      ]
     },
     "execution_count": 6,
     "metadata": {},
     "output_type": "execute_result"
    }
   ],
   "source": [
    "china.shape"
   ]
  },
  {
   "cell_type": "code",
   "execution_count": 7,
   "id": "fb78655e",
   "metadata": {},
   "outputs": [],
   "source": [
    "correlation = china.corr()"
   ]
  },
  {
   "cell_type": "code",
   "execution_count": 8,
   "id": "5552a806",
   "metadata": {},
   "outputs": [
    {
     "data": {
      "text/plain": [
       "<AxesSubplot:>"
      ]
     },
     "execution_count": 8,
     "metadata": {},
     "output_type": "execute_result"
    },
    {
     "data": {
      "image/png": "[encoded data removed]",
      "text/plain": [
       "<Figure size 720x360 with 2 Axes>"
      ]
     },
     "metadata": {
      "needs_background": "light"
     },
     "output_type": "display_data"
    }
   ],
   "source": [
    "fig, ax = plt.subplots(figsize=(10,5))         # Sample figsize in inches\n",
    "sns.heatmap(correlation, annot=True)"
   ]
  },
  {
   "cell_type": "code",
   "execution_count": 9,
   "id": "16d4f6c0",
   "metadata": {},
   "outputs": [
    {
     "data": {
      "image/png": "[encoded data removed]",
      "text/plain": [
       "<Figure size 1080x720 with 1 Axes>"
      ]
     },
     "metadata": {
      "needs_background": "light"
     },
     "output_type": "display_data"
    }
   ],
   "source": [
    "plt.figure(figsize=(15, 10))\n",
    "plt.xlabel(\"Year\")\n",
    "plt.ylabel(\"GDP\")\n",
    "plt.plot(china['Year'], china['Value'], 'bo')\n",
    "\n",
    "plt.show()"
   ]
  },
  {
   "cell_type": "code",
   "execution_count": 10,
   "id": "8fe4b3e7",
   "metadata": {},
   "outputs": [],
   "source": [
    "# Methods to print years to show accuracy of the models.\n",
    "\n",
    "# Convert number into readable value.\n",
    "def getViewableNumber(num):\n",
    "    return str(round((num/1000000000), 2)) + ' B'\n",
    "\n",
    "# Get linear calculated value\n",
    "def linear_regression_calculator(year):\n",
    "    linear_fit = np.poly1d(np.polyfit(china['Year'], china['Value'],1))\n",
    "    return linear_fit(year)\n",
    "\n",
    "# Get eksponential calculated value\n",
    "def ekspo_regression_calculator(year):\n",
    "    return np.exp(ekspo_fit[1]) * np.exp(ekspo_fit[0]*year)\n",
    "\n",
    "# Get actual value\n",
    "def actual_gdp(year: float) -> float:\n",
    "    x = china.loc[china['Year'] == year]\n",
    "    x = float(x['Value'])\n",
    "    return x"
   ]
  },
  {
   "cell_type": "markdown",
   "id": "5e210936",
   "metadata": {},
   "source": [
    "### <center>Linear regression</center>"
   ]
  },
  {
   "cell_type": "code",
   "execution_count": 11,
   "id": "ac17a401",
   "metadata": {
    "scrolled": false
   },
   "outputs": [
    {
     "data": {
      "text/plain": [
       "Text(0, 0.5, 'Year')"
      ]
     },
     "execution_count": 11,
     "metadata": {},
     "output_type": "execute_result"
    },
    {
     "data": {
      "image/png": "[encoded data removed]",
      "text/plain": [
       "<Figure size 1080x720 with 1 Axes>"
      ]
     },
     "metadata": {
      "needs_background": "light"
     },
     "output_type": "display_data"
    }
   ],
   "source": [
    "# Create a linear regression model.\n",
    "regressor = LinearRegression()\n",
    "\n",
    "#Train the model using the dataset.\n",
    "regressor.fit(X, y)\n",
    "\n",
    "values_predicted = regressor.predict(X)\n",
    "\n",
    "plt.figure(figsize=(15,10))\n",
    "plt.scatter(X, y,)\n",
    "plt.plot(X, values_predicted, color='orange')\n",
    "plt.xlabel('Value')\n",
    "plt.ylabel('Year')"
   ]
  },
  {
   "cell_type": "code",
   "execution_count": 26,
   "id": "727d1b6c",
   "metadata": {},
   "outputs": [
    {
     "name": "stdout",
     "output_type": "stream",
     "text": [
      "GDP prediction for year 2010: \n",
      "Predicted: 4035.11 B\n",
      "   Actual: 6039.66 B\n",
      "Diviation: 2004.54 B\n",
      "\n",
      "GDP prediction for year 2020: 5164.71 B\n",
      "GDP prediction for year 2022: 5390.63 B\n"
     ]
    }
   ],
   "source": [
    "# Show predicted value by linear regression model:\n",
    "print('GDP prediction for year 2010: \\nPredicted: '+getViewableNumber(linear_regression_calculator(2010)))\n",
    "print('   Actual: '+getViewableNumber(actual_gdp(2010)))\n",
    "print('Diviation: '+getViewableNumber(actual_gdp(2010) - linear_regression_calculator(2010)))\n",
    "print('\\nGDP prediction for year 2020: '+getViewableNumber(linear_regression_calculator(2020)))\n",
    "print('GDP prediction for year 2022: '+getViewableNumber(linear_regression_calculator(2022)))"
   ]
  },
  {
   "cell_type": "code",
   "execution_count": 13,
   "id": "af28de85",
   "metadata": {},
   "outputs": [
    {
     "name": "stdout",
     "output_type": "stream",
     "text": [
      "Linear regression accuracy\n",
      "\n",
      "Mean absolute error = 1310712467848.1\n",
      "Mean squared error = 2.921285914150742e+24\n",
      "Median absolute error = 1201717502335.85\n",
      "Explain variance score = 0.52\n",
      "R2 score = 0.52\n",
      "Accuracy = 52 %\n"
     ]
    }
   ],
   "source": [
    "print(\"Linear regression accuracy\\n\")\n",
    "print(\"Mean absolute error =\", round(mt.mean_absolute_error(y, values_predicted), 2))\n",
    "print(\"Mean squared error =\", round(mt.mean_squared_error(y, values_predicted), 2))\n",
    "print(\"Median absolute error =\", round(mt.median_absolute_error(y, values_predicted), 2))\n",
    "print(\"Explain variance score =\", round(mt.explained_variance_score(y, values_predicted), 2))\n",
    "print(\"R2 score =\", round(mt.r2_score(y, values_predicted), 2))\n",
    "print(\"Accuracy =\", int(round(mt.explained_variance_score(y, values_predicted), 2)*100), \"%\" )"
   ]
  },
  {
   "cell_type": "markdown",
   "id": "783fb427",
   "metadata": {},
   "source": [
    "#### <span style=\"color: green\"> The linear regression model is only <u>52 %</u> accurate.</span>\n",
    "#### <span style=\"color: green\"> This could be more precise with a exponential regression model...</span>\n",
    "***"
   ]
  },
  {
   "cell_type": "markdown",
   "id": "aff10f9d",
   "metadata": {},
   "source": [
    "### <center>Exponential regression</center>"
   ]
  },
  {
   "cell_type": "code",
   "execution_count": 14,
   "id": "422b3a74",
   "metadata": {
    "scrolled": false
   },
   "outputs": [
    {
     "data": {
      "text/plain": [
       "Text(0, 0.5, 'Total GDP')"
      ]
     },
     "execution_count": 14,
     "metadata": {},
     "output_type": "execute_result"
    },
    {
     "data": {
      "image/png": "[encoded data removed]",
      "text/plain": [
       "<Figure size 1080x720 with 1 Axes>"
      ]
     },
     "metadata": {
      "needs_background": "light"
     },
     "output_type": "display_data"
    }
   ],
   "source": [
    "# Create a exponential regression model\n",
    "\n",
    "ekspo_fit = np.polyfit(china['Year'], np.log(china['Value']), 1)\n",
    "\n",
    "y_predicted = np.exp(ekspo_fit[1]) * np.exp(ekspo_fit[0]*china['Year'])\n",
    "plt.figure(figsize=(15, 10))\n",
    "plt.plot(china['Year'], china['Value'], \"o\")\n",
    "plt.plot(china['Year'], y_predicted)\n",
    "plt.xlabel('Year')\n",
    "plt.ylabel('Total GDP')"
   ]
  },
  {
   "cell_type": "code",
   "execution_count": 15,
   "id": "a3c25814",
   "metadata": {},
   "outputs": [
    {
     "name": "stdout",
     "output_type": "stream",
     "text": [
      "GDP prediction for year 2010: \n",
      "\n",
      "    Predicted: 3811.64 B\n",
      "       Actual: 6039.66 B\n",
      "    Diviation: 2228.02 B\n",
      "\n",
      "GDP prediction for year 2020: 9906.9 B\n",
      "GDP prediction for year 2022: 11992.32 B\n"
     ]
    }
   ],
   "source": [
    "# Show predicted value by exponential regression model:\n",
    "\n",
    "print('GDP prediction for year 2010: \\n\\n    Predicted: '+getViewableNumber(ekspo_regression_calculator(2010)))\n",
    "print('       Actual: '+getViewableNumber(actual_gdp(2010)))\n",
    "print('    Diviation: '+getViewableNumber(actual_gdp(2010) - ekspo_regression_calculator(2010)))\n",
    "print('\\nGDP prediction for year 2020: '+getViewableNumber(ekspo_regression_calculator(2020)))\n",
    "print('GDP prediction for year 2022: '+getViewableNumber(ekspo_regression_calculator(2022)))"
   ]
  },
  {
   "cell_type": "markdown",
   "id": "7cfd573e",
   "metadata": {},
   "source": [
    "***"
   ]
  },
  {
   "cell_type": "code",
   "execution_count": 16,
   "id": "84eecc2b",
   "metadata": {},
   "outputs": [
    {
     "name": "stdout",
     "output_type": "stream",
     "text": [
      "Exponential regression accuracy\n",
      "\n",
      "Mean absolute error = 493001781028.9\n",
      "Mean squared error = 1.4337833314222322e+24\n",
      "Median absolute error = 95682808019.09\n",
      "Explain variance score = 0.78\n",
      "R2 score = 0.77\n",
      "Accuracy = 78 %\n"
     ]
    }
   ],
   "source": [
    "print(\"Exponential regression accuracy\\n\")\n",
    "print(\"Mean absolute error =\", round(mt.mean_absolute_error(y, y_predicted), 2))\n",
    "print(\"Mean squared error =\", round(mt.mean_squared_error(y, y_predicted), 2))\n",
    "print(\"Median absolute error =\", round(mt.median_absolute_error(y, y_predicted), 2))\n",
    "print(\"Explain variance score =\", round(mt.explained_variance_score(y, y_predicted), 2))\n",
    "print(\"R2 score =\", round(mt.r2_score(y, y_predicted), 2))\n",
    "print(\"Accuracy =\", int(round(mt.explained_variance_score(y, y_predicted), 2)*100), \"%\" )"
   ]
  },
  {
   "cell_type": "markdown",
   "id": "3328b898",
   "metadata": {},
   "source": [
    "#### <span style=\"color: green\"> The exponential regression model is <u>78 %</u> accurate.</span>\n",
    "#### <span style=\"color: green\"> This is alot better compared to the linear model, but could perhaps be even better with an polynomial regression model...</span>\n",
    "***"
   ]
  },
  {
   "cell_type": "markdown",
   "id": "8ae83be9",
   "metadata": {},
   "source": [
    "### <center>Polynominal regression</center>"
   ]
  },
  {
   "cell_type": "code",
   "execution_count": 17,
   "id": "92755574",
   "metadata": {},
   "outputs": [
    {
     "data": {
      "text/plain": [
       "LinearRegression()"
      ]
     },
     "execution_count": 17,
     "metadata": {},
     "output_type": "execute_result"
    }
   ],
   "source": [
    "poly_reg = PolynomialFeatures(degree=3)\n",
    "poly_X = poly_reg.fit_transform(X)\n",
    "\n",
    "# Creating regression model\n",
    "\n",
    "poly_regressor = LinearRegression()\n",
    "poly_regressor.fit(poly_X, y)"
   ]
  },
  {
   "cell_type": "code",
   "execution_count": 18,
   "id": "37ad8905",
   "metadata": {},
   "outputs": [],
   "source": [
    "# Apply model to new training\n",
    "y_predict = poly_regressor.predict(poly_X)\n"
   ]
  },
  {
   "cell_type": "code",
   "execution_count": 19,
   "id": "096df1e4",
   "metadata": {
    "scrolled": false
   },
   "outputs": [
    {
     "data": {
      "image/png": "[encoded data removed]",
      "text/plain": [
       "<Figure size 1080x720 with 1 Axes>"
      ]
     },
     "metadata": {
      "needs_background": "light"
     },
     "output_type": "display_data"
    }
   ],
   "source": [
    "# Visualizing the Polymonial Regression results\n",
    "\n",
    "plt.figure(figsize=(15,10))\n",
    "plt.scatter(X, y)\n",
    "plt.plot(X, y_predict, color='orange')\n",
    "plt.xlabel('Value')\n",
    "plt.ylabel('Year')\n",
    "\n",
    "plt.show()"
   ]
  },
  {
   "cell_type": "code",
   "execution_count": 20,
   "id": "1af8ab6a",
   "metadata": {},
   "outputs": [],
   "source": [
    "# Get polynomial calculated value\n",
    "def poly_predict_value(year):\n",
    "    y_pre_val = poly_regressor.predict(poly_reg.fit_transform([[year]]))\n",
    "    return float(y_pre_val)"
   ]
  },
  {
   "cell_type": "code",
   "execution_count": 21,
   "id": "acd8ee0e",
   "metadata": {},
   "outputs": [
    {
     "name": "stdout",
     "output_type": "stream",
     "text": [
      "GDP prediction for year 2010: \n",
      "\n",
      "    Predicted: 6233.84 B\n",
      "       Actual: 6039.66 B\n",
      "    Diviation: 194.18 B\n",
      "\n",
      "GDP prediction for year 2020: 16145.89 B\n",
      "GDP prediction for year 2022: 18879.82 B\n"
     ]
    }
   ],
   "source": [
    "# Show predicted value by exponential regression model:\n",
    "print('GDP prediction for year 2010: \\n\\n    Predicted: '+getViewableNumber(poly_predict_value(2010)))\n",
    "print('       Actual: '+getViewableNumber(actual_gdp(2010)))\n",
    "print('    Diviation: '+getViewableNumber(poly_predict_value(2010) - actual_gdp(2010)))\n",
    "print('\\nGDP prediction for year 2020: '+getViewableNumber(poly_predict_value(2020)))\n",
    "print('GDP prediction for year 2022: '+getViewableNumber(poly_predict_value(2022)))"
   ]
  },
  {
   "cell_type": "code",
   "execution_count": 22,
   "id": "b09e917e",
   "metadata": {},
   "outputs": [
    {
     "name": "stdout",
     "output_type": "stream",
     "text": [
      "Polynominal regression accuracy\n",
      "\n",
      "Mean absolute error = 396603064119.15\n",
      "Mean squared error = 2.1779364875071557e+23\n",
      "Median absolute error = 381553507803.69\n",
      "Explain variance score = 0.96\n",
      "R2 score = 0.96\n",
      "Accuracy = 96 %\n"
     ]
    }
   ],
   "source": [
    "print(\"Polynominal regression accuracy\\n\")\n",
    "print(\"Mean absolute error =\", round(mt.mean_absolute_error(y, y_predict), 2))\n",
    "print(\"Mean squared error =\", round(mt.mean_squared_error(y, y_predict), 2))\n",
    "print(\"Median absolute error =\", round(mt.median_absolute_error(y, y_predict), 2))\n",
    "print(\"Explain variance score =\", round(mt.explained_variance_score(y, y_predict), 2))\n",
    "print(\"R2 score =\", round(mt.r2_score(y, y_predict), 2))\n",
    "print(\"Accuracy =\", int(round(mt.explained_variance_score(y, y_predict), 2)*100), \"%\" )"
   ]
  },
  {
   "cell_type": "markdown",
   "id": "d3c937a8",
   "metadata": {},
   "source": [
    "#### <span style=\"color: green\"> The polynomial regression model has a <u>96 %</u> accuracy.</span>\n",
    "#### <span style=\"color: green\"> This model has a very high accuracy, which gives us the best chances of being precise on future GDP Values for China.</span>\n",
    "***"
   ]
  },
  {
   "cell_type": "markdown",
   "id": "05874e13",
   "metadata": {},
   "source": [
    "## The results for the different types of regressions - shows that the polynomial regression model was the best approach for this assignment.\n",
    "\n",
    "The linear regression model was <u>52 %</u> accurate. \n",
    "<br>The exponential regression model was <u>78 %</u> accurate.\n",
    "<br>The polynomial regression model was <u>96 %</u> accuracy.\n"
   ]
  }
 ],
 "metadata": {
  "kernelspec": {
   "display_name": "Python 3 (ipykernel)",
   "language": "python",
   "name": "python3"
  },
  "language_info": {
   "codemirror_mode": {
    "name": "ipython",
    "version": 3
   },
   "file_extension": ".py",
   "mimetype": "text/x-python",
   "name": "python",
   "nbconvert_exporter": "python",
   "pygments_lexer": "ipython3",
   "version": "3.10.2"
  }
 },
 "nbformat": 4,
 "nbformat_minor": 5
}
