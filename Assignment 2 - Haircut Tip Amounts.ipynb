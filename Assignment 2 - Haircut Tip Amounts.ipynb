{
 "cells": [
  {
   "cell_type": "markdown",
   "id": "ea54bbe5",
   "metadata": {},
   "source": [
    "# <center>Haircut Tip Amounts Analysis</center>"
   ]
  },
  {
   "cell_type": "markdown",
   "id": "7f6fe0dd",
   "metadata": {},
   "source": [
    "### Accessing the data"
   ]
  },
  {
   "cell_type": "code",
   "execution_count": 1,
   "id": "2962893f",
   "metadata": {},
   "outputs": [],
   "source": [
    "import pandas as pd\n",
    "import numpy as np\n",
    "import matplotlib.pyplot as plt\n",
    "import seaborn as sns\n",
    "%matplotlib inline\n",
    "import random\n",
    "from sklearn import datasets, svm, tree, preprocessing, metrics\n",
    "import warnings\n",
    "warnings.simplefilter(\"ignore\")"
   ]
  },
  {
   "cell_type": "code",
   "execution_count": 2,
   "id": "ccfdcb24",
   "metadata": {},
   "outputs": [],
   "source": [
    "tipAmounts = pd.read_excel('./data/Haircut Tip Amounts.xlsx', skiprows=2)"
   ]
  },
  {
   "cell_type": "code",
   "execution_count": 3,
   "id": "2d4d8607",
   "metadata": {},
   "outputs": [
    {
     "data": {
      "text/html": [
       "<div>\n",
       "<style scoped>\n",
       "    .dataframe tbody tr th:only-of-type {\n",
       "        vertical-align: middle;\n",
       "    }\n",
       "\n",
       "    .dataframe tbody tr th {\n",
       "        vertical-align: top;\n",
       "    }\n",
       "\n",
       "    .dataframe thead th {\n",
       "        text-align: right;\n",
       "    }\n",
       "</style>\n",
       "<table border=\"1\" class=\"dataframe\">\n",
       "  <thead>\n",
       "    <tr style=\"text-align: right;\">\n",
       "      <th></th>\n",
       "      <th>Tip amount</th>\n",
       "      <th>Time</th>\n",
       "      <th>Day</th>\n",
       "      <th>Culture</th>\n",
       "      <th>Married</th>\n",
       "      <th>Age</th>\n",
       "      <th>Unnamed: 6</th>\n",
       "      <th>Unnamed: 7</th>\n",
       "      <th>Culture Codes</th>\n",
       "      <th>Unnamed: 9</th>\n",
       "    </tr>\n",
       "  </thead>\n",
       "  <tbody>\n",
       "    <tr>\n",
       "      <th>0</th>\n",
       "      <td>0</td>\n",
       "      <td>5.0</td>\n",
       "      <td>Fri</td>\n",
       "      <td>I</td>\n",
       "      <td>NM</td>\n",
       "      <td>30.0</td>\n",
       "      <td>NaN</td>\n",
       "      <td>NaN</td>\n",
       "      <td>I</td>\n",
       "      <td>Indian</td>\n",
       "    </tr>\n",
       "    <tr>\n",
       "      <th>1</th>\n",
       "      <td>1</td>\n",
       "      <td>2.0</td>\n",
       "      <td>Tue</td>\n",
       "      <td>E</td>\n",
       "      <td>NM</td>\n",
       "      <td>10.0</td>\n",
       "      <td>NaN</td>\n",
       "      <td>NaN</td>\n",
       "      <td>E</td>\n",
       "      <td>European</td>\n",
       "    </tr>\n",
       "    <tr>\n",
       "      <th>2</th>\n",
       "      <td>1</td>\n",
       "      <td>7.0</td>\n",
       "      <td>Tues</td>\n",
       "      <td>I</td>\n",
       "      <td>NM</td>\n",
       "      <td>35.0</td>\n",
       "      <td>NaN</td>\n",
       "      <td>NaN</td>\n",
       "      <td>B</td>\n",
       "      <td>African American</td>\n",
       "    </tr>\n",
       "    <tr>\n",
       "      <th>3</th>\n",
       "      <td>2</td>\n",
       "      <td>5.0</td>\n",
       "      <td>Mon</td>\n",
       "      <td>I</td>\n",
       "      <td>NM</td>\n",
       "      <td>35.0</td>\n",
       "      <td>NaN</td>\n",
       "      <td>NaN</td>\n",
       "      <td>W</td>\n",
       "      <td>American</td>\n",
       "    </tr>\n",
       "    <tr>\n",
       "      <th>4</th>\n",
       "      <td>2</td>\n",
       "      <td>12.0</td>\n",
       "      <td>Fri</td>\n",
       "      <td>M</td>\n",
       "      <td>NM</td>\n",
       "      <td>15.0</td>\n",
       "      <td>NaN</td>\n",
       "      <td>NaN</td>\n",
       "      <td>P</td>\n",
       "      <td>Phillipino</td>\n",
       "    </tr>\n",
       "    <tr>\n",
       "      <th>...</th>\n",
       "      <td>...</td>\n",
       "      <td>...</td>\n",
       "      <td>...</td>\n",
       "      <td>...</td>\n",
       "      <td>...</td>\n",
       "      <td>...</td>\n",
       "      <td>...</td>\n",
       "      <td>...</td>\n",
       "      <td>...</td>\n",
       "      <td>...</td>\n",
       "    </tr>\n",
       "    <tr>\n",
       "      <th>229</th>\n",
       "      <td>10</td>\n",
       "      <td>1.0</td>\n",
       "      <td>Sat</td>\n",
       "      <td>W</td>\n",
       "      <td>M</td>\n",
       "      <td>40.0</td>\n",
       "      <td>NaN</td>\n",
       "      <td>NaN</td>\n",
       "      <td>NaN</td>\n",
       "      <td>NaN</td>\n",
       "    </tr>\n",
       "    <tr>\n",
       "      <th>230</th>\n",
       "      <td>1</td>\n",
       "      <td>13.0</td>\n",
       "      <td>Sat</td>\n",
       "      <td>I</td>\n",
       "      <td>NM</td>\n",
       "      <td>10.0</td>\n",
       "      <td>NaN</td>\n",
       "      <td>NaN</td>\n",
       "      <td>NaN</td>\n",
       "      <td>NaN</td>\n",
       "    </tr>\n",
       "    <tr>\n",
       "      <th>231</th>\n",
       "      <td>5</td>\n",
       "      <td>14.0</td>\n",
       "      <td>Sat</td>\n",
       "      <td>W</td>\n",
       "      <td>M</td>\n",
       "      <td>36.0</td>\n",
       "      <td>NaN</td>\n",
       "      <td>NaN</td>\n",
       "      <td>NaN</td>\n",
       "      <td>NaN</td>\n",
       "    </tr>\n",
       "    <tr>\n",
       "      <th>232</th>\n",
       "      <td>3</td>\n",
       "      <td>15.0</td>\n",
       "      <td>Sat</td>\n",
       "      <td>W</td>\n",
       "      <td>NM</td>\n",
       "      <td>8.0</td>\n",
       "      <td>NaN</td>\n",
       "      <td>NaN</td>\n",
       "      <td>NaN</td>\n",
       "      <td>NaN</td>\n",
       "    </tr>\n",
       "    <tr>\n",
       "      <th>233</th>\n",
       "      <td>5</td>\n",
       "      <td>16.0</td>\n",
       "      <td>Fri</td>\n",
       "      <td>I</td>\n",
       "      <td>NM</td>\n",
       "      <td>35.0</td>\n",
       "      <td>NaN</td>\n",
       "      <td>NaN</td>\n",
       "      <td>NaN</td>\n",
       "      <td>NaN</td>\n",
       "    </tr>\n",
       "  </tbody>\n",
       "</table>\n",
       "<p>234 rows × 10 columns</p>\n",
       "</div>"
      ],
      "text/plain": [
       "    Tip amount  Time   Day Culture Married   Age  Unnamed: 6  Unnamed: 7  \\\n",
       "0            0   5.0   Fri       I      NM  30.0         NaN         NaN   \n",
       "1            1   2.0   Tue       E      NM  10.0         NaN         NaN   \n",
       "2            1   7.0  Tues       I      NM  35.0         NaN         NaN   \n",
       "3            2   5.0   Mon       I      NM  35.0         NaN         NaN   \n",
       "4            2  12.0   Fri       M      NM  15.0         NaN         NaN   \n",
       "..         ...   ...   ...     ...     ...   ...         ...         ...   \n",
       "229         10   1.0   Sat       W       M  40.0         NaN         NaN   \n",
       "230          1  13.0   Sat       I      NM  10.0         NaN         NaN   \n",
       "231          5  14.0   Sat       W       M  36.0         NaN         NaN   \n",
       "232          3  15.0   Sat       W      NM   8.0         NaN         NaN   \n",
       "233          5  16.0   Fri       I      NM  35.0         NaN         NaN   \n",
       "\n",
       "    Culture Codes        Unnamed: 9  \n",
       "0               I            Indian  \n",
       "1               E          European  \n",
       "2               B  African American  \n",
       "3               W          American  \n",
       "4               P        Phillipino  \n",
       "..            ...               ...  \n",
       "229           NaN               NaN  \n",
       "230           NaN               NaN  \n",
       "231           NaN               NaN  \n",
       "232           NaN               NaN  \n",
       "233           NaN               NaN  \n",
       "\n",
       "[234 rows x 10 columns]"
      ]
     },
     "execution_count": 3,
     "metadata": {},
     "output_type": "execute_result"
    }
   ],
   "source": [
    "tipAmounts"
   ]
  },
  {
   "cell_type": "markdown",
   "id": "47f467f2",
   "metadata": {},
   "source": [
    "### Cleaning the dataset."
   ]
  },
  {
   "cell_type": "code",
   "execution_count": 4,
   "id": "f057b2d3",
   "metadata": {},
   "outputs": [],
   "source": [
    "# Drop row 6-7 without data.\n",
    "tipAmounts = tipAmounts.drop(tipAmounts.columns[[6,7]], axis=1)"
   ]
  },
  {
   "cell_type": "code",
   "execution_count": 5,
   "id": "fd4c53f5",
   "metadata": {},
   "outputs": [
    {
     "data": {
      "text/html": [
       "<div>\n",
       "<style scoped>\n",
       "    .dataframe tbody tr th:only-of-type {\n",
       "        vertical-align: middle;\n",
       "    }\n",
       "\n",
       "    .dataframe tbody tr th {\n",
       "        vertical-align: top;\n",
       "    }\n",
       "\n",
       "    .dataframe thead th {\n",
       "        text-align: right;\n",
       "    }\n",
       "</style>\n",
       "<table border=\"1\" class=\"dataframe\">\n",
       "  <thead>\n",
       "    <tr style=\"text-align: right;\">\n",
       "      <th></th>\n",
       "      <th>Time</th>\n",
       "      <th>Age</th>\n",
       "    </tr>\n",
       "    <tr>\n",
       "      <th>Culture</th>\n",
       "      <th></th>\n",
       "      <th></th>\n",
       "    </tr>\n",
       "  </thead>\n",
       "  <tbody>\n",
       "    <tr>\n",
       "      <th>A</th>\n",
       "      <td>10.769231</td>\n",
       "      <td>27.307692</td>\n",
       "    </tr>\n",
       "    <tr>\n",
       "      <th>B</th>\n",
       "      <td>6.000000</td>\n",
       "      <td>27.750000</td>\n",
       "    </tr>\n",
       "    <tr>\n",
       "      <th>E</th>\n",
       "      <td>9.250000</td>\n",
       "      <td>26.000000</td>\n",
       "    </tr>\n",
       "    <tr>\n",
       "      <th>H</th>\n",
       "      <td>11.000000</td>\n",
       "      <td>16.000000</td>\n",
       "    </tr>\n",
       "    <tr>\n",
       "      <th>I</th>\n",
       "      <td>10.564103</td>\n",
       "      <td>33.076923</td>\n",
       "    </tr>\n",
       "    <tr>\n",
       "      <th>M</th>\n",
       "      <td>9.080000</td>\n",
       "      <td>30.600000</td>\n",
       "    </tr>\n",
       "    <tr>\n",
       "      <th>P</th>\n",
       "      <td>10.428571</td>\n",
       "      <td>31.428571</td>\n",
       "    </tr>\n",
       "    <tr>\n",
       "      <th>V</th>\n",
       "      <td>16.000000</td>\n",
       "      <td>45.000000</td>\n",
       "    </tr>\n",
       "    <tr>\n",
       "      <th>W</th>\n",
       "      <td>9.456693</td>\n",
       "      <td>32.307087</td>\n",
       "    </tr>\n",
       "  </tbody>\n",
       "</table>\n",
       "</div>"
      ],
      "text/plain": [
       "              Time        Age\n",
       "Culture                      \n",
       "A        10.769231  27.307692\n",
       "B         6.000000  27.750000\n",
       "E         9.250000  26.000000\n",
       "H        11.000000  16.000000\n",
       "I        10.564103  33.076923\n",
       "M         9.080000  30.600000\n",
       "P        10.428571  31.428571\n",
       "V        16.000000  45.000000\n",
       "W         9.456693  32.307087"
      ]
     },
     "execution_count": 5,
     "metadata": {},
     "output_type": "execute_result"
    }
   ],
   "source": [
    "# Check different types of cultures.\n",
    "tipAmounts.groupby('Culture').mean()"
   ]
  },
  {
   "cell_type": "code",
   "execution_count": 6,
   "id": "b9e58e86",
   "metadata": {},
   "outputs": [],
   "source": [
    "# Replace letters with actual names of the culture.\n",
    "tipAmounts['Culture'] = tipAmounts['Culture'].replace(to_replace='A', value='Asian', regex=True)\n",
    "tipAmounts['Culture'] = tipAmounts['Culture'].replace(to_replace='E', value='European', regex=True)\n",
    "tipAmounts['Culture'] = tipAmounts['Culture'].replace(to_replace='I', value='Indian', regex=True)\n",
    "tipAmounts['Culture'] = tipAmounts['Culture'].replace(to_replace='B', value='African American', regex=True)\n",
    "tipAmounts['Culture'] = tipAmounts['Culture'].replace(to_replace='W', value='American', regex=True)\n",
    "tipAmounts['Culture'] = tipAmounts['Culture'].replace(to_replace='P', value='Phillipino', regex=True)\n",
    "tipAmounts['Culture'] = tipAmounts['Culture'].replace(to_replace='M', value='Middle Eastern', regex=True)"
   ]
  },
  {
   "cell_type": "code",
   "execution_count": 7,
   "id": "f28c07f9",
   "metadata": {},
   "outputs": [
    {
     "data": {
      "text/html": [
       "<div>\n",
       "<style scoped>\n",
       "    .dataframe tbody tr th:only-of-type {\n",
       "        vertical-align: middle;\n",
       "    }\n",
       "\n",
       "    .dataframe tbody tr th {\n",
       "        vertical-align: top;\n",
       "    }\n",
       "\n",
       "    .dataframe thead th {\n",
       "        text-align: right;\n",
       "    }\n",
       "</style>\n",
       "<table border=\"1\" class=\"dataframe\">\n",
       "  <thead>\n",
       "    <tr style=\"text-align: right;\">\n",
       "      <th></th>\n",
       "      <th>Tip amount</th>\n",
       "      <th>Time</th>\n",
       "      <th>Day</th>\n",
       "      <th>Culture</th>\n",
       "      <th>Married</th>\n",
       "      <th>Age</th>\n",
       "      <th>Culture Codes</th>\n",
       "      <th>Unnamed: 9</th>\n",
       "    </tr>\n",
       "  </thead>\n",
       "  <tbody>\n",
       "    <tr>\n",
       "      <th>123</th>\n",
       "      <td>5</td>\n",
       "      <td>11.0</td>\n",
       "      <td>Fri</td>\n",
       "      <td>H</td>\n",
       "      <td>NM</td>\n",
       "      <td>16.0</td>\n",
       "      <td>NaN</td>\n",
       "      <td>NaN</td>\n",
       "    </tr>\n",
       "  </tbody>\n",
       "</table>\n",
       "</div>"
      ],
      "text/plain": [
       "    Tip amount  Time  Day Culture Married   Age Culture Codes Unnamed: 9\n",
       "123          5  11.0  Fri       H      NM  16.0           NaN        NaN"
      ]
     },
     "execution_count": 7,
     "metadata": {},
     "output_type": "execute_result"
    }
   ],
   "source": [
    "# Remove the 2 entries without a correct culture letter.\n",
    "tipAmounts.loc[tipAmounts['Culture'] == 'H']"
   ]
  },
  {
   "cell_type": "code",
   "execution_count": 8,
   "id": "be9d8b50",
   "metadata": {},
   "outputs": [
    {
     "data": {
      "text/html": [
       "<div>\n",
       "<style scoped>\n",
       "    .dataframe tbody tr th:only-of-type {\n",
       "        vertical-align: middle;\n",
       "    }\n",
       "\n",
       "    .dataframe tbody tr th {\n",
       "        vertical-align: top;\n",
       "    }\n",
       "\n",
       "    .dataframe thead th {\n",
       "        text-align: right;\n",
       "    }\n",
       "</style>\n",
       "<table border=\"1\" class=\"dataframe\">\n",
       "  <thead>\n",
       "    <tr style=\"text-align: right;\">\n",
       "      <th></th>\n",
       "      <th>Tip amount</th>\n",
       "      <th>Time</th>\n",
       "      <th>Day</th>\n",
       "      <th>Culture</th>\n",
       "      <th>Married</th>\n",
       "      <th>Age</th>\n",
       "      <th>Culture Codes</th>\n",
       "      <th>Unnamed: 9</th>\n",
       "    </tr>\n",
       "  </thead>\n",
       "  <tbody>\n",
       "    <tr>\n",
       "      <th>220</th>\n",
       "      <td>5</td>\n",
       "      <td>16.0</td>\n",
       "      <td>Mon</td>\n",
       "      <td>V</td>\n",
       "      <td>M</td>\n",
       "      <td>45.0</td>\n",
       "      <td>NaN</td>\n",
       "      <td>NaN</td>\n",
       "    </tr>\n",
       "  </tbody>\n",
       "</table>\n",
       "</div>"
      ],
      "text/plain": [
       "    Tip amount  Time  Day Culture Married   Age Culture Codes Unnamed: 9\n",
       "220          5  16.0  Mon       V       M  45.0           NaN        NaN"
      ]
     },
     "execution_count": 8,
     "metadata": {},
     "output_type": "execute_result"
    }
   ],
   "source": [
    "tipAmounts.loc[tipAmounts['Culture'] == 'V']"
   ]
  },
  {
   "cell_type": "code",
   "execution_count": 9,
   "id": "c5a67e7f",
   "metadata": {},
   "outputs": [],
   "source": [
    "tipAmounts = tipAmounts.drop([123, 220])"
   ]
  },
  {
   "cell_type": "code",
   "execution_count": 10,
   "id": "aee03f19",
   "metadata": {},
   "outputs": [
    {
     "data": {
      "text/html": [
       "<div>\n",
       "<style scoped>\n",
       "    .dataframe tbody tr th:only-of-type {\n",
       "        vertical-align: middle;\n",
       "    }\n",
       "\n",
       "    .dataframe tbody tr th {\n",
       "        vertical-align: top;\n",
       "    }\n",
       "\n",
       "    .dataframe thead th {\n",
       "        text-align: right;\n",
       "    }\n",
       "</style>\n",
       "<table border=\"1\" class=\"dataframe\">\n",
       "  <thead>\n",
       "    <tr style=\"text-align: right;\">\n",
       "      <th></th>\n",
       "      <th>Tip amount</th>\n",
       "      <th>Time</th>\n",
       "      <th>Day</th>\n",
       "      <th>Culture</th>\n",
       "      <th>Married</th>\n",
       "      <th>Age</th>\n",
       "      <th>Culture Codes</th>\n",
       "      <th>Unnamed: 9</th>\n",
       "    </tr>\n",
       "  </thead>\n",
       "  <tbody>\n",
       "    <tr>\n",
       "      <th>0</th>\n",
       "      <td>0</td>\n",
       "      <td>5.0</td>\n",
       "      <td>Fri</td>\n",
       "      <td>Indian</td>\n",
       "      <td>NM</td>\n",
       "      <td>30.0</td>\n",
       "      <td>I</td>\n",
       "      <td>Indian</td>\n",
       "    </tr>\n",
       "    <tr>\n",
       "      <th>1</th>\n",
       "      <td>1</td>\n",
       "      <td>2.0</td>\n",
       "      <td>Tue</td>\n",
       "      <td>European</td>\n",
       "      <td>NM</td>\n",
       "      <td>10.0</td>\n",
       "      <td>E</td>\n",
       "      <td>European</td>\n",
       "    </tr>\n",
       "    <tr>\n",
       "      <th>2</th>\n",
       "      <td>1</td>\n",
       "      <td>7.0</td>\n",
       "      <td>Tues</td>\n",
       "      <td>Indian</td>\n",
       "      <td>NM</td>\n",
       "      <td>35.0</td>\n",
       "      <td>B</td>\n",
       "      <td>African American</td>\n",
       "    </tr>\n",
       "    <tr>\n",
       "      <th>3</th>\n",
       "      <td>2</td>\n",
       "      <td>5.0</td>\n",
       "      <td>Mon</td>\n",
       "      <td>Indian</td>\n",
       "      <td>NM</td>\n",
       "      <td>35.0</td>\n",
       "      <td>W</td>\n",
       "      <td>American</td>\n",
       "    </tr>\n",
       "    <tr>\n",
       "      <th>4</th>\n",
       "      <td>2</td>\n",
       "      <td>12.0</td>\n",
       "      <td>Fri</td>\n",
       "      <td>Middle Eastern</td>\n",
       "      <td>NM</td>\n",
       "      <td>15.0</td>\n",
       "      <td>P</td>\n",
       "      <td>Phillipino</td>\n",
       "    </tr>\n",
       "    <tr>\n",
       "      <th>...</th>\n",
       "      <td>...</td>\n",
       "      <td>...</td>\n",
       "      <td>...</td>\n",
       "      <td>...</td>\n",
       "      <td>...</td>\n",
       "      <td>...</td>\n",
       "      <td>...</td>\n",
       "      <td>...</td>\n",
       "    </tr>\n",
       "    <tr>\n",
       "      <th>229</th>\n",
       "      <td>10</td>\n",
       "      <td>1.0</td>\n",
       "      <td>Sat</td>\n",
       "      <td>American</td>\n",
       "      <td>M</td>\n",
       "      <td>40.0</td>\n",
       "      <td>NaN</td>\n",
       "      <td>NaN</td>\n",
       "    </tr>\n",
       "    <tr>\n",
       "      <th>230</th>\n",
       "      <td>1</td>\n",
       "      <td>13.0</td>\n",
       "      <td>Sat</td>\n",
       "      <td>Indian</td>\n",
       "      <td>NM</td>\n",
       "      <td>10.0</td>\n",
       "      <td>NaN</td>\n",
       "      <td>NaN</td>\n",
       "    </tr>\n",
       "    <tr>\n",
       "      <th>231</th>\n",
       "      <td>5</td>\n",
       "      <td>14.0</td>\n",
       "      <td>Sat</td>\n",
       "      <td>American</td>\n",
       "      <td>M</td>\n",
       "      <td>36.0</td>\n",
       "      <td>NaN</td>\n",
       "      <td>NaN</td>\n",
       "    </tr>\n",
       "    <tr>\n",
       "      <th>232</th>\n",
       "      <td>3</td>\n",
       "      <td>15.0</td>\n",
       "      <td>Sat</td>\n",
       "      <td>American</td>\n",
       "      <td>NM</td>\n",
       "      <td>8.0</td>\n",
       "      <td>NaN</td>\n",
       "      <td>NaN</td>\n",
       "    </tr>\n",
       "    <tr>\n",
       "      <th>233</th>\n",
       "      <td>5</td>\n",
       "      <td>16.0</td>\n",
       "      <td>Fri</td>\n",
       "      <td>Indian</td>\n",
       "      <td>NM</td>\n",
       "      <td>35.0</td>\n",
       "      <td>NaN</td>\n",
       "      <td>NaN</td>\n",
       "    </tr>\n",
       "  </tbody>\n",
       "</table>\n",
       "<p>232 rows × 8 columns</p>\n",
       "</div>"
      ],
      "text/plain": [
       "    Tip amount  Time   Day         Culture Married   Age Culture Codes  \\\n",
       "0            0   5.0   Fri          Indian      NM  30.0             I   \n",
       "1            1   2.0   Tue        European      NM  10.0             E   \n",
       "2            1   7.0  Tues          Indian      NM  35.0             B   \n",
       "3            2   5.0   Mon          Indian      NM  35.0             W   \n",
       "4            2  12.0   Fri  Middle Eastern      NM  15.0             P   \n",
       "..         ...   ...   ...             ...     ...   ...           ...   \n",
       "229         10   1.0   Sat        American       M  40.0           NaN   \n",
       "230          1  13.0   Sat          Indian      NM  10.0           NaN   \n",
       "231          5  14.0   Sat        American       M  36.0           NaN   \n",
       "232          3  15.0   Sat        American      NM   8.0           NaN   \n",
       "233          5  16.0   Fri          Indian      NM  35.0           NaN   \n",
       "\n",
       "           Unnamed: 9  \n",
       "0              Indian  \n",
       "1            European  \n",
       "2    African American  \n",
       "3            American  \n",
       "4          Phillipino  \n",
       "..                ...  \n",
       "229               NaN  \n",
       "230               NaN  \n",
       "231               NaN  \n",
       "232               NaN  \n",
       "233               NaN  \n",
       "\n",
       "[232 rows x 8 columns]"
      ]
     },
     "execution_count": 10,
     "metadata": {},
     "output_type": "execute_result"
    }
   ],
   "source": [
    "tipAmounts"
   ]
  },
  {
   "cell_type": "code",
   "execution_count": 11,
   "id": "959044d2",
   "metadata": {},
   "outputs": [],
   "source": [
    "# Remove the 'Culture Codes' column and the last one.\n",
    "tipAmounts = tipAmounts.drop(tipAmounts.columns[[6,7]], axis=1)"
   ]
  },
  {
   "cell_type": "code",
   "execution_count": 12,
   "id": "6a276d3d",
   "metadata": {},
   "outputs": [
    {
     "data": {
      "text/html": [
       "<div>\n",
       "<style scoped>\n",
       "    .dataframe tbody tr th:only-of-type {\n",
       "        vertical-align: middle;\n",
       "    }\n",
       "\n",
       "    .dataframe tbody tr th {\n",
       "        vertical-align: top;\n",
       "    }\n",
       "\n",
       "    .dataframe thead th {\n",
       "        text-align: right;\n",
       "    }\n",
       "</style>\n",
       "<table border=\"1\" class=\"dataframe\">\n",
       "  <thead>\n",
       "    <tr style=\"text-align: right;\">\n",
       "      <th></th>\n",
       "      <th>Tip amount</th>\n",
       "      <th>Time</th>\n",
       "      <th>Day</th>\n",
       "      <th>Culture</th>\n",
       "      <th>Married</th>\n",
       "      <th>Age</th>\n",
       "    </tr>\n",
       "  </thead>\n",
       "  <tbody>\n",
       "    <tr>\n",
       "      <th>0</th>\n",
       "      <td>0</td>\n",
       "      <td>5.0</td>\n",
       "      <td>Fri</td>\n",
       "      <td>Indian</td>\n",
       "      <td>NM</td>\n",
       "      <td>30.0</td>\n",
       "    </tr>\n",
       "    <tr>\n",
       "      <th>1</th>\n",
       "      <td>1</td>\n",
       "      <td>2.0</td>\n",
       "      <td>Tue</td>\n",
       "      <td>European</td>\n",
       "      <td>NM</td>\n",
       "      <td>10.0</td>\n",
       "    </tr>\n",
       "    <tr>\n",
       "      <th>2</th>\n",
       "      <td>1</td>\n",
       "      <td>7.0</td>\n",
       "      <td>Tues</td>\n",
       "      <td>Indian</td>\n",
       "      <td>NM</td>\n",
       "      <td>35.0</td>\n",
       "    </tr>\n",
       "    <tr>\n",
       "      <th>3</th>\n",
       "      <td>2</td>\n",
       "      <td>5.0</td>\n",
       "      <td>Mon</td>\n",
       "      <td>Indian</td>\n",
       "      <td>NM</td>\n",
       "      <td>35.0</td>\n",
       "    </tr>\n",
       "    <tr>\n",
       "      <th>4</th>\n",
       "      <td>2</td>\n",
       "      <td>12.0</td>\n",
       "      <td>Fri</td>\n",
       "      <td>Middle Eastern</td>\n",
       "      <td>NM</td>\n",
       "      <td>15.0</td>\n",
       "    </tr>\n",
       "    <tr>\n",
       "      <th>...</th>\n",
       "      <td>...</td>\n",
       "      <td>...</td>\n",
       "      <td>...</td>\n",
       "      <td>...</td>\n",
       "      <td>...</td>\n",
       "      <td>...</td>\n",
       "    </tr>\n",
       "    <tr>\n",
       "      <th>229</th>\n",
       "      <td>10</td>\n",
       "      <td>1.0</td>\n",
       "      <td>Sat</td>\n",
       "      <td>American</td>\n",
       "      <td>M</td>\n",
       "      <td>40.0</td>\n",
       "    </tr>\n",
       "    <tr>\n",
       "      <th>230</th>\n",
       "      <td>1</td>\n",
       "      <td>13.0</td>\n",
       "      <td>Sat</td>\n",
       "      <td>Indian</td>\n",
       "      <td>NM</td>\n",
       "      <td>10.0</td>\n",
       "    </tr>\n",
       "    <tr>\n",
       "      <th>231</th>\n",
       "      <td>5</td>\n",
       "      <td>14.0</td>\n",
       "      <td>Sat</td>\n",
       "      <td>American</td>\n",
       "      <td>M</td>\n",
       "      <td>36.0</td>\n",
       "    </tr>\n",
       "    <tr>\n",
       "      <th>232</th>\n",
       "      <td>3</td>\n",
       "      <td>15.0</td>\n",
       "      <td>Sat</td>\n",
       "      <td>American</td>\n",
       "      <td>NM</td>\n",
       "      <td>8.0</td>\n",
       "    </tr>\n",
       "    <tr>\n",
       "      <th>233</th>\n",
       "      <td>5</td>\n",
       "      <td>16.0</td>\n",
       "      <td>Fri</td>\n",
       "      <td>Indian</td>\n",
       "      <td>NM</td>\n",
       "      <td>35.0</td>\n",
       "    </tr>\n",
       "  </tbody>\n",
       "</table>\n",
       "<p>232 rows × 6 columns</p>\n",
       "</div>"
      ],
      "text/plain": [
       "    Tip amount  Time   Day         Culture Married   Age\n",
       "0            0   5.0   Fri          Indian      NM  30.0\n",
       "1            1   2.0   Tue        European      NM  10.0\n",
       "2            1   7.0  Tues          Indian      NM  35.0\n",
       "3            2   5.0   Mon          Indian      NM  35.0\n",
       "4            2  12.0   Fri  Middle Eastern      NM  15.0\n",
       "..         ...   ...   ...             ...     ...   ...\n",
       "229         10   1.0   Sat        American       M  40.0\n",
       "230          1  13.0   Sat          Indian      NM  10.0\n",
       "231          5  14.0   Sat        American       M  36.0\n",
       "232          3  15.0   Sat        American      NM   8.0\n",
       "233          5  16.0   Fri          Indian      NM  35.0\n",
       "\n",
       "[232 rows x 6 columns]"
      ]
     },
     "execution_count": 12,
     "metadata": {},
     "output_type": "execute_result"
    }
   ],
   "source": [
    "tipAmounts"
   ]
  },
  {
   "cell_type": "code",
   "execution_count": 13,
   "id": "054661ec",
   "metadata": {},
   "outputs": [],
   "source": [
    "# Replace values in 'Married' column to True/False.\n",
    "tipAmounts['Married'] = tipAmounts['Married'].replace(to_replace='NM', value=False, regex=True)\n",
    "tipAmounts['Married'] = tipAmounts['Married'].replace(to_replace='M', value=True, regex=True)"
   ]
  },
  {
   "cell_type": "code",
   "execution_count": 14,
   "id": "c2300c70",
   "metadata": {},
   "outputs": [
    {
     "data": {
      "text/html": [
       "<div>\n",
       "<style scoped>\n",
       "    .dataframe tbody tr th:only-of-type {\n",
       "        vertical-align: middle;\n",
       "    }\n",
       "\n",
       "    .dataframe tbody tr th {\n",
       "        vertical-align: top;\n",
       "    }\n",
       "\n",
       "    .dataframe thead th {\n",
       "        text-align: right;\n",
       "    }\n",
       "</style>\n",
       "<table border=\"1\" class=\"dataframe\">\n",
       "  <thead>\n",
       "    <tr style=\"text-align: right;\">\n",
       "      <th></th>\n",
       "      <th>Tip amount</th>\n",
       "      <th>Time</th>\n",
       "      <th>Day</th>\n",
       "      <th>Culture</th>\n",
       "      <th>Married</th>\n",
       "      <th>Age</th>\n",
       "    </tr>\n",
       "  </thead>\n",
       "  <tbody>\n",
       "    <tr>\n",
       "      <th>0</th>\n",
       "      <td>0</td>\n",
       "      <td>5.0</td>\n",
       "      <td>Fri</td>\n",
       "      <td>Indian</td>\n",
       "      <td>False</td>\n",
       "      <td>30.0</td>\n",
       "    </tr>\n",
       "    <tr>\n",
       "      <th>1</th>\n",
       "      <td>1</td>\n",
       "      <td>2.0</td>\n",
       "      <td>Tue</td>\n",
       "      <td>European</td>\n",
       "      <td>False</td>\n",
       "      <td>10.0</td>\n",
       "    </tr>\n",
       "    <tr>\n",
       "      <th>2</th>\n",
       "      <td>1</td>\n",
       "      <td>7.0</td>\n",
       "      <td>Tues</td>\n",
       "      <td>Indian</td>\n",
       "      <td>False</td>\n",
       "      <td>35.0</td>\n",
       "    </tr>\n",
       "    <tr>\n",
       "      <th>3</th>\n",
       "      <td>2</td>\n",
       "      <td>5.0</td>\n",
       "      <td>Mon</td>\n",
       "      <td>Indian</td>\n",
       "      <td>False</td>\n",
       "      <td>35.0</td>\n",
       "    </tr>\n",
       "    <tr>\n",
       "      <th>4</th>\n",
       "      <td>2</td>\n",
       "      <td>12.0</td>\n",
       "      <td>Fri</td>\n",
       "      <td>Middle Eastern</td>\n",
       "      <td>False</td>\n",
       "      <td>15.0</td>\n",
       "    </tr>\n",
       "    <tr>\n",
       "      <th>...</th>\n",
       "      <td>...</td>\n",
       "      <td>...</td>\n",
       "      <td>...</td>\n",
       "      <td>...</td>\n",
       "      <td>...</td>\n",
       "      <td>...</td>\n",
       "    </tr>\n",
       "    <tr>\n",
       "      <th>229</th>\n",
       "      <td>10</td>\n",
       "      <td>1.0</td>\n",
       "      <td>Sat</td>\n",
       "      <td>American</td>\n",
       "      <td>True</td>\n",
       "      <td>40.0</td>\n",
       "    </tr>\n",
       "    <tr>\n",
       "      <th>230</th>\n",
       "      <td>1</td>\n",
       "      <td>13.0</td>\n",
       "      <td>Sat</td>\n",
       "      <td>Indian</td>\n",
       "      <td>False</td>\n",
       "      <td>10.0</td>\n",
       "    </tr>\n",
       "    <tr>\n",
       "      <th>231</th>\n",
       "      <td>5</td>\n",
       "      <td>14.0</td>\n",
       "      <td>Sat</td>\n",
       "      <td>American</td>\n",
       "      <td>True</td>\n",
       "      <td>36.0</td>\n",
       "    </tr>\n",
       "    <tr>\n",
       "      <th>232</th>\n",
       "      <td>3</td>\n",
       "      <td>15.0</td>\n",
       "      <td>Sat</td>\n",
       "      <td>American</td>\n",
       "      <td>False</td>\n",
       "      <td>8.0</td>\n",
       "    </tr>\n",
       "    <tr>\n",
       "      <th>233</th>\n",
       "      <td>5</td>\n",
       "      <td>16.0</td>\n",
       "      <td>Fri</td>\n",
       "      <td>Indian</td>\n",
       "      <td>False</td>\n",
       "      <td>35.0</td>\n",
       "    </tr>\n",
       "  </tbody>\n",
       "</table>\n",
       "<p>232 rows × 6 columns</p>\n",
       "</div>"
      ],
      "text/plain": [
       "    Tip amount  Time   Day         Culture Married   Age\n",
       "0            0   5.0   Fri          Indian   False  30.0\n",
       "1            1   2.0   Tue        European   False  10.0\n",
       "2            1   7.0  Tues          Indian   False  35.0\n",
       "3            2   5.0   Mon          Indian   False  35.0\n",
       "4            2  12.0   Fri  Middle Eastern   False  15.0\n",
       "..         ...   ...   ...             ...     ...   ...\n",
       "229         10   1.0   Sat        American    True  40.0\n",
       "230          1  13.0   Sat          Indian   False  10.0\n",
       "231          5  14.0   Sat        American    True  36.0\n",
       "232          3  15.0   Sat        American   False   8.0\n",
       "233          5  16.0   Fri          Indian   False  35.0\n",
       "\n",
       "[232 rows x 6 columns]"
      ]
     },
     "execution_count": 14,
     "metadata": {},
     "output_type": "execute_result"
    }
   ],
   "source": [
    "tipAmounts"
   ]
  },
  {
   "cell_type": "code",
   "execution_count": 15,
   "id": "9d28c429",
   "metadata": {},
   "outputs": [
    {
     "data": {
      "text/html": [
       "<div>\n",
       "<style scoped>\n",
       "    .dataframe tbody tr th:only-of-type {\n",
       "        vertical-align: middle;\n",
       "    }\n",
       "\n",
       "    .dataframe tbody tr th {\n",
       "        vertical-align: top;\n",
       "    }\n",
       "\n",
       "    .dataframe thead th {\n",
       "        text-align: right;\n",
       "    }\n",
       "</style>\n",
       "<table border=\"1\" class=\"dataframe\">\n",
       "  <thead>\n",
       "    <tr style=\"text-align: right;\">\n",
       "      <th></th>\n",
       "      <th>Tip amount</th>\n",
       "      <th>Time</th>\n",
       "      <th>Day</th>\n",
       "      <th>Culture</th>\n",
       "      <th>Married</th>\n",
       "      <th>Age</th>\n",
       "    </tr>\n",
       "  </thead>\n",
       "  <tbody>\n",
       "    <tr>\n",
       "      <th>114</th>\n",
       "      <td>NaN</td>\n",
       "      <td>NaN</td>\n",
       "      <td>NaN</td>\n",
       "      <td>NaN</td>\n",
       "      <td>NaN</td>\n",
       "      <td>NaN</td>\n",
       "    </tr>\n",
       "    <tr>\n",
       "      <th>115</th>\n",
       "      <td>THE DATA BELOW THIS POINT IS FORMATTED MUCH CL...</td>\n",
       "      <td>NaN</td>\n",
       "      <td>NaN</td>\n",
       "      <td>NaN</td>\n",
       "      <td>NaN</td>\n",
       "      <td>NaN</td>\n",
       "    </tr>\n",
       "  </tbody>\n",
       "</table>\n",
       "</div>"
      ],
      "text/plain": [
       "                                            Tip amount  Time  Day Culture  \\\n",
       "114                                                NaN   NaN  NaN     NaN   \n",
       "115  THE DATA BELOW THIS POINT IS FORMATTED MUCH CL...   NaN  NaN     NaN   \n",
       "\n",
       "    Married  Age  \n",
       "114     NaN  NaN  \n",
       "115     NaN  NaN  "
      ]
     },
     "execution_count": 15,
     "metadata": {},
     "output_type": "execute_result"
    }
   ],
   "source": [
    "# Check for rows without data.\n",
    "tipAmounts[tipAmounts.isnull().any(axis=1)]"
   ]
  },
  {
   "cell_type": "code",
   "execution_count": 16,
   "id": "1c10b0dd",
   "metadata": {},
   "outputs": [],
   "source": [
    "# Drop those rows.\n",
    "tipAmounts = tipAmounts.drop([114, 115])"
   ]
  },
  {
   "cell_type": "code",
   "execution_count": 17,
   "id": "2baab7c0",
   "metadata": {},
   "outputs": [
    {
     "data": {
      "text/html": [
       "<div>\n",
       "<style scoped>\n",
       "    .dataframe tbody tr th:only-of-type {\n",
       "        vertical-align: middle;\n",
       "    }\n",
       "\n",
       "    .dataframe tbody tr th {\n",
       "        vertical-align: top;\n",
       "    }\n",
       "\n",
       "    .dataframe thead th {\n",
       "        text-align: right;\n",
       "    }\n",
       "</style>\n",
       "<table border=\"1\" class=\"dataframe\">\n",
       "  <thead>\n",
       "    <tr style=\"text-align: right;\">\n",
       "      <th></th>\n",
       "      <th>Tip amount</th>\n",
       "      <th>Time</th>\n",
       "      <th>Day</th>\n",
       "      <th>Culture</th>\n",
       "      <th>Married</th>\n",
       "      <th>Age</th>\n",
       "    </tr>\n",
       "  </thead>\n",
       "  <tbody>\n",
       "    <tr>\n",
       "      <th>0</th>\n",
       "      <td>0</td>\n",
       "      <td>5.0</td>\n",
       "      <td>Fri</td>\n",
       "      <td>Indian</td>\n",
       "      <td>False</td>\n",
       "      <td>30.0</td>\n",
       "    </tr>\n",
       "    <tr>\n",
       "      <th>1</th>\n",
       "      <td>1</td>\n",
       "      <td>2.0</td>\n",
       "      <td>Tue</td>\n",
       "      <td>European</td>\n",
       "      <td>False</td>\n",
       "      <td>10.0</td>\n",
       "    </tr>\n",
       "    <tr>\n",
       "      <th>2</th>\n",
       "      <td>1</td>\n",
       "      <td>7.0</td>\n",
       "      <td>Tues</td>\n",
       "      <td>Indian</td>\n",
       "      <td>False</td>\n",
       "      <td>35.0</td>\n",
       "    </tr>\n",
       "    <tr>\n",
       "      <th>3</th>\n",
       "      <td>2</td>\n",
       "      <td>5.0</td>\n",
       "      <td>Mon</td>\n",
       "      <td>Indian</td>\n",
       "      <td>False</td>\n",
       "      <td>35.0</td>\n",
       "    </tr>\n",
       "    <tr>\n",
       "      <th>4</th>\n",
       "      <td>2</td>\n",
       "      <td>12.0</td>\n",
       "      <td>Fri</td>\n",
       "      <td>Middle Eastern</td>\n",
       "      <td>False</td>\n",
       "      <td>15.0</td>\n",
       "    </tr>\n",
       "    <tr>\n",
       "      <th>...</th>\n",
       "      <td>...</td>\n",
       "      <td>...</td>\n",
       "      <td>...</td>\n",
       "      <td>...</td>\n",
       "      <td>...</td>\n",
       "      <td>...</td>\n",
       "    </tr>\n",
       "    <tr>\n",
       "      <th>229</th>\n",
       "      <td>10</td>\n",
       "      <td>1.0</td>\n",
       "      <td>Sat</td>\n",
       "      <td>American</td>\n",
       "      <td>True</td>\n",
       "      <td>40.0</td>\n",
       "    </tr>\n",
       "    <tr>\n",
       "      <th>230</th>\n",
       "      <td>1</td>\n",
       "      <td>13.0</td>\n",
       "      <td>Sat</td>\n",
       "      <td>Indian</td>\n",
       "      <td>False</td>\n",
       "      <td>10.0</td>\n",
       "    </tr>\n",
       "    <tr>\n",
       "      <th>231</th>\n",
       "      <td>5</td>\n",
       "      <td>14.0</td>\n",
       "      <td>Sat</td>\n",
       "      <td>American</td>\n",
       "      <td>True</td>\n",
       "      <td>36.0</td>\n",
       "    </tr>\n",
       "    <tr>\n",
       "      <th>232</th>\n",
       "      <td>3</td>\n",
       "      <td>15.0</td>\n",
       "      <td>Sat</td>\n",
       "      <td>American</td>\n",
       "      <td>False</td>\n",
       "      <td>8.0</td>\n",
       "    </tr>\n",
       "    <tr>\n",
       "      <th>233</th>\n",
       "      <td>5</td>\n",
       "      <td>16.0</td>\n",
       "      <td>Fri</td>\n",
       "      <td>Indian</td>\n",
       "      <td>False</td>\n",
       "      <td>35.0</td>\n",
       "    </tr>\n",
       "  </tbody>\n",
       "</table>\n",
       "<p>230 rows × 6 columns</p>\n",
       "</div>"
      ],
      "text/plain": [
       "    Tip amount  Time   Day         Culture Married   Age\n",
       "0            0   5.0   Fri          Indian   False  30.0\n",
       "1            1   2.0   Tue        European   False  10.0\n",
       "2            1   7.0  Tues          Indian   False  35.0\n",
       "3            2   5.0   Mon          Indian   False  35.0\n",
       "4            2  12.0   Fri  Middle Eastern   False  15.0\n",
       "..         ...   ...   ...             ...     ...   ...\n",
       "229         10   1.0   Sat        American    True  40.0\n",
       "230          1  13.0   Sat          Indian   False  10.0\n",
       "231          5  14.0   Sat        American    True  36.0\n",
       "232          3  15.0   Sat        American   False   8.0\n",
       "233          5  16.0   Fri          Indian   False  35.0\n",
       "\n",
       "[230 rows x 6 columns]"
      ]
     },
     "execution_count": 17,
     "metadata": {},
     "output_type": "execute_result"
    }
   ],
   "source": [
    "tipAmounts"
   ]
  },
  {
   "cell_type": "code",
   "execution_count": 18,
   "id": "1675f26d",
   "metadata": {},
   "outputs": [
    {
     "data": {
      "text/html": [
       "<div>\n",
       "<style scoped>\n",
       "    .dataframe tbody tr th:only-of-type {\n",
       "        vertical-align: middle;\n",
       "    }\n",
       "\n",
       "    .dataframe tbody tr th {\n",
       "        vertical-align: top;\n",
       "    }\n",
       "\n",
       "    .dataframe thead th {\n",
       "        text-align: right;\n",
       "    }\n",
       "</style>\n",
       "<table border=\"1\" class=\"dataframe\">\n",
       "  <thead>\n",
       "    <tr style=\"text-align: right;\">\n",
       "      <th></th>\n",
       "      <th>Time</th>\n",
       "      <th>Age</th>\n",
       "    </tr>\n",
       "    <tr>\n",
       "      <th>Day</th>\n",
       "      <th></th>\n",
       "      <th></th>\n",
       "    </tr>\n",
       "  </thead>\n",
       "  <tbody>\n",
       "    <tr>\n",
       "      <th>Fri</th>\n",
       "      <td>8.219512</td>\n",
       "      <td>34.024390</td>\n",
       "    </tr>\n",
       "    <tr>\n",
       "      <th>Mon</th>\n",
       "      <td>11.483871</td>\n",
       "      <td>32.838710</td>\n",
       "    </tr>\n",
       "    <tr>\n",
       "      <th>Sat</th>\n",
       "      <td>11.773585</td>\n",
       "      <td>31.207547</td>\n",
       "    </tr>\n",
       "    <tr>\n",
       "      <th>Sun</th>\n",
       "      <td>7.777778</td>\n",
       "      <td>23.777778</td>\n",
       "    </tr>\n",
       "    <tr>\n",
       "      <th>Thur</th>\n",
       "      <td>12.142857</td>\n",
       "      <td>31.428571</td>\n",
       "    </tr>\n",
       "    <tr>\n",
       "      <th>Thurs</th>\n",
       "      <td>6.250000</td>\n",
       "      <td>30.000000</td>\n",
       "    </tr>\n",
       "    <tr>\n",
       "      <th>Tue</th>\n",
       "      <td>10.960000</td>\n",
       "      <td>28.920000</td>\n",
       "    </tr>\n",
       "    <tr>\n",
       "      <th>Tues</th>\n",
       "      <td>7.642857</td>\n",
       "      <td>34.285714</td>\n",
       "    </tr>\n",
       "    <tr>\n",
       "      <th>Wed</th>\n",
       "      <td>7.709677</td>\n",
       "      <td>32.322581</td>\n",
       "    </tr>\n",
       "    <tr>\n",
       "      <th>mon</th>\n",
       "      <td>10.666667</td>\n",
       "      <td>28.666667</td>\n",
       "    </tr>\n",
       "  </tbody>\n",
       "</table>\n",
       "</div>"
      ],
      "text/plain": [
       "            Time        Age\n",
       "Day                        \n",
       "Fri     8.219512  34.024390\n",
       "Mon    11.483871  32.838710\n",
       "Sat    11.773585  31.207547\n",
       "Sun     7.777778  23.777778\n",
       "Thur   12.142857  31.428571\n",
       "Thurs   6.250000  30.000000\n",
       "Tue    10.960000  28.920000\n",
       "Tues    7.642857  34.285714\n",
       "Wed     7.709677  32.322581\n",
       "mon    10.666667  28.666667"
      ]
     },
     "execution_count": 18,
     "metadata": {},
     "output_type": "execute_result"
    }
   ],
   "source": [
    "# Check for invariants of weekday names.\n",
    "tipAmounts.groupby('Day').mean()"
   ]
  },
  {
   "cell_type": "code",
   "execution_count": 19,
   "id": "a268c10f",
   "metadata": {},
   "outputs": [],
   "source": [
    "# Replace values in 'Day' column to be consistent.\n",
    "tipAmounts['Day'] = tipAmounts['Day'].replace(to_replace='mon', value='Monday', regex=False)\n",
    "tipAmounts['Day'] = tipAmounts['Day'].replace(to_replace='Mon', value='Monday', regex=False)\n",
    "tipAmounts['Day'] = tipAmounts['Day'].replace(to_replace='Tue', value='Tuesday', regex=False)\n",
    "tipAmounts['Day'] = tipAmounts['Day'].replace(to_replace='Tues', value='Tuesday', regex=False)\n",
    "tipAmounts['Day'] = tipAmounts['Day'].replace(to_replace='Wed', value='Wednesday', regex=False)\n",
    "tipAmounts['Day'] = tipAmounts['Day'].replace(to_replace='Thur', value='Thursday', regex=False)\n",
    "tipAmounts['Day'] = tipAmounts['Day'].replace(to_replace='Thurs', value='Thursday', regex=False)\n",
    "tipAmounts['Day'] = tipAmounts['Day'].replace(to_replace='Fri', value='Friday', regex=False)\n",
    "tipAmounts['Day'] = tipAmounts['Day'].replace(to_replace='Sat', value='Saturday', regex=False)\n",
    "tipAmounts['Day'] = tipAmounts['Day'].replace(to_replace='Sun', value='Sunday', regex=False)"
   ]
  },
  {
   "cell_type": "code",
   "execution_count": 20,
   "id": "70aaaaad",
   "metadata": {},
   "outputs": [
    {
     "data": {
      "text/plain": [
       "Tip amount     object\n",
       "Time          float64\n",
       "Day            object\n",
       "Culture        object\n",
       "Married        object\n",
       "Age           float64\n",
       "dtype: object"
      ]
     },
     "execution_count": 20,
     "metadata": {},
     "output_type": "execute_result"
    }
   ],
   "source": [
    "# Check the type of data for each column.\n",
    "tipAmounts.dtypes"
   ]
  },
  {
   "cell_type": "code",
   "execution_count": 21,
   "id": "ba87a28b",
   "metadata": {},
   "outputs": [],
   "source": [
    "# Convert tip amount from object type to float.\n",
    "tipAmounts['Tip amount'] = tipAmounts['Tip amount'].astype(float)"
   ]
  },
  {
   "cell_type": "markdown",
   "id": "9447410d",
   "metadata": {},
   "source": [
    "***"
   ]
  },
  {
   "cell_type": "code",
   "execution_count": 23,
   "id": "11a0d182",
   "metadata": {},
   "outputs": [
    {
     "data": {
      "text/plain": [
       "Tip amount     6.626087\n",
       "Time           9.669565\n",
       "Age           31.617391\n",
       "dtype: float64"
      ]
     },
     "execution_count": 23,
     "metadata": {},
     "output_type": "execute_result"
    }
   ],
   "source": [
    "# See the average scores from numeric columns.\n",
    "tipAmounts.mean()"
   ]
  },
  {
   "cell_type": "markdown",
   "id": "a83d4744",
   "metadata": {},
   "source": [
    "### Showing diagrams to find trends."
   ]
  },
  {
   "cell_type": "code",
   "execution_count": 22,
   "id": "f68e33fb",
   "metadata": {},
   "outputs": [
    {
     "data": {
      "text/html": [
       "<div>\n",
       "<style scoped>\n",
       "    .dataframe tbody tr th:only-of-type {\n",
       "        vertical-align: middle;\n",
       "    }\n",
       "\n",
       "    .dataframe tbody tr th {\n",
       "        vertical-align: top;\n",
       "    }\n",
       "\n",
       "    .dataframe thead th {\n",
       "        text-align: right;\n",
       "    }\n",
       "</style>\n",
       "<table border=\"1\" class=\"dataframe\">\n",
       "  <thead>\n",
       "    <tr style=\"text-align: right;\">\n",
       "      <th></th>\n",
       "      <th>Tip amount</th>\n",
       "      <th>Time</th>\n",
       "      <th>Age</th>\n",
       "    </tr>\n",
       "    <tr>\n",
       "      <th>Day</th>\n",
       "      <th></th>\n",
       "      <th></th>\n",
       "      <th></th>\n",
       "    </tr>\n",
       "  </thead>\n",
       "  <tbody>\n",
       "    <tr>\n",
       "      <th>Friday</th>\n",
       "      <td>6.000000</td>\n",
       "      <td>8.219512</td>\n",
       "      <td>34.024390</td>\n",
       "    </tr>\n",
       "    <tr>\n",
       "      <th>Monday</th>\n",
       "      <td>6.352941</td>\n",
       "      <td>11.411765</td>\n",
       "      <td>32.470588</td>\n",
       "    </tr>\n",
       "    <tr>\n",
       "      <th>Saturday</th>\n",
       "      <td>5.877358</td>\n",
       "      <td>11.773585</td>\n",
       "      <td>31.207547</td>\n",
       "    </tr>\n",
       "    <tr>\n",
       "      <th>Sunday</th>\n",
       "      <td>5.055556</td>\n",
       "      <td>7.777778</td>\n",
       "      <td>23.777778</td>\n",
       "    </tr>\n",
       "    <tr>\n",
       "      <th>Thursday</th>\n",
       "      <td>6.086957</td>\n",
       "      <td>8.043478</td>\n",
       "      <td>30.434783</td>\n",
       "    </tr>\n",
       "    <tr>\n",
       "      <th>Tuesday</th>\n",
       "      <td>7.974359</td>\n",
       "      <td>9.769231</td>\n",
       "      <td>30.846154</td>\n",
       "    </tr>\n",
       "    <tr>\n",
       "      <th>Wednesday</th>\n",
       "      <td>8.193548</td>\n",
       "      <td>7.709677</td>\n",
       "      <td>32.322581</td>\n",
       "    </tr>\n",
       "  </tbody>\n",
       "</table>\n",
       "</div>"
      ],
      "text/plain": [
       "           Tip amount       Time        Age\n",
       "Day                                        \n",
       "Friday       6.000000   8.219512  34.024390\n",
       "Monday       6.352941  11.411765  32.470588\n",
       "Saturday     5.877358  11.773585  31.207547\n",
       "Sunday       5.055556   7.777778  23.777778\n",
       "Thursday     6.086957   8.043478  30.434783\n",
       "Tuesday      7.974359   9.769231  30.846154\n",
       "Wednesday    8.193548   7.709677  32.322581"
      ]
     },
     "execution_count": 22,
     "metadata": {},
     "output_type": "execute_result"
    }
   ],
   "source": [
    "# Show averages from each weekday.\n",
    "tipAmounts.groupby('Day').mean()"
   ]
  },
  {
   "cell_type": "code",
   "execution_count": 48,
   "id": "ae6de65b",
   "metadata": {},
   "outputs": [
    {
     "data": {
      "text/plain": [
       "Text(0.5, 0, 'Weekday')"
      ]
     },
     "execution_count": 48,
     "metadata": {},
     "output_type": "execute_result"
    },
    {
     "data": {
      "image/png": "[encoded data removed]",
      "text/plain": [
       "<Figure size 432x288 with 1 Axes>"
      ]
     },
     "metadata": {
      "needs_background": "light"
     },
     "output_type": "display_data"
    }
   ],
   "source": [
    "# Group up by weekday and show tip amount.\n",
    "tipsByWeekday = tipAmounts.groupby('Day').mean()\n",
    "ax = tipsByWeekday['Tip amount'].plot.bar()\n",
    "ax.set_ylabel(\"Tip Amount\")\n",
    "ax.set_xlabel(\"Weekday\")"
   ]
  },
  {
   "cell_type": "code",
   "execution_count": 62,
   "id": "346752e8",
   "metadata": {},
   "outputs": [
    {
     "data": {
      "text/plain": [
       "Day\n",
       "Friday       6.000000\n",
       "Monday       6.352941\n",
       "Saturday     5.877358\n",
       "Sunday       5.055556\n",
       "Thursday     6.086957\n",
       "Tuesday      7.974359\n",
       "Wednesday    8.193548\n",
       "Name: Tip amount, dtype: float64"
      ]
     },
     "execution_count": 62,
     "metadata": {},
     "output_type": "execute_result"
    }
   ],
   "source": [
    "tipsByWeekday['Tip amount']"
   ]
  },
  {
   "cell_type": "markdown",
   "id": "b688f1d3",
   "metadata": {},
   "source": [
    "***"
   ]
  },
  {
   "cell_type": "code",
   "execution_count": 50,
   "id": "ec00a6e0",
   "metadata": {
    "scrolled": false
   },
   "outputs": [
    {
     "data": {
      "text/plain": [
       "Text(0.5, 0, 'Culture')"
      ]
     },
     "execution_count": 50,
     "metadata": {},
     "output_type": "execute_result"
    },
    {
     "data": {
      "image/png": "[encoded data removed]",
      "text/plain": [
       "<Figure size 432x288 with 1 Axes>"
      ]
     },
     "metadata": {
      "needs_background": "light"
     },
     "output_type": "display_data"
    }
   ],
   "source": [
    "# Group up by culture and show tip amount.\n",
    "tipsByCulture = tipAmounts.groupby('Culture').mean()\n",
    "ax = tipsByCulture['Tip amount'].plot.bar()\n",
    "ax.set_ylabel(\"Tip Amount\")\n",
    "ax.set_xlabel(\"Culture\")"
   ]
  },
  {
   "cell_type": "code",
   "execution_count": 61,
   "id": "56486e9f",
   "metadata": {},
   "outputs": [
    {
     "data": {
      "text/plain": [
       "Culture\n",
       "African American     8.625000\n",
       "American             6.657480\n",
       "Asian                5.076923\n",
       "European             3.937500\n",
       "Indian               5.012821\n",
       "Middle Eastern       5.160000\n",
       "Phillipino          15.857143\n",
       "Name: Tip amount, dtype: float64"
      ]
     },
     "execution_count": 61,
     "metadata": {},
     "output_type": "execute_result"
    }
   ],
   "source": [
    "tipsByCulture['Tip amount']"
   ]
  },
  {
   "cell_type": "markdown",
   "id": "45992f26",
   "metadata": {},
   "source": [
    "***"
   ]
  },
  {
   "cell_type": "code",
   "execution_count": 56,
   "id": "912ece06",
   "metadata": {},
   "outputs": [],
   "source": [
    "ranges = [10, 20, 30, 40, 50, 60, 70]\n",
    "tipsByAge = tipAmounts.groupby([(pd.cut(tipAmounts.Age, ranges))]).mean()"
   ]
  },
  {
   "cell_type": "code",
   "execution_count": 58,
   "id": "6c7f3e9a",
   "metadata": {},
   "outputs": [
    {
     "data": {
      "text/plain": [
       "<AxesSubplot:xlabel='Age'>"
      ]
     },
     "execution_count": 58,
     "metadata": {},
     "output_type": "execute_result"
    },
    {
     "data": {
      "image/png": "[encoded data removed]",
      "text/plain": [
       "<Figure size 432x288 with 1 Axes>"
      ]
     },
     "metadata": {
      "needs_background": "light"
     },
     "output_type": "display_data"
    }
   ],
   "source": [
    "# Show tip amount according to age.\n",
    "tipsByAge['Tip amount'].plot.bar()"
   ]
  },
  {
   "cell_type": "code",
   "execution_count": 60,
   "id": "7aec6449",
   "metadata": {},
   "outputs": [
    {
     "data": {
      "text/plain": [
       "Age\n",
       "(10, 20]    4.434783\n",
       "(20, 30]    6.852273\n",
       "(30, 40]    7.565476\n",
       "(40, 50]    6.857143\n",
       "(50, 60]    4.500000\n",
       "(60, 70]    5.500000\n",
       "Name: Tip amount, dtype: float64"
      ]
     },
     "execution_count": 60,
     "metadata": {},
     "output_type": "execute_result"
    }
   ],
   "source": [
    "tipsByAge['Tip amount']"
   ]
  },
  {
   "cell_type": "markdown",
   "id": "accd76e7",
   "metadata": {},
   "source": [
    "***"
   ]
  },
  {
   "cell_type": "code",
   "execution_count": 69,
   "id": "b1846edc",
   "metadata": {},
   "outputs": [],
   "source": [
    "ranges = [3, 6, 9, 12, 15, 18, 21]\n",
    "tipsByTime = tipAmounts.groupby([(pd.cut(tipAmounts.Time, ranges))]).mean()"
   ]
  },
  {
   "cell_type": "code",
   "execution_count": 70,
   "id": "b86a75a1",
   "metadata": {},
   "outputs": [
    {
     "data": {
      "text/plain": [
       "<AxesSubplot:xlabel='Time'>"
      ]
     },
     "execution_count": 70,
     "metadata": {},
     "output_type": "execute_result"
    },
    {
     "data": {
      "image/png": "[encoded data removed]",
      "text/plain": [
       "<Figure size 432x288 with 1 Axes>"
      ]
     },
     "metadata": {
      "needs_background": "light"
     },
     "output_type": "display_data"
    }
   ],
   "source": [
    "# Show tip amount according to time taken.\n",
    "tipsByTime['Tip amount'].plot.bar()"
   ]
  },
  {
   "cell_type": "code",
   "execution_count": 71,
   "id": "ef7cc9c2",
   "metadata": {},
   "outputs": [
    {
     "data": {
      "text/plain": [
       "Time\n",
       "(3, 6]      6.642857\n",
       "(6, 9]      5.083333\n",
       "(9, 12]     6.443038\n",
       "(12, 15]    6.428571\n",
       "(15, 18]    9.476190\n",
       "(18, 21]    5.000000\n",
       "Name: Tip amount, dtype: float64"
      ]
     },
     "execution_count": 71,
     "metadata": {},
     "output_type": "execute_result"
    }
   ],
   "source": [
    "tipsByTime['Tip amount']"
   ]
  },
  {
   "cell_type": "markdown",
   "id": "7fd7117c",
   "metadata": {},
   "source": [
    "***"
   ]
  },
  {
   "cell_type": "code",
   "execution_count": 73,
   "id": "fac65fdd",
   "metadata": {},
   "outputs": [],
   "source": [
    "tipsByRelationshipStatus = tipAmounts.groupby(['Married']).mean()"
   ]
  },
  {
   "cell_type": "code",
   "execution_count": 74,
   "id": "e056a8cf",
   "metadata": {},
   "outputs": [
    {
     "data": {
      "text/plain": [
       "<AxesSubplot:xlabel='Married'>"
      ]
     },
     "execution_count": 74,
     "metadata": {},
     "output_type": "execute_result"
    },
    {
     "data": {
      "image/png": "[encoded data removed]",
      "text/plain": [
       "<Figure size 432x288 with 1 Axes>"
      ]
     },
     "metadata": {
      "needs_background": "light"
     },
     "output_type": "display_data"
    }
   ],
   "source": [
    "tipsByRelationshipStatus['Tip amount'].plot.bar()"
   ]
  },
  {
   "cell_type": "code",
   "execution_count": 75,
   "id": "2989de3e",
   "metadata": {},
   "outputs": [
    {
     "data": {
      "text/plain": [
       "Married\n",
       "False    6.842105\n",
       "True     6.240260\n",
       "Kid      3.500000\n",
       "Name: Tip amount, dtype: float64"
      ]
     },
     "execution_count": 75,
     "metadata": {},
     "output_type": "execute_result"
    }
   ],
   "source": [
    "tipsByRelationshipStatus['Tip amount']"
   ]
  },
  {
   "cell_type": "markdown",
   "id": "d8061d99",
   "metadata": {},
   "source": [
    "***"
   ]
  },
  {
   "cell_type": "code",
   "execution_count": 79,
   "id": "ec3d5919",
   "metadata": {},
   "outputs": [
    {
     "data": {
      "text/plain": [
       "Culture           Age     \n",
       "African American  (10, 20]     2.000000\n",
       "                  (20, 30]     4.750000\n",
       "                  (30, 40]    23.000000\n",
       "                  (40, 50]          NaN\n",
       "                  (50, 60]          NaN\n",
       "                  (60, 70]          NaN\n",
       "American          (10, 20]     4.461538\n",
       "                  (20, 30]     6.586957\n",
       "                  (30, 40]     7.906977\n",
       "                  (40, 50]     7.000000\n",
       "                  (50, 60]     4.500000\n",
       "                  (60, 70]     6.000000\n",
       "Asian             (10, 20]     5.000000\n",
       "                  (20, 30]     5.833333\n",
       "                  (30, 40]     5.000000\n",
       "                  (40, 50]     5.000000\n",
       "                  (50, 60]          NaN\n",
       "                  (60, 70]          NaN\n",
       "European          (10, 20]     4.000000\n",
       "                  (20, 30]     4.250000\n",
       "                  (30, 40]     4.333333\n",
       "                  (40, 50]          NaN\n",
       "                  (50, 60]          NaN\n",
       "                  (60, 70]          NaN\n",
       "Indian            (10, 20]     0.000000\n",
       "                  (20, 30]     5.642857\n",
       "                  (30, 40]     4.833333\n",
       "                  (40, 50]     7.000000\n",
       "                  (50, 60]          NaN\n",
       "                  (60, 70]          NaN\n",
       "Middle Eastern    (10, 20]     5.600000\n",
       "                  (20, 30]     5.555556\n",
       "                  (30, 40]     4.888889\n",
       "                  (40, 50]          NaN\n",
       "                  (50, 60]          NaN\n",
       "                  (60, 70]     4.000000\n",
       "Phillipino        (10, 20]          NaN\n",
       "                  (20, 30]    13.111111\n",
       "                  (30, 40]    20.800000\n",
       "                  (40, 50]          NaN\n",
       "                  (50, 60]          NaN\n",
       "                  (60, 70]          NaN\n",
       "Name: Tip amount, dtype: float64"
      ]
     },
     "execution_count": 79,
     "metadata": {},
     "output_type": "execute_result"
    }
   ],
   "source": [
    "ranges = [10, 20, 30, 40, 50, 60, 70]\n",
    "tipsByAge = tipAmounts.groupby(['Culture',(pd.cut(tipAmounts.Age, ranges))]).mean()\n",
    "tipsByAge['Tip amount']"
   ]
  },
  {
   "cell_type": "code",
   "execution_count": null,
   "id": "ea254d10",
   "metadata": {},
   "outputs": [],
   "source": []
  }
 ],
 "metadata": {
  "kernelspec": {
   "display_name": "Python 3 (ipykernel)",
   "language": "python",
   "name": "python3"
  },
  "language_info": {
   "codemirror_mode": {
    "name": "ipython",
    "version": 3
   },
   "file_extension": ".py",
   "mimetype": "text/x-python",
   "name": "python",
   "nbconvert_exporter": "python",
   "pygments_lexer": "ipython3",
   "version": "3.10.2"
  }
 },
 "nbformat": 4,
 "nbformat_minor": 5
}
