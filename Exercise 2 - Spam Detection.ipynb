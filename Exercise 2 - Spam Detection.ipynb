{
 "cells": [
  {
   "cell_type": "markdown",
   "id": "ef5d1f55",
   "metadata": {},
   "source": [
    "# <center>Exercise 2: Spam Detection</center>"
   ]
  },
  {
   "cell_type": "markdown",
   "id": "e83fcdae",
   "metadata": {},
   "source": [
    "Spam Data Set: https://archive.ics.uci.edu/ml/datasets/SMS+Spam+Collection\n",
    "\n",
    "The objective is to train a model, which can be used for automatic detection of spam messages.\n",
    "\n",
    "We will use the experience showing that:\n",
    "- messages, containing words like 'free', 'win', 'winner', 'cash', 'prize' and the like usually contain spam\n",
    "- spam messages tend to have words written in all capitals and\n",
    "- also tend to use a lot of exclamation marks"
   ]
  },
  {
   "cell_type": "markdown",
   "id": "976b763c",
   "metadata": {},
   "source": [
    "## Step 1: Get to Know the Dataset\n",
    "We will be using a dataset from the UCI Machine Learning repository."
   ]
  },
  {
   "cell_type": "code",
   "execution_count": 5,
   "id": "25cb5251",
   "metadata": {},
   "outputs": [
    {
     "data": {
      "text/plain": [
       "(5572, 2)"
      ]
     },
     "execution_count": 5,
     "metadata": {},
     "output_type": "execute_result"
    }
   ],
   "source": [
    "import pandas as pd\n",
    "# It is a pre-processed table with two columns - a label and a message\n",
    "# Import the table into a pandas dataframe using the read_table method\n",
    "df = pd.read_table('./data/SMSSpamCollection.txt', sep='\\t', header=None, names=['label', 'message'])\n",
    "df.shape"
   ]
  },
  {
   "cell_type": "code",
   "execution_count": 6,
   "id": "97dedfc2",
   "metadata": {},
   "outputs": [
    {
     "data": {
      "text/html": [
       "<div>\n",
       "<style scoped>\n",
       "    .dataframe tbody tr th:only-of-type {\n",
       "        vertical-align: middle;\n",
       "    }\n",
       "\n",
       "    .dataframe tbody tr th {\n",
       "        vertical-align: top;\n",
       "    }\n",
       "\n",
       "    .dataframe thead th {\n",
       "        text-align: right;\n",
       "    }\n",
       "</style>\n",
       "<table border=\"1\" class=\"dataframe\">\n",
       "  <thead>\n",
       "    <tr style=\"text-align: right;\">\n",
       "      <th></th>\n",
       "      <th>label</th>\n",
       "      <th>message</th>\n",
       "    </tr>\n",
       "  </thead>\n",
       "  <tbody>\n",
       "    <tr>\n",
       "      <th>0</th>\n",
       "      <td>ham</td>\n",
       "      <td>Go until jurong point, crazy.. Available only ...</td>\n",
       "    </tr>\n",
       "    <tr>\n",
       "      <th>1</th>\n",
       "      <td>ham</td>\n",
       "      <td>Ok lar... Joking wif u oni...</td>\n",
       "    </tr>\n",
       "    <tr>\n",
       "      <th>2</th>\n",
       "      <td>spam</td>\n",
       "      <td>Free entry in 2 a wkly comp to win FA Cup fina...</td>\n",
       "    </tr>\n",
       "    <tr>\n",
       "      <th>3</th>\n",
       "      <td>ham</td>\n",
       "      <td>U dun say so early hor... U c already then say...</td>\n",
       "    </tr>\n",
       "    <tr>\n",
       "      <th>4</th>\n",
       "      <td>ham</td>\n",
       "      <td>Nah I don't think he goes to usf, he lives aro...</td>\n",
       "    </tr>\n",
       "    <tr>\n",
       "      <th>...</th>\n",
       "      <td>...</td>\n",
       "      <td>...</td>\n",
       "    </tr>\n",
       "    <tr>\n",
       "      <th>195</th>\n",
       "      <td>ham</td>\n",
       "      <td>How are you doing? Hope you've settled in for ...</td>\n",
       "    </tr>\n",
       "    <tr>\n",
       "      <th>196</th>\n",
       "      <td>ham</td>\n",
       "      <td>Gud mrng dear hav a nice day</td>\n",
       "    </tr>\n",
       "    <tr>\n",
       "      <th>197</th>\n",
       "      <td>ham</td>\n",
       "      <td>Did u got that persons story</td>\n",
       "    </tr>\n",
       "    <tr>\n",
       "      <th>198</th>\n",
       "      <td>ham</td>\n",
       "      <td>is your hamster dead? Hey so tmr i meet you at...</td>\n",
       "    </tr>\n",
       "    <tr>\n",
       "      <th>199</th>\n",
       "      <td>ham</td>\n",
       "      <td>Hi its Kate how is your evening? I hope i can ...</td>\n",
       "    </tr>\n",
       "  </tbody>\n",
       "</table>\n",
       "<p>200 rows × 2 columns</p>\n",
       "</div>"
      ],
      "text/plain": [
       "    label                                            message\n",
       "0     ham  Go until jurong point, crazy.. Available only ...\n",
       "1     ham                      Ok lar... Joking wif u oni...\n",
       "2    spam  Free entry in 2 a wkly comp to win FA Cup fina...\n",
       "3     ham  U dun say so early hor... U c already then say...\n",
       "4     ham  Nah I don't think he goes to usf, he lives aro...\n",
       "..    ...                                                ...\n",
       "195   ham  How are you doing? Hope you've settled in for ...\n",
       "196   ham                       Gud mrng dear hav a nice day\n",
       "197   ham                       Did u got that persons story\n",
       "198   ham  is your hamster dead? Hey so tmr i meet you at...\n",
       "199   ham  Hi its Kate how is your evening? I hope i can ...\n",
       "\n",
       "[200 rows x 2 columns]"
      ]
     },
     "execution_count": 6,
     "metadata": {},
     "output_type": "execute_result"
    }
   ],
   "source": [
    "# Printing out first five rows to get idea about the data\n",
    "df.head(200)"
   ]
  },
  {
   "cell_type": "markdown",
   "id": "02e4aabe",
   "metadata": {},
   "source": [
    "## Step 2: Data Preprocessing\n",
    "### 2.1 Digitalize"
   ]
  },
  {
   "cell_type": "code",
   "execution_count": 7,
   "id": "0a163199",
   "metadata": {},
   "outputs": [
    {
     "data": {
      "text/html": [
       "<div>\n",
       "<style scoped>\n",
       "    .dataframe tbody tr th:only-of-type {\n",
       "        vertical-align: middle;\n",
       "    }\n",
       "\n",
       "    .dataframe tbody tr th {\n",
       "        vertical-align: top;\n",
       "    }\n",
       "\n",
       "    .dataframe thead th {\n",
       "        text-align: right;\n",
       "    }\n",
       "</style>\n",
       "<table border=\"1\" class=\"dataframe\">\n",
       "  <thead>\n",
       "    <tr style=\"text-align: right;\">\n",
       "      <th></th>\n",
       "      <th>label</th>\n",
       "      <th>message</th>\n",
       "    </tr>\n",
       "  </thead>\n",
       "  <tbody>\n",
       "    <tr>\n",
       "      <th>0</th>\n",
       "      <td>0</td>\n",
       "      <td>Go until jurong point, crazy.. Available only ...</td>\n",
       "    </tr>\n",
       "    <tr>\n",
       "      <th>1</th>\n",
       "      <td>0</td>\n",
       "      <td>Ok lar... Joking wif u oni...</td>\n",
       "    </tr>\n",
       "    <tr>\n",
       "      <th>2</th>\n",
       "      <td>1</td>\n",
       "      <td>Free entry in 2 a wkly comp to win FA Cup fina...</td>\n",
       "    </tr>\n",
       "    <tr>\n",
       "      <th>3</th>\n",
       "      <td>0</td>\n",
       "      <td>U dun say so early hor... U c already then say...</td>\n",
       "    </tr>\n",
       "    <tr>\n",
       "      <th>4</th>\n",
       "      <td>0</td>\n",
       "      <td>Nah I don't think he goes to usf, he lives aro...</td>\n",
       "    </tr>\n",
       "  </tbody>\n",
       "</table>\n",
       "</div>"
      ],
      "text/plain": [
       "   label                                            message\n",
       "0      0  Go until jurong point, crazy.. Available only ...\n",
       "1      0                      Ok lar... Joking wif u oni...\n",
       "2      1  Free entry in 2 a wkly comp to win FA Cup fina...\n",
       "3      0  U dun say so early hor... U c already then say...\n",
       "4      0  Nah I don't think he goes to usf, he lives aro..."
      ]
     },
     "execution_count": 7,
     "metadata": {},
     "output_type": "execute_result"
    }
   ],
   "source": [
    "# Convert the labels into numerical values, map 'ham' to 0 and 'spam' to 1\n",
    "df['label'] = df.label.map({'ham':0, 'spam':1})\n",
    "df.head() "
   ]
  },
  {
   "cell_type": "markdown",
   "id": "54de9c7e",
   "metadata": {},
   "source": [
    "### 2.2 Bag-of-Words Processing\n",
    "A model, which represents a piece of text, such as a sentence or a document, as the bag (multiset) of its words, disregarding grammar and even word order but keeping multiplicity. The words are stored as tockens, with a count of frequency of their appearance.\n",
    "\n",
    "- Convert strings to lower case\n",
    "- Remove punctuation\n",
    "- Tokenize the message and give an integer ID to each token\n",
    "- Count frequencies"
   ]
  },
  {
   "cell_type": "code",
   "execution_count": 8,
   "id": "3f5e04ad",
   "metadata": {},
   "outputs": [
    {
     "name": "stdout",
     "output_type": "stream",
     "text": [
      "Number of rows in the total set: 5572\n",
      "Number of rows in the training set: 4179\n",
      "Number of rows in the test set: 1393\n"
     ]
    }
   ],
   "source": [
    "# Split the dataset into training and testing sets\n",
    "from sklearn.model_selection import train_test_split\n",
    "\n",
    "X_train, X_test, y_train, y_test = train_test_split(df['message'], df['label'], random_state=1)\n",
    "\n",
    "print('Number of rows in the total set: {}'.format(df.shape[0]))\n",
    "print('Number of rows in the training set: {}'.format(X_train.shape[0]))\n",
    "print('Number of rows in the test set: {}'.format(X_test.shape[0]))"
   ]
  },
  {
   "cell_type": "code",
   "execution_count": 9,
   "id": "23a6a8ec",
   "metadata": {},
   "outputs": [
    {
     "data": {
      "text/plain": [
       "(4179, 7456)"
      ]
     },
     "execution_count": 9,
     "metadata": {},
     "output_type": "execute_result"
    }
   ],
   "source": [
    "# Create an instance of CountVectorizer\n",
    "from sklearn.feature_extraction.text import CountVectorizer\n",
    "count_vector = CountVectorizer()\n",
    "\n",
    "# Fit the training data and then return the matrix\n",
    "training_data = count_vector.fit_transform(X_train)\n",
    "training_data.shape"
   ]
  },
  {
   "cell_type": "code",
   "execution_count": 10,
   "id": "f9b2794b",
   "metadata": {},
   "outputs": [
    {
     "data": {
      "text/plain": [
       "(1393, 7456)"
      ]
     },
     "execution_count": 10,
     "metadata": {},
     "output_type": "execute_result"
    }
   ],
   "source": [
    "# Transform testing data and return the matrix \n",
    "# Note we are not fitting the testing data into the CountVectorizer()\n",
    "test_data = count_vector.transform(X_test)\n",
    "test_data.shape"
   ]
  },
  {
   "cell_type": "markdown",
   "id": "089121f4",
   "metadata": {},
   "source": [
    "### Step 3: Train and Test"
   ]
  },
  {
   "cell_type": "code",
   "execution_count": 11,
   "id": "237dcfc0",
   "metadata": {},
   "outputs": [
    {
     "data": {
      "text/plain": [
       "MultinomialNB()"
      ]
     },
     "execution_count": 11,
     "metadata": {},
     "output_type": "execute_result"
    }
   ],
   "source": [
    "# Call Multinominal Naive Bayes and train the model\n",
    "from sklearn.naive_bayes import MultinomialNB\n",
    "myNB = MultinomialNB()\n",
    "myNB.fit(training_data, y_train)"
   ]
  },
  {
   "cell_type": "code",
   "execution_count": 12,
   "id": "9e6adbe5",
   "metadata": {},
   "outputs": [],
   "source": [
    "# Test on the test data, try prediction\n",
    "predictions = myNB.predict(test_data)"
   ]
  },
  {
   "cell_type": "code",
   "execution_count": 76,
   "id": "cc406dc3",
   "metadata": {},
   "outputs": [],
   "source": [
    "# Function to check if the following line is considered spam by the detector.\n",
    "\n",
    "my_data = count_vector.transform([\"free millions\"])"
   ]
  },
  {
   "cell_type": "code",
   "execution_count": 80,
   "id": "d8aa0266",
   "metadata": {},
   "outputs": [],
   "source": [
    "# Run the previous written sentence/word, to see if its considered spam or not.\n",
    "\n",
    "predictions = myNB.predict(my_data)"
   ]
  },
  {
   "cell_type": "code",
   "execution_count": 81,
   "id": "4385bce2",
   "metadata": {},
   "outputs": [
    {
     "data": {
      "text/plain": [
       "array([1], dtype=int64)"
      ]
     },
     "execution_count": 81,
     "metadata": {},
     "output_type": "execute_result"
    }
   ],
   "source": [
    "# If the array returns a 1, then its spam - if 0 then not spam.\n",
    "\n",
    "predictions"
   ]
  },
  {
   "cell_type": "code",
   "execution_count": 69,
   "id": "714e8b5d",
   "metadata": {},
   "outputs": [
    {
     "data": {
      "text/plain": [
       "(1,)"
      ]
     },
     "execution_count": 69,
     "metadata": {},
     "output_type": "execute_result"
    }
   ],
   "source": [
    "predictions.shape"
   ]
  },
  {
   "cell_type": "markdown",
   "id": "bcc15a8e",
   "metadata": {},
   "source": [
    "### Step 4: Validate"
   ]
  },
  {
   "cell_type": "code",
   "execution_count": 17,
   "id": "d14fd5d9",
   "metadata": {},
   "outputs": [
    {
     "name": "stdout",
     "output_type": "stream",
     "text": [
      "Accuracy score:  0.9885139985642498\n",
      "Precision score:  0.9720670391061452\n",
      "Recall score:  0.9405405405405406\n",
      "F1 score:  0.9560439560439562\n"
     ]
    }
   ],
   "source": [
    "# Validate the accuracy of the predictions\n",
    "from sklearn.metrics import accuracy_score, precision_score, recall_score, f1_score\n",
    "print('Accuracy score: ', format(accuracy_score(y_test, predictions)))\n",
    "print('Precision score: ', format(precision_score(y_test, predictions)))\n",
    "print('Recall score: ', format(recall_score(y_test, predictions)))\n",
    "print('F1 score: ', format(f1_score(y_test, predictions)))"
   ]
  },
  {
   "cell_type": "markdown",
   "id": "059076d0",
   "metadata": {},
   "source": [
    "***\n",
    "### <span style='color: red'><u>Task</u></span>\n",
    "Repeat the training, testing and validation with the Decision Tree method previously researched. \n",
    "\n",
    "Upload in the Assignment section the answer to the question: \n",
    "\n",
    "- Which of the two methods gives better results? \n",
    "- Apply the proves."
   ]
  },
  {
   "cell_type": "code",
   "execution_count": null,
   "id": "27ba3acb",
   "metadata": {},
   "outputs": [],
   "source": []
  }
 ],
 "metadata": {
  "kernelspec": {
   "display_name": "Python 3 (ipykernel)",
   "language": "python",
   "name": "python3"
  },
  "language_info": {
   "codemirror_mode": {
    "name": "ipython",
    "version": 3
   },
   "file_extension": ".py",
   "mimetype": "text/x-python",
   "name": "python",
   "nbconvert_exporter": "python",
   "pygments_lexer": "ipython3",
   "version": "3.10.2"
  }
 },
 "nbformat": 4,
 "nbformat_minor": 5
}
