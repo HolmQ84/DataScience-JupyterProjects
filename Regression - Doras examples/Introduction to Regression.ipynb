{
 "cells": [
  {
   "cell_type": "markdown",
   "id": "68fefd3a",
   "metadata": {},
   "source": [
    "# Exercise 1: Introduction to Regression"
   ]
  },
  {
   "cell_type": "code",
   "execution_count": 1,
   "id": "703e296e",
   "metadata": {},
   "outputs": [],
   "source": [
    "import pandas as pd\n",
    "import numpy as np\n",
    "import matplotlib.pyplot as plt"
   ]
  },
  {
   "cell_type": "markdown",
   "id": "e5e80cfa",
   "metadata": {},
   "source": [
    "## Enter Data"
   ]
  },
  {
   "cell_type": "code",
   "execution_count": 2,
   "id": "24d6961d",
   "metadata": {},
   "outputs": [
    {
     "data": {
      "text/html": [
       "<div>\n",
       "<style scoped>\n",
       "    .dataframe tbody tr th:only-of-type {\n",
       "        vertical-align: middle;\n",
       "    }\n",
       "\n",
       "    .dataframe tbody tr th {\n",
       "        vertical-align: top;\n",
       "    }\n",
       "\n",
       "    .dataframe thead th {\n",
       "        text-align: right;\n",
       "    }\n",
       "</style>\n",
       "<table border=\"1\" class=\"dataframe\">\n",
       "  <thead>\n",
       "    <tr style=\"text-align: right;\">\n",
       "      <th></th>\n",
       "      <th>price</th>\n",
       "      <th>sqft_living</th>\n",
       "    </tr>\n",
       "  </thead>\n",
       "  <tbody>\n",
       "    <tr>\n",
       "      <th>0</th>\n",
       "      <td>221900</td>\n",
       "      <td>1180</td>\n",
       "    </tr>\n",
       "    <tr>\n",
       "      <th>1</th>\n",
       "      <td>538000</td>\n",
       "      <td>2570</td>\n",
       "    </tr>\n",
       "    <tr>\n",
       "      <th>2</th>\n",
       "      <td>180000</td>\n",
       "      <td>770</td>\n",
       "    </tr>\n",
       "    <tr>\n",
       "      <th>3</th>\n",
       "      <td>604000</td>\n",
       "      <td>1960</td>\n",
       "    </tr>\n",
       "    <tr>\n",
       "      <th>4</th>\n",
       "      <td>510000</td>\n",
       "      <td>1680</td>\n",
       "    </tr>\n",
       "  </tbody>\n",
       "</table>\n",
       "</div>"
      ],
      "text/plain": [
       "    price  sqft_living\n",
       "0  221900         1180\n",
       "1  538000         2570\n",
       "2  180000          770\n",
       "3  604000         1960\n",
       "4  510000         1680"
      ]
     },
     "execution_count": 2,
     "metadata": {},
     "output_type": "execute_result"
    }
   ],
   "source": [
    "# enter the data\n",
    "df = pd.read_excel(\"../data/small-house-data.xlsx\")\n",
    "df.head()"
   ]
  },
  {
   "cell_type": "code",
   "execution_count": 3,
   "id": "62f944cb",
   "metadata": {},
   "outputs": [],
   "source": [
    "# split it into x and y\n",
    "x, y = df[\"sqft_living\"]/10.764, df[\"price\"]"
   ]
  },
  {
   "cell_type": "code",
   "execution_count": 16,
   "id": "742ece84",
   "metadata": {},
   "outputs": [
    {
     "data": {
      "image/png": "[encoded data removed]",
      "text/plain": [
       "<Figure size 432x288 with 1 Axes>"
      ]
     },
     "metadata": {
      "needs_background": "light"
     },
     "output_type": "display_data"
    }
   ],
   "source": [
    "# Plot output for a few observations\n",
    "plt.scatter(x[0:3], y[0:3], color='green')\n",
    "plt.xlabel('Square meters')\n",
    "plt.ylabel('Price')\n",
    "plt.show()"
   ]
  },
  {
   "cell_type": "code",
   "execution_count": 5,
   "id": "f0598b93",
   "metadata": {},
   "outputs": [],
   "source": [
    "from typing import Tuple\n",
    "from typing import List\n",
    "Vector = List[float]"
   ]
  },
  {
   "cell_type": "markdown",
   "id": "1e2056f7",
   "metadata": {},
   "source": [
    "## Prepare Regression Parameters"
   ]
  },
  {
   "cell_type": "code",
   "execution_count": 6,
   "id": "df29fe30",
   "metadata": {},
   "outputs": [],
   "source": [
    "# Predicted price\n",
    "def pprice(a: float, b: float, x:float) -> float:\n",
    "    return (b*x + a)\n"
   ]
  },
  {
   "cell_type": "code",
   "execution_count": 7,
   "id": "53761e35",
   "metadata": {},
   "outputs": [],
   "source": [
    "# The error\n",
    "def error(a: float, b: float, x: float, y:float)->float:\n",
    "    return y - pprice(a, b, x)\n"
   ]
  },
  {
   "cell_type": "code",
   "execution_count": 8,
   "id": "d93d820b",
   "metadata": {},
   "outputs": [
    {
     "data": {
      "text/plain": [
       "112786.77333452803"
      ]
     },
     "execution_count": 8,
     "metadata": {},
     "output_type": "execute_result"
    }
   ],
   "source": [
    "pprice(-4.47515219e+05, 5.11109376e+03, 109.624675)"
   ]
  },
  {
   "cell_type": "code",
   "execution_count": 9,
   "id": "e65ea5bc",
   "metadata": {},
   "outputs": [
    {
     "data": {
      "text/plain": [
       "109113.22666547197"
      ]
     },
     "execution_count": 9,
     "metadata": {},
     "output_type": "execute_result"
    }
   ],
   "source": [
    "# Test\n",
    "err = error(-4.47515219e+05, 5.11109376e+03, 109.624675, 221900)\n",
    "err"
   ]
  },
  {
   "cell_type": "markdown",
   "id": "5cc005ec",
   "metadata": {},
   "source": [
    "Single observation and error are far from sufficient, and can be both positive and negative."
   ]
  },
  {
   "cell_type": "code",
   "execution_count": 10,
   "id": "71e6a387",
   "metadata": {},
   "outputs": [],
   "source": [
    "# Sum of squared errors (RSS - Residual Sum of Squares)\n",
    "def sum_err(a: float, b:float, x:Vector, y:Vector)->float:\n",
    "    return sum(error(a, b, xi, yi)**2\n",
    "               for xi, yi in zip(x, y))"
   ]
  },
  {
   "cell_type": "code",
   "execution_count": 11,
   "id": "ef064e41",
   "metadata": {},
   "outputs": [
    {
     "data": {
      "text/plain": [
       "2164874083613790.5"
      ]
     },
     "execution_count": 11,
     "metadata": {},
     "output_type": "execute_result"
    }
   ],
   "source": [
    "sum_err(-4.47515219e+05, 5.11109376e+03, x, y)"
   ]
  },
  {
   "cell_type": "markdown",
   "id": "2ac8cd08",
   "metadata": {},
   "source": [
    "### Least Squares\n",
    "The _ordinary least squares_ solution (OLS) is this that makes the sum of squared errors minimal."
   ]
  },
  {
   "cell_type": "code",
   "execution_count": 12,
   "id": "3f3331d6",
   "metadata": {},
   "outputs": [],
   "source": [
    "# a, b - a tuple[a, b]\n",
    "from numpy import mean\n",
    "from numpy import std\n",
    "from numpy import cov\n",
    "from scipy.stats import pearsonr\n",
    "def least_sq(x:Vector, y:Vector)->Tuple[float, float]:\n",
    "    r = cov(x, y)/(std(x)*std(y))\n",
    "    # b = cov(x, y)/(std(x)*std(x))\n",
    "    # r = pearsonr(x, y)\n",
    "    b = r * (std(y)/std(x))\n",
    "    a = mean(y)-b*mean(x)\n",
    "    return a, b"
   ]
  },
  {
   "cell_type": "code",
   "execution_count": 13,
   "id": "5984e123",
   "metadata": {},
   "outputs": [
    {
     "data": {
      "text/plain": [
       "(array([[ 5.39894905e+05, -4.36077498e+04],\n",
       "        [-4.36077498e+04, -3.57685471e+09]]),\n",
       " array([[1.00004627e+00, 3.02077185e+03],\n",
       "        [3.02077185e+03, 1.85139105e+07]]))"
      ]
     },
     "execution_count": 13,
     "metadata": {},
     "output_type": "execute_result"
    }
   ],
   "source": [
    "least_sq(x, y)"
   ]
  },
  {
   "cell_type": "code",
   "execution_count": 14,
   "id": "62ce6486",
   "metadata": {},
   "outputs": [
    {
     "data": {
      "image/png": "[encoded data removed]",
      "text/plain": [
       "<Figure size 432x288 with 1 Axes>"
      ]
     },
     "metadata": {
      "needs_background": "light"
     },
     "output_type": "display_data"
    }
   ],
   "source": [
    "# Plot output\n",
    "plt.scatter(x, y, color='green')\n",
    "plt.xlabel('x')\n",
    "plt.ylabel('y')\n",
    "plt.show()"
   ]
  },
  {
   "cell_type": "code",
   "execution_count": 15,
   "id": "6d79cd9c",
   "metadata": {},
   "outputs": [
    {
     "data": {
      "image/png": "[encoded data removed]",
      "text/plain": [
       "<Figure size 432x288 with 1 Axes>"
      ]
     },
     "metadata": {
      "needs_background": "light"
     },
     "output_type": "display_data"
    }
   ],
   "source": [
    "# plot the prediction\n",
    "plt.xlabel('area')\n",
    "plt.ylabel('price')\n",
    "# plt.legend()\n",
    "\n",
    "plt.scatter(x, y, color='green', label = 'test data')\n",
    "plt.plot(x, pprice(-4.36077498e+04, 3.02077185e+03, x), color='red', linewidth=2, label= 'predicted regression line')\n",
    "\n",
    "plt.show()"
   ]
  },
  {
   "cell_type": "code",
   "execution_count": null,
   "id": "d1c212ef",
   "metadata": {},
   "outputs": [],
   "source": []
  }
 ],
 "metadata": {
  "kernelspec": {
   "display_name": "Python 3 (ipykernel)",
   "language": "python",
   "name": "python3"
  },
  "language_info": {
   "codemirror_mode": {
    "name": "ipython",
    "version": 3
   },
   "file_extension": ".py",
   "mimetype": "text/x-python",
   "name": "python",
   "nbconvert_exporter": "python",
   "pygments_lexer": "ipython3",
   "version": "3.10.2"
  }
 },
 "nbformat": 4,
 "nbformat_minor": 5
}
