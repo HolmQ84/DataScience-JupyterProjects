{
 "cells": [
  {
   "cell_type": "markdown",
   "id": "27acf096",
   "metadata": {},
   "source": [
    "# <center>Exercises with Matrices</center>"
   ]
  },
  {
   "cell_type": "markdown",
   "id": "dde0999e",
   "metadata": {},
   "source": [
    "***"
   ]
  },
  {
   "cell_type": "code",
   "execution_count": 1,
   "id": "ba901c13",
   "metadata": {},
   "outputs": [],
   "source": [
    "import numpy as np\n",
    "import matplotlib.pyplot as plt"
   ]
  },
  {
   "cell_type": "code",
   "execution_count": 2,
   "id": "08f2903f",
   "metadata": {},
   "outputs": [],
   "source": [
    "a = [[1, 2], [3, 4]]\n",
    "b = [[5, 6], [7, 8]]"
   ]
  },
  {
   "cell_type": "code",
   "execution_count": 3,
   "id": "ce619711",
   "metadata": {},
   "outputs": [],
   "source": [
    "c = a+b"
   ]
  },
  {
   "cell_type": "code",
   "execution_count": 4,
   "id": "660cc686",
   "metadata": {},
   "outputs": [
    {
     "data": {
      "text/plain": [
       "[[1, 2], [3, 4], [5, 6], [7, 8]]"
      ]
     },
     "execution_count": 4,
     "metadata": {},
     "output_type": "execute_result"
    }
   ],
   "source": [
    "c"
   ]
  },
  {
   "cell_type": "code",
   "execution_count": 5,
   "id": "6f124d5c",
   "metadata": {},
   "outputs": [
    {
     "data": {
      "text/plain": [
       "array([[ 6,  8],\n",
       "       [10, 12]])"
      ]
     },
     "execution_count": 5,
     "metadata": {},
     "output_type": "execute_result"
    }
   ],
   "source": [
    "np.add(a, b)"
   ]
  },
  {
   "cell_type": "markdown",
   "id": "160a6d6f",
   "metadata": {},
   "source": [
    "### Creating matrices"
   ]
  },
  {
   "cell_type": "markdown",
   "id": "7b5ec978",
   "metadata": {},
   "source": [
    "#### From array"
   ]
  },
  {
   "cell_type": "code",
   "execution_count": 6,
   "id": "a1e69b08",
   "metadata": {},
   "outputs": [],
   "source": [
    "A = [[1, 2], [3, 4]]\n",
    "B = [[5, 6], [7, 8]]"
   ]
  },
  {
   "cell_type": "code",
   "execution_count": 7,
   "id": "f4d91782",
   "metadata": {},
   "outputs": [
    {
     "data": {
      "text/plain": [
       "[[1, 2], [3, 4], [5, 6], [7, 8]]"
      ]
     },
     "execution_count": 7,
     "metadata": {},
     "output_type": "execute_result"
    }
   ],
   "source": [
    "A+B"
   ]
  },
  {
   "cell_type": "code",
   "execution_count": 8,
   "id": "e503c53c",
   "metadata": {},
   "outputs": [
    {
     "data": {
      "text/plain": [
       "array([[1., 1., 1., 1., 1.],\n",
       "       [1., 1., 1., 1., 1.],\n",
       "       [1., 1., 1., 1., 1.]])"
      ]
     },
     "execution_count": 8,
     "metadata": {},
     "output_type": "execute_result"
    }
   ],
   "source": [
    "np.ones((3, 5), dtype=float)"
   ]
  },
  {
   "cell_type": "code",
   "execution_count": 9,
   "id": "1034d235",
   "metadata": {},
   "outputs": [
    {
     "data": {
      "text/plain": [
       "array([[3.14, 3.14, 3.14, 3.14, 3.14],\n",
       "       [3.14, 3.14, 3.14, 3.14, 3.14],\n",
       "       [3.14, 3.14, 3.14, 3.14, 3.14]])"
      ]
     },
     "execution_count": 9,
     "metadata": {},
     "output_type": "execute_result"
    }
   ],
   "source": [
    "np.full((3, 5), 3.14)"
   ]
  },
  {
   "cell_type": "code",
   "execution_count": 10,
   "id": "313bf89f",
   "metadata": {},
   "outputs": [],
   "source": [
    "# np.array([range(i, i+3)])"
   ]
  },
  {
   "cell_type": "code",
   "execution_count": 11,
   "id": "b5d8a255",
   "metadata": {},
   "outputs": [
    {
     "data": {
      "text/plain": [
       "array([[0.72868577, 0.89672142, 0.52505794],\n",
       "       [0.151783  , 0.51507927, 0.52336485],\n",
       "       [0.10735108, 0.35362357, 0.5973831 ]])"
      ]
     },
     "execution_count": 11,
     "metadata": {},
     "output_type": "execute_result"
    }
   ],
   "source": [
    "M = np.random.random((3, 3))\n",
    "M"
   ]
  },
  {
   "cell_type": "code",
   "execution_count": 12,
   "id": "046816b1",
   "metadata": {},
   "outputs": [],
   "source": [
    "loc, sigma = 0, 0.1\n",
    "N = np.random.normal(loc, sigma, (100, 10))"
   ]
  },
  {
   "cell_type": "code",
   "execution_count": 13,
   "id": "8b36267e",
   "metadata": {
    "scrolled": true
   },
   "outputs": [
    {
     "data": {
      "text/plain": [
       "array([[-1.99825485e-01, -1.21858065e-01, -3.46079024e-02,\n",
       "         6.84828731e-02,  2.58280503e-02, -2.17203645e-02,\n",
       "         6.28737653e-02, -3.88906913e-02, -1.22887325e-01,\n",
       "         1.13016416e-01],\n",
       "       [ 1.33395550e-01,  7.65345814e-02,  1.00988598e-01,\n",
       "         3.78063263e-02,  1.41155575e-01, -1.14622834e-01,\n",
       "         2.35274929e-02,  9.29088685e-02, -1.31862209e-01,\n",
       "        -1.92772186e-01],\n",
       "       [-4.06385817e-02, -6.45203554e-02,  9.81734934e-02,\n",
       "        -1.27176332e-01, -1.14920261e-01, -7.62041606e-02,\n",
       "         1.72142763e-02, -4.08245875e-02, -1.83782251e-01,\n",
       "         1.26473494e-01],\n",
       "       [ 2.29846848e-01, -1.00359879e-01, -9.42966762e-02,\n",
       "        -5.56226464e-02,  3.68369504e-02, -1.73359785e-02,\n",
       "         1.46465016e-01, -7.23917440e-02, -2.92152008e-02,\n",
       "        -1.14329710e-01],\n",
       "       [ 1.14407400e-01, -6.99769616e-02, -1.93276852e-03,\n",
       "        -2.88445952e-02, -7.47093567e-02, -4.11792040e-02,\n",
       "        -1.43327006e-02, -3.22599039e-02, -7.48673691e-02,\n",
       "        -1.51651590e-03],\n",
       "       [-5.15247013e-02,  4.67002615e-02,  6.08865364e-02,\n",
       "        -1.41758610e-02, -3.59877554e-02,  6.66908429e-02,\n",
       "        -1.62356670e-01, -1.29089251e-01,  9.57827592e-03,\n",
       "        -6.89713710e-02],\n",
       "       [ 4.70351902e-02, -1.73660450e-01,  8.48728412e-02,\n",
       "         1.25380048e-01, -2.33265474e-02, -4.72793166e-02,\n",
       "        -1.09393348e-01,  8.81946907e-02, -1.49382827e-01,\n",
       "         6.17461102e-02],\n",
       "       [-2.88276535e-02, -8.10107064e-02, -3.05598379e-02,\n",
       "         4.14475812e-02, -1.65950297e-01, -1.95868649e-01,\n",
       "         3.86194269e-02, -7.67747482e-02,  5.57209699e-02,\n",
       "        -5.64840942e-02],\n",
       "       [-1.20882217e-01, -1.60332958e-01,  4.08836028e-02,\n",
       "        -1.88588410e-01,  2.16023685e-02, -1.08790202e-01,\n",
       "        -9.82366841e-03,  2.48375136e-03, -2.39149028e-01,\n",
       "         1.19695889e-01],\n",
       "       [-1.40267531e-01,  1.06700456e-02, -4.98112660e-03,\n",
       "        -1.15468691e-01,  1.15486211e-01, -5.16368093e-02,\n",
       "        -1.05880340e-01, -7.35423475e-03,  1.09254319e-01,\n",
       "         7.46123140e-02],\n",
       "       [ 3.63129616e-03,  1.63449349e-02,  2.13445877e-01,\n",
       "         6.19191816e-02, -5.84835317e-02, -1.14443894e-01,\n",
       "        -1.38858601e-02,  1.34962134e-01,  1.30348197e-01,\n",
       "         2.09613920e-01],\n",
       "       [ 1.74077594e-01,  2.76460381e-02,  1.77183476e-01,\n",
       "        -5.72839589e-03, -8.68308822e-02, -2.27566600e-01,\n",
       "         2.16546895e-01, -1.65187791e-01,  2.91063815e-02,\n",
       "        -1.92114701e-01],\n",
       "       [-2.23441359e-01,  1.65193148e-01, -1.68573348e-01,\n",
       "        -6.93663658e-02, -4.95363207e-02,  9.00460013e-02,\n",
       "        -4.63148855e-02,  4.64719990e-02,  4.25291804e-02,\n",
       "         1.40678277e-02],\n",
       "       [ 3.05585039e-03,  3.17080838e-02, -4.45695946e-02,\n",
       "        -1.62474537e-01,  1.32782263e-02, -2.54442158e-01,\n",
       "        -1.62861779e-01,  9.35489998e-02,  5.32548827e-02,\n",
       "         4.85039012e-03],\n",
       "       [ 3.95819805e-02,  6.14236828e-02,  1.09919025e-01,\n",
       "        -5.26102093e-02, -1.18246388e-01, -2.00725113e-01,\n",
       "         2.41711427e-02,  8.89157308e-02, -1.56140326e-01,\n",
       "         1.39292555e-01],\n",
       "       [-1.07497750e-01, -1.16087318e-01,  3.08296692e-02,\n",
       "         8.97200930e-03, -3.52671261e-02, -1.79177287e-01,\n",
       "        -1.72721581e-02, -5.36601799e-02,  2.33067574e-02,\n",
       "         2.24741253e-01],\n",
       "       [-1.55379203e-01,  4.75055374e-02,  1.98924970e-02,\n",
       "         1.03793527e-01, -1.00272682e-01,  8.82967240e-02,\n",
       "        -2.52614776e-02, -2.13220902e-04,  1.68873530e-01,\n",
       "        -1.26608896e-01],\n",
       "       [ 6.36219197e-02, -4.37405198e-02, -7.17870326e-02,\n",
       "         3.94583667e-02, -2.90203875e-02, -3.81278815e-02,\n",
       "        -3.35258332e-02,  2.51886456e-01, -5.70686422e-02,\n",
       "         5.22313132e-02],\n",
       "       [ 1.01121414e-01, -5.22389638e-02,  5.48105354e-03,\n",
       "        -6.02022473e-02,  8.45566896e-02,  1.66573164e-01,\n",
       "        -1.06486841e-01, -2.29214227e-02,  2.47245389e-02,\n",
       "         1.81324498e-02],\n",
       "       [ 1.17887080e-02,  1.12382183e-01,  2.47934853e-02,\n",
       "         5.16302642e-02, -1.65498620e-01,  4.36313908e-02,\n",
       "         1.19436592e-01,  1.05879038e-01, -8.88164163e-02,\n",
       "         1.25489350e-01],\n",
       "       [ 7.32160056e-02, -1.13933205e-01, -6.37603705e-02,\n",
       "        -1.07957126e-01,  3.53130339e-02,  1.60821682e-02,\n",
       "        -7.07377683e-03,  6.79991872e-03, -4.91709515e-02,\n",
       "        -3.87847467e-02],\n",
       "       [-9.89523668e-03,  6.35577453e-02, -1.38747039e-01,\n",
       "        -2.09271547e-01,  1.31462676e-01,  3.70383351e-02,\n",
       "         4.01875024e-02, -5.01133520e-02, -7.69339973e-02,\n",
       "        -7.37811949e-02],\n",
       "       [-6.87256635e-02, -9.90203129e-03,  1.24523946e-01,\n",
       "         1.23437942e-01, -3.46101270e-03,  3.76918870e-03,\n",
       "         5.01400112e-02,  1.05150359e-01, -4.04531406e-02,\n",
       "        -3.06452055e-03],\n",
       "       [ 6.13678591e-03, -2.55530942e-01, -3.33913174e-02,\n",
       "        -6.58958920e-02,  8.52765713e-02, -4.73120428e-02,\n",
       "         8.96023876e-02, -3.92368982e-02,  3.17813347e-01,\n",
       "         2.31862256e-02],\n",
       "       [ 1.73558086e-01,  1.33316790e-02, -2.05439454e-02,\n",
       "         5.38545059e-02, -9.55972982e-02, -1.54151261e-01,\n",
       "         8.43823131e-03, -5.30485992e-02,  1.94787685e-02,\n",
       "        -2.39109194e-02],\n",
       "       [-1.30829800e-01,  1.61891673e-01, -4.19498865e-02,\n",
       "        -2.92479294e-02, -6.60141281e-02,  9.86653146e-02,\n",
       "         1.34235400e-01,  5.56234594e-02, -1.02721632e-01,\n",
       "         1.72172882e-02],\n",
       "       [-4.77570314e-02, -1.18172030e-01, -1.59570445e-01,\n",
       "        -9.74793769e-03,  1.06601684e-01,  1.10486115e-01,\n",
       "         1.55946622e-02, -1.90928596e-01, -1.89210775e-02,\n",
       "        -2.38126303e-03],\n",
       "       [ 8.21450520e-02, -9.02055487e-03, -3.31168418e-02,\n",
       "         1.36294381e-01, -3.26759863e-02,  9.17339635e-02,\n",
       "        -5.93592288e-02,  5.45059079e-02, -4.36142003e-02,\n",
       "        -4.97829185e-03],\n",
       "       [ 3.56776683e-02, -4.62154073e-02, -1.40721555e-01,\n",
       "         6.59326000e-02, -9.95511728e-02, -1.58118060e-01,\n",
       "        -4.97209758e-02, -4.84149619e-02,  2.06449695e-02,\n",
       "        -3.31904283e-02],\n",
       "       [ 3.77911840e-03,  5.50536486e-02,  2.57712614e-01,\n",
       "         8.98711341e-04,  1.39704611e-02, -4.21159068e-02,\n",
       "         9.32887670e-02, -1.62385043e-02,  7.72547656e-03,\n",
       "        -6.17807207e-02],\n",
       "       [-2.70944836e-03, -5.08947100e-02, -1.09504297e-01,\n",
       "        -1.08388767e-01, -2.54421287e-01,  1.18831103e-02,\n",
       "        -5.03638196e-03,  6.17168135e-02,  3.60150373e-02,\n",
       "        -1.06198810e-01],\n",
       "       [ 9.07297227e-03, -1.33733469e-01, -4.71166914e-03,\n",
       "         9.94632279e-02,  4.00496128e-02, -2.14482243e-02,\n",
       "         1.33840473e-02, -3.10912353e-02, -5.01855358e-02,\n",
       "        -1.69585133e-01],\n",
       "       [-4.95852307e-02,  2.56464381e-01, -3.42423051e-03,\n",
       "         3.56333642e-02,  2.06308471e-01, -1.61481730e-01,\n",
       "         1.32624824e-01,  1.52097056e-01, -3.56117805e-02,\n",
       "         7.23862049e-03],\n",
       "       [ 1.82056729e-01, -1.48835784e-01, -1.37267853e-01,\n",
       "        -4.97977358e-02,  1.83438915e-01, -1.18484580e-01,\n",
       "        -2.97715295e-02,  1.17985116e-01,  7.34217482e-02,\n",
       "        -2.33023816e-01],\n",
       "       [ 1.49949101e-01,  1.44952673e-02,  2.09934116e-01,\n",
       "        -7.95288001e-02,  1.32829984e-01, -5.61889518e-02,\n",
       "        -1.19480229e-02, -2.24005433e-02, -6.95693460e-02,\n",
       "         1.59890510e-01],\n",
       "       [-2.95146488e-02, -5.26915386e-02,  5.21770230e-02,\n",
       "        -2.78259507e-02,  4.75984408e-03, -1.28052051e-01,\n",
       "         2.00850403e-02, -4.19290162e-02,  4.74048197e-02,\n",
       "         4.47516753e-02],\n",
       "       [ 4.47872498e-03,  6.71778842e-02, -1.22441626e-01,\n",
       "        -1.28408449e-01, -1.42515892e-02,  1.24423293e-01,\n",
       "         1.57206270e-02,  9.19673443e-04,  1.38825420e-01,\n",
       "         9.98589253e-02],\n",
       "       [ 5.05535584e-02, -8.27271965e-02,  2.22024050e-03,\n",
       "         6.29564878e-02, -1.95745351e-02,  6.71670944e-02,\n",
       "         2.68942394e-02,  3.46069346e-02,  1.25256650e-01,\n",
       "         2.64898923e-02],\n",
       "       [-7.86379834e-03,  1.63998196e-02, -1.08314036e-01,\n",
       "        -6.87069733e-02, -8.03928805e-02,  1.23592599e-01,\n",
       "         9.70957146e-02, -3.81966424e-02, -5.89069789e-02,\n",
       "         4.78587372e-02],\n",
       "       [-4.48497187e-03, -6.18097666e-02,  1.27709283e-01,\n",
       "        -1.64421476e-01,  2.98288907e-01,  7.78496947e-02,\n",
       "         9.58408075e-02, -5.01278574e-02, -5.88476913e-02,\n",
       "         4.73401927e-02],\n",
       "       [-2.03655581e-01, -1.17115376e-01, -7.87604452e-03,\n",
       "        -2.35581337e-02,  2.21798710e-03,  1.30100857e-01,\n",
       "         4.79350283e-02, -1.50330319e-01,  2.13733146e-02,\n",
       "         1.06190241e-02],\n",
       "       [-4.40386532e-02,  9.91277261e-02,  2.88271327e-03,\n",
       "         4.85935549e-04,  4.97949826e-02, -1.16885968e-01,\n",
       "         6.63030460e-02,  5.64070768e-02, -2.43054349e-02,\n",
       "         1.85978216e-02],\n",
       "       [-5.46445604e-02,  5.66858653e-02,  1.75185777e-01,\n",
       "         1.74010327e-01, -4.80873541e-02,  4.82807770e-02,\n",
       "        -3.16150559e-02, -1.28656483e-01,  3.04234618e-02,\n",
       "        -7.63578238e-02],\n",
       "       [ 5.54471585e-02, -7.74939925e-02,  1.66769401e-01,\n",
       "         1.24679511e-01,  8.40375499e-03,  1.98618395e-02,\n",
       "         1.24944395e-02, -1.45043387e-01,  1.09931753e-01,\n",
       "         1.25033411e-01],\n",
       "       [ 9.32653761e-02,  7.01233327e-02, -1.17417573e-01,\n",
       "        -1.92325646e-02,  8.18857787e-02,  4.90976963e-02,\n",
       "         7.90464490e-02,  2.31226139e-02,  2.44576556e-02,\n",
       "        -2.46079589e-01],\n",
       "       [-7.39413613e-02, -7.54091117e-02,  1.01107341e-01,\n",
       "         1.12448341e-01,  2.94765592e-02,  8.33379369e-02,\n",
       "        -1.66018747e-01, -1.37955806e-02, -7.38566921e-02,\n",
       "        -8.61584827e-02],\n",
       "       [-9.02389275e-02,  7.80039188e-02,  1.50643445e-01,\n",
       "         6.46775090e-02, -6.69590418e-02, -4.66282112e-02,\n",
       "        -1.50939009e-01,  9.26332893e-02, -4.37894983e-02,\n",
       "         7.30335299e-03],\n",
       "       [ 5.56509826e-02,  5.69216814e-03,  5.16287206e-02,\n",
       "         3.64255199e-02, -5.53745429e-02,  8.76877900e-02,\n",
       "         1.24007572e-01,  1.21688567e-01, -1.39275776e-01,\n",
       "        -4.52693345e-02],\n",
       "       [ 1.43961207e-01,  2.14062978e-01, -8.02997277e-02,\n",
       "         1.27479604e-01,  1.86850216e-01,  6.00602781e-02,\n",
       "        -6.44192812e-02,  5.99033500e-02, -4.12531533e-02,\n",
       "         7.00592102e-02],\n",
       "       [ 2.20424760e-01,  7.50389033e-02, -1.71734549e-01,\n",
       "         5.15303363e-02,  2.41171798e-01, -4.82596669e-03,\n",
       "         3.65452344e-02, -1.27093849e-01,  1.22412791e-01,\n",
       "         2.74061084e-02],\n",
       "       [-1.62838091e-02,  6.17105475e-02, -4.22665940e-02,\n",
       "         9.44549225e-02,  1.42419063e-01,  8.65160612e-02,\n",
       "         4.17195207e-03, -7.84299892e-02,  1.24733228e-01,\n",
       "        -1.10019400e-01],\n",
       "       [ 1.01498243e-01,  7.14651584e-02, -3.64669763e-02,\n",
       "        -2.01371570e-02,  1.01504183e-01,  5.80784181e-02,\n",
       "        -1.27409850e-01,  1.29553988e-01,  2.67105775e-01,\n",
       "        -5.23171408e-02],\n",
       "       [ 1.80569976e-01,  7.65866992e-02, -1.19431600e-02,\n",
       "         7.06934201e-02, -9.51327768e-02,  2.36422340e-02,\n",
       "        -3.45687574e-02,  1.35403496e-01,  5.24538806e-02,\n",
       "         1.40518628e-02],\n",
       "       [-1.54665423e-02,  1.54140391e-02, -2.01308247e-03,\n",
       "        -7.35204389e-02, -1.12041644e-02,  1.63956019e-01,\n",
       "         1.64349939e-01,  4.09170309e-02, -1.27438730e-01,\n",
       "        -5.64775329e-02],\n",
       "       [ 9.40714120e-03, -8.82502404e-02, -3.95175565e-02,\n",
       "        -5.92922788e-02,  5.25897070e-02, -1.67634865e-01,\n",
       "         2.54772006e-02, -1.83258131e-02,  3.77365263e-02,\n",
       "         3.16346423e-02],\n",
       "       [ 1.43639541e-02,  2.28121930e-03,  1.19633782e-01,\n",
       "        -2.60882908e-01,  1.60145840e-01,  8.47148076e-02,\n",
       "        -5.08418724e-03, -6.85126437e-02,  2.68897100e-02,\n",
       "        -9.34670710e-02],\n",
       "       [-8.68171914e-02,  3.33312007e-02,  1.14352813e-01,\n",
       "        -8.19236803e-02,  5.97789986e-03,  2.18761144e-02,\n",
       "        -7.11268791e-02, -1.73441060e-02,  4.40129626e-03,\n",
       "        -1.36661976e-01],\n",
       "       [ 1.22240517e-01,  1.24481180e-02, -3.29916368e-02,\n",
       "        -1.06339361e-02,  1.57020635e-02, -1.50546532e-02,\n",
       "        -4.91834458e-02, -3.78624461e-02,  2.15162884e-01,\n",
       "        -2.49003139e-02],\n",
       "       [ 1.54253777e-01,  1.11134861e-01,  4.60471084e-03,\n",
       "         1.19388748e-02, -8.34552324e-03, -3.75820679e-02,\n",
       "        -5.25040204e-02,  2.37059662e-04,  1.25810522e-01,\n",
       "         8.38296102e-02],\n",
       "       [ 4.50455703e-02, -4.55284137e-02, -6.59164121e-02,\n",
       "        -3.64789640e-02,  1.34380138e-01,  7.84368288e-02,\n",
       "        -1.93071987e-02,  8.97355726e-02, -5.14278169e-02,\n",
       "        -1.35731247e-01],\n",
       "       [-1.10198699e-01, -1.62858774e-02, -5.62223112e-02,\n",
       "        -1.31953087e-01,  4.91730617e-02,  3.53342959e-02,\n",
       "         7.11106194e-03,  4.40672654e-02, -3.64357125e-02,\n",
       "        -3.12713950e-02],\n",
       "       [-5.04893747e-02, -4.70392620e-02,  7.96413215e-02,\n",
       "         6.84177843e-02, -7.29367202e-02,  1.64040324e-01,\n",
       "         5.13672086e-02, -3.45936535e-02,  3.37604557e-02,\n",
       "         2.60710305e-02],\n",
       "       [ 2.79998268e-02, -1.06730263e-01,  1.14982601e-01,\n",
       "        -4.94676032e-02, -1.34459502e-01, -1.15591205e-01,\n",
       "         5.67381523e-02,  7.54004092e-02,  2.30539695e-02,\n",
       "         7.20767613e-02],\n",
       "       [ 1.73607919e-02,  2.10390141e-02, -3.66926482e-02,\n",
       "        -1.34924681e-01, -1.59889148e-01, -3.20675477e-02,\n",
       "         4.37085654e-02, -7.95656559e-02, -3.67270895e-01,\n",
       "         1.48869948e-01],\n",
       "       [ 7.67695830e-03,  6.70548628e-02,  1.22838503e-01,\n",
       "         5.79298666e-02,  6.73360787e-02,  1.43322129e-01,\n",
       "         1.24287965e-01, -1.65577218e-02,  1.22351667e-01,\n",
       "         1.12130317e-01],\n",
       "       [-9.62977201e-02, -2.06038370e-03,  4.33754551e-02,\n",
       "         1.58641545e-01, -7.77612186e-02, -9.61093682e-02,\n",
       "         2.42133351e-02, -6.48974196e-02, -6.02620025e-02,\n",
       "        -2.00087570e-02],\n",
       "       [-1.13328389e-02, -9.64467989e-02, -5.37004529e-02,\n",
       "        -2.22433311e-01, -3.36875726e-02,  1.91232095e-01,\n",
       "         1.39210959e-01,  1.96614589e-01, -3.66226271e-02,\n",
       "         1.41058527e-01],\n",
       "       [ 1.67294966e-01, -2.61168298e-02, -2.41996070e-03,\n",
       "         1.00392279e-01,  3.53489227e-03, -4.25406145e-02,\n",
       "        -2.65603840e-01,  4.60416638e-02, -1.14802098e-01,\n",
       "         2.53214165e-02],\n",
       "       [ 8.94580163e-03,  2.23397807e-01,  6.24024978e-02,\n",
       "         7.14044946e-02, -6.28715665e-02,  4.11240799e-02,\n",
       "         6.87831299e-02,  9.82770586e-02, -5.62243763e-02,\n",
       "         1.74077075e-01],\n",
       "       [-3.58117104e-02, -3.49961547e-02,  2.48937455e-01,\n",
       "        -3.94042476e-02,  1.24704515e-01,  2.12382753e-01,\n",
       "         2.13262066e-02,  9.35380177e-02,  1.81788351e-02,\n",
       "        -5.41295493e-02],\n",
       "       [ 6.37759995e-03,  1.33926384e-01,  5.17151740e-02,\n",
       "        -8.53281439e-02,  9.16463669e-02,  2.04394553e-02,\n",
       "         9.00870625e-02, -2.90900957e-02, -1.50378209e-01,\n",
       "        -6.55700511e-04],\n",
       "       [-1.12382486e-01,  1.07168356e-01, -1.19293949e-01,\n",
       "        -4.67032628e-02, -1.05691577e-01,  1.39351876e-01,\n",
       "        -4.86876331e-02, -8.80733765e-03,  1.58621944e-01,\n",
       "         3.43202741e-02],\n",
       "       [-5.54371375e-03,  1.36386455e-01, -4.99849503e-02,\n",
       "        -5.10776694e-02, -1.11599019e-01,  5.82961677e-02,\n",
       "        -7.31973884e-02,  6.15093579e-02,  2.67958628e-02,\n",
       "         5.56871372e-02],\n",
       "       [-8.32674174e-02, -2.17933849e-01, -1.03832109e-01,\n",
       "        -1.24637086e-01, -7.70255921e-02, -1.25759410e-01,\n",
       "         1.43161384e-02,  1.03673268e-01, -6.60453036e-02,\n",
       "         4.88710500e-02],\n",
       "       [-1.89528554e-01, -1.38590090e-01, -8.18820422e-02,\n",
       "        -1.22174521e-01,  8.27955491e-02, -1.32554345e-01,\n",
       "        -8.61669170e-02,  3.66316731e-02, -1.35722793e-01,\n",
       "        -2.31051321e-01],\n",
       "       [-2.26917010e-02,  1.01243470e-01,  1.46240251e-01,\n",
       "        -6.33102606e-04, -9.13724614e-02,  4.20699733e-02,\n",
       "         3.13360915e-02,  1.33917841e-01, -7.97793257e-02,\n",
       "        -1.11977015e-01],\n",
       "       [-7.56342162e-02, -7.12044405e-02,  5.64720089e-02,\n",
       "        -1.82540395e-01,  1.07200392e-01, -1.35366258e-01,\n",
       "         7.55021181e-02,  2.10127363e-02, -1.94634479e-02,\n",
       "        -2.58239307e-02],\n",
       "       [ 7.72107738e-03,  2.16144595e-02, -1.42022840e-01,\n",
       "        -1.73359002e-01, -1.42699994e-01, -5.17539222e-02,\n",
       "        -1.70117453e-01,  3.03681403e-02,  5.18883941e-02,\n",
       "        -2.46120171e-01],\n",
       "       [-8.50676258e-02, -7.61854579e-02,  2.96560066e-02,\n",
       "        -3.77908213e-02,  2.24134930e-01, -7.13803973e-02,\n",
       "         2.79827915e-01,  3.68430111e-02,  1.16763829e-01,\n",
       "         4.62339357e-02],\n",
       "       [ 4.28518011e-02, -1.84822010e-02, -1.29566985e-01,\n",
       "         9.95672707e-02, -6.55371687e-03,  1.06930661e-01,\n",
       "         3.71877547e-02,  1.36686611e-01,  9.53853381e-02,\n",
       "         1.20894772e-02],\n",
       "       [-1.94462629e-01, -8.15146473e-02, -1.32923359e-01,\n",
       "        -1.06574703e-01, -2.29011529e-01,  4.39771351e-02,\n",
       "        -5.70162835e-02,  1.41020695e-01, -2.55672660e-02,\n",
       "         1.53240970e-01],\n",
       "       [ 2.43537643e-01,  4.25372704e-02,  3.45345967e-02,\n",
       "        -1.34517338e-01,  6.24902926e-02, -1.08336929e-01,\n",
       "        -1.20779863e-02, -3.32055665e-02,  1.84274513e-02,\n",
       "         3.30243055e-03],\n",
       "       [ 9.07732516e-02, -9.57152673e-02, -2.34767476e-02,\n",
       "         6.85404044e-02, -4.57912118e-02,  9.86478794e-02,\n",
       "        -8.31166762e-02, -4.44281930e-02, -8.63062819e-02,\n",
       "        -6.25967656e-02],\n",
       "       [-1.21365784e-02, -3.99676199e-02, -6.49812283e-02,\n",
       "         2.14832393e-03, -7.71168136e-02,  1.44150881e-02,\n",
       "         1.09956262e-01, -1.20866901e-01,  2.12164728e-03,\n",
       "        -4.13862721e-02],\n",
       "       [ 4.03167778e-02, -7.37151882e-03, -1.05121624e-01,\n",
       "         1.13439631e-01, -7.92658666e-02, -1.34707331e-02,\n",
       "         5.45824846e-02, -9.74950936e-02,  2.56193609e-02,\n",
       "        -2.35341423e-02],\n",
       "       [-1.37935381e-01, -8.34710217e-03, -7.79764844e-02,\n",
       "         1.07121439e-01,  1.12367042e-02,  2.57854488e-02,\n",
       "         7.23334965e-02,  1.02517962e-02, -1.53166431e-01,\n",
       "         9.81783023e-02],\n",
       "       [-2.62041278e-02, -2.01303330e-01, -1.01959075e-01,\n",
       "        -1.53876848e-02, -1.77488019e-01, -4.14783021e-02,\n",
       "        -1.97137090e-01,  4.17307123e-02, -8.15825672e-02,\n",
       "         4.41474412e-02],\n",
       "       [-3.61112170e-02, -1.24521060e-02,  1.42213545e-01,\n",
       "        -3.15930497e-02,  6.26748093e-02,  1.15769052e-01,\n",
       "        -4.05898807e-02,  9.02560249e-02, -1.37429832e-01,\n",
       "         5.90575882e-02],\n",
       "       [-8.23778815e-02,  1.29884563e-01, -1.85733545e-02,\n",
       "         1.46994640e-01,  3.55782797e-02, -3.07898762e-02,\n",
       "         3.40214807e-04, -1.34617779e-01, -5.17307229e-05,\n",
       "         1.93460231e-01],\n",
       "       [ 7.07987754e-02, -1.48755880e-01,  1.60251783e-02,\n",
       "         1.53474422e-03,  1.66778685e-01,  1.85306308e-01,\n",
       "        -5.71523517e-02, -6.28932198e-02, -6.90384232e-02,\n",
       "        -9.05714226e-02],\n",
       "       [-7.68920518e-03, -2.06170923e-01,  1.49161764e-01,\n",
       "         7.18022580e-02,  3.37538081e-02, -2.08805718e-02,\n",
       "        -1.56587100e-02,  1.68909718e-01,  5.26489101e-02,\n",
       "        -2.22845700e-02],\n",
       "       [-1.03646596e-01,  2.45043758e-02,  8.33684089e-02,\n",
       "         5.31857262e-02,  8.61969311e-03, -1.27251495e-01,\n",
       "         3.11278052e-02,  6.21534405e-03,  2.01451664e-01,\n",
       "        -5.79939364e-02],\n",
       "       [-2.70842439e-02,  6.94333688e-02,  2.73888409e-02,\n",
       "         4.84420716e-02,  2.10882328e-02,  1.25509189e-02,\n",
       "        -9.83526670e-02, -2.49220937e-01, -5.86088320e-03,\n",
       "        -6.91680465e-02],\n",
       "       [-1.36685488e-01,  5.21101469e-02, -3.29164259e-02,\n",
       "        -3.03549385e-02, -3.48276103e-02, -6.51122921e-02,\n",
       "        -7.32163624e-02, -1.40058879e-01,  1.79950080e-01,\n",
       "        -6.98853974e-03],\n",
       "       [ 7.12099433e-02,  6.98972007e-02, -1.08568183e-01,\n",
       "        -8.01797069e-02,  1.65100063e-01,  2.18772934e-02,\n",
       "         8.43570679e-02, -2.05411831e-01,  7.85748450e-02,\n",
       "        -2.05841200e-01],\n",
       "       [ 1.37542060e-01,  1.72982471e-01, -1.11649534e-01,\n",
       "         3.49493248e-02,  9.96356267e-03, -7.27014906e-02,\n",
       "        -5.04990290e-02,  6.67222181e-02, -4.95826259e-02,\n",
       "        -3.94447468e-02],\n",
       "       [ 2.85565843e-01,  5.38322990e-02,  7.77500145e-02,\n",
       "         2.39607922e-02,  1.16796314e-01,  1.15493312e-01,\n",
       "         1.31581200e-02,  8.15449873e-02, -8.99065287e-02,\n",
       "        -5.18646164e-02],\n",
       "       [ 3.19971935e-02,  1.19245953e-01, -2.58713546e-02,\n",
       "        -8.11610260e-02, -4.49170614e-02, -9.88938046e-02,\n",
       "         8.76713675e-02,  1.04861336e-01, -8.52335539e-02,\n",
       "         2.20688929e-02],\n",
       "       [ 1.11326588e-01,  1.64461122e-01,  2.59113574e-02,\n",
       "        -1.38630453e-01,  1.86093103e-02, -6.32146190e-02,\n",
       "         1.20727172e-01,  2.53929908e-01,  3.04391353e-03,\n",
       "         1.97356163e-02],\n",
       "       [-2.01123110e-02,  1.62810489e-03, -2.54233726e-02,\n",
       "         1.09480795e-01, -8.83729937e-02,  4.62583582e-02,\n",
       "         1.53532981e-02,  5.40334968e-02,  5.69920040e-02,\n",
       "        -5.42476754e-02]])"
      ]
     },
     "execution_count": 13,
     "metadata": {},
     "output_type": "execute_result"
    }
   ],
   "source": [
    "N"
   ]
  },
  {
   "cell_type": "code",
   "execution_count": 14,
   "id": "b43f72a3",
   "metadata": {},
   "outputs": [
    {
     "data": {
      "text/plain": [
       "[<matplotlib.lines.Line2D at 0x207a16f9450>]"
      ]
     },
     "execution_count": 14,
     "metadata": {},
     "output_type": "execute_result"
    },
    {
     "data": {
      "image/png": "[encoded data removed]",
      "text/plain": [
       "<Figure size 432x288 with 1 Axes>"
      ]
     },
     "metadata": {
      "needs_background": "light"
     },
     "output_type": "display_data"
    }
   ],
   "source": [
    "count, bins, ignored = plt.hist(N, 10, density= True)\n",
    "plt.plot(bins, 1/(sigma*np.sqrt(2*np.pi)) * np.exp(-(bins-loc)**2 / (2 * sigma**2)), linewidth=2, color='r')"
   ]
  },
  {
   "cell_type": "code",
   "execution_count": 15,
   "id": "4ac50235",
   "metadata": {},
   "outputs": [
    {
     "data": {
      "text/plain": [
       "[[1, 2], [3, 4], [5, 6], [7, 8]]"
      ]
     },
     "execution_count": 15,
     "metadata": {},
     "output_type": "execute_result"
    }
   ],
   "source": [
    "C = A+B\n",
    "C"
   ]
  },
  {
   "cell_type": "code",
   "execution_count": 16,
   "id": "81c558bb",
   "metadata": {},
   "outputs": [],
   "source": [
    "N = np.full((2, 2), 0)"
   ]
  },
  {
   "cell_type": "code",
   "execution_count": 17,
   "id": "fe3d2bc5",
   "metadata": {},
   "outputs": [],
   "source": [
    "# fruit_variables = [[13, 9, 7, 15], [8, 7, 4, 6], [6, 4, 0, 3]]\n",
    "# fruit_values = [3, 4, 2]\n",
    "# combined = np.dot([fruit_variables], [fruit_values])"
   ]
  },
  {
   "cell_type": "markdown",
   "id": "f3320224",
   "metadata": {},
   "source": [
    "### Transposition"
   ]
  },
  {
   "cell_type": "code",
   "execution_count": 18,
   "id": "9cf929d6",
   "metadata": {},
   "outputs": [
    {
     "data": {
      "text/plain": [
       "[[1, 2, 3], [4, 5, 6], [7, 8, 9]]"
      ]
     },
     "execution_count": 18,
     "metadata": {},
     "output_type": "execute_result"
    }
   ],
   "source": [
    "K = [[1, 2, 3], [4, 5, 6], [7, 8, 9]]\n",
    "K"
   ]
  },
  {
   "cell_type": "code",
   "execution_count": 19,
   "id": "c9340465",
   "metadata": {},
   "outputs": [
    {
     "data": {
      "text/plain": [
       "array([[1, 4, 7],\n",
       "       [2, 5, 8],\n",
       "       [3, 6, 9]])"
      ]
     },
     "execution_count": 19,
     "metadata": {},
     "output_type": "execute_result"
    }
   ],
   "source": [
    "np.transpose(K)"
   ]
  },
  {
   "cell_type": "code",
   "execution_count": null,
   "id": "46ab2e0c",
   "metadata": {},
   "outputs": [],
   "source": []
  },
  {
   "cell_type": "markdown",
   "id": "cb1e1c38",
   "metadata": {},
   "source": [
    "***"
   ]
  },
  {
   "cell_type": "markdown",
   "id": "bf47b9cc",
   "metadata": {},
   "source": [
    "## <center>Exercise with combining two matrices</center>"
   ]
  },
  {
   "cell_type": "code",
   "execution_count": 20,
   "id": "1b562729",
   "metadata": {},
   "outputs": [],
   "source": [
    "students_dsc = [[5, 8, 3], [6, 4, 9], [0, 6, 6]]\n",
    "students_dbd = [[9, 3, 6], [4, 6, 2], [5, 5, 5]]"
   ]
  },
  {
   "cell_type": "markdown",
   "id": "47049f15",
   "metadata": {},
   "source": [
    "#### Merge the two 2d matrices into a 3d matrix"
   ]
  },
  {
   "cell_type": "code",
   "execution_count": 21,
   "id": "4f8ca17a",
   "metadata": {},
   "outputs": [
    {
     "data": {
      "text/plain": [
       "array([[[5, 9],\n",
       "        [8, 3],\n",
       "        [3, 6]],\n",
       "\n",
       "       [[6, 4],\n",
       "        [4, 6],\n",
       "        [9, 2]],\n",
       "\n",
       "       [[0, 5],\n",
       "        [6, 5],\n",
       "        [6, 5]]])"
      ]
     },
     "execution_count": 21,
     "metadata": {},
     "output_type": "execute_result"
    }
   ],
   "source": [
    "students_combined = np.dstack([students_dsc, students_dbd])\n",
    "students_combined"
   ]
  },
  {
   "cell_type": "code",
   "execution_count": 22,
   "id": "67c8425c",
   "metadata": {},
   "outputs": [
    {
     "data": {
      "text/plain": [
       "array([[5, 8, 3, 9, 3, 6],\n",
       "       [6, 4, 9, 4, 6, 2],\n",
       "       [0, 6, 6, 5, 5, 5]])"
      ]
     },
     "execution_count": 22,
     "metadata": {},
     "output_type": "execute_result"
    }
   ],
   "source": [
    "students_combined_2 = np.concatenate((students_dsc, students_dbd), axis=1)\n",
    "students_combined_2"
   ]
  },
  {
   "cell_type": "markdown",
   "id": "51bafbfb",
   "metadata": {},
   "source": [
    "#### Get each students average grade"
   ]
  },
  {
   "cell_type": "code",
   "execution_count": 23,
   "id": "11585e01",
   "metadata": {},
   "outputs": [],
   "source": [
    "students_average = np.add(students_dbd, students_dsc) / 2"
   ]
  },
  {
   "cell_type": "code",
   "execution_count": 24,
   "id": "ca440c17",
   "metadata": {},
   "outputs": [
    {
     "data": {
      "text/plain": [
       "array([[7. , 5.5, 4.5],\n",
       "       [5. , 5. , 5.5],\n",
       "       [2.5, 5.5, 5.5]])"
      ]
     },
     "execution_count": 24,
     "metadata": {},
     "output_type": "execute_result"
    }
   ],
   "source": [
    "students_average"
   ]
  },
  {
   "cell_type": "code",
   "execution_count": 25,
   "id": "85262ae6",
   "metadata": {},
   "outputs": [],
   "source": [
    "students_average_2 = (np.average(students_average[0]), np.average(students_average[1]), np.average(students_average[2]))"
   ]
  },
  {
   "cell_type": "code",
   "execution_count": 26,
   "id": "5abe9e02",
   "metadata": {},
   "outputs": [
    {
     "data": {
      "text/plain": [
       "(5.666666666666667, 5.166666666666667, 4.5)"
      ]
     },
     "execution_count": 26,
     "metadata": {},
     "output_type": "execute_result"
    }
   ],
   "source": [
    "students_average_2"
   ]
  },
  {
   "cell_type": "markdown",
   "id": "fcaf40fb",
   "metadata": {},
   "source": [
    "#### Get the average grade of the students combined"
   ]
  },
  {
   "cell_type": "code",
   "execution_count": 27,
   "id": "7736cb70",
   "metadata": {},
   "outputs": [
    {
     "data": {
      "text/plain": [
       "5.111111111111111"
      ]
     },
     "execution_count": 27,
     "metadata": {},
     "output_type": "execute_result"
    }
   ],
   "source": [
    "np.average(students_combined)"
   ]
  },
  {
   "cell_type": "code",
   "execution_count": 28,
   "id": "74d82767",
   "metadata": {},
   "outputs": [],
   "source": [
    "weighted = [0.35, 0.40, 0.25]"
   ]
  },
  {
   "cell_type": "code",
   "execution_count": 29,
   "id": "756e1129",
   "metadata": {},
   "outputs": [
    {
     "data": {
      "text/plain": [
       "(5.7749999999999995, 5.125, 4.45)"
      ]
     },
     "execution_count": 29,
     "metadata": {},
     "output_type": "execute_result"
    }
   ],
   "source": [
    "students_average_with_weighted = (np.dot(students_average[0], weighted), \n",
    "                                  np.dot(students_average[1], weighted), \n",
    "                                  np.dot(students_average[2], weighted))\n",
    "students_average_with_weighted"
   ]
  },
  {
   "cell_type": "code",
   "execution_count": 30,
   "id": "4bb7de35",
   "metadata": {},
   "outputs": [
    {
     "data": {
      "text/plain": [
       "(5.7, 5.949999999999999, 3.9000000000000004)"
      ]
     },
     "execution_count": 30,
     "metadata": {},
     "output_type": "execute_result"
    }
   ],
   "source": [
    "students_dsc_average_with_weighted = (np.dot(students_dsc[0], weighted), \n",
    "                                      np.dot(students_dsc[1], weighted), \n",
    "                                      np.dot(students_dsc[2], weighted))\n",
    "students_dsc_average_with_weighted"
   ]
  },
  {
   "cell_type": "markdown",
   "id": "bc60a504",
   "metadata": {},
   "source": [
    "***"
   ]
  },
  {
   "cell_type": "markdown",
   "id": "1a57711f",
   "metadata": {},
   "source": [
    "# <center>Image processing</center>"
   ]
  },
  {
   "cell_type": "markdown",
   "id": "619249a8",
   "metadata": {},
   "source": [
    "### Image loading"
   ]
  },
  {
   "cell_type": "code",
   "execution_count": 31,
   "id": "c7555ed6",
   "metadata": {},
   "outputs": [],
   "source": [
    "import cv2"
   ]
  },
  {
   "cell_type": "code",
   "execution_count": 32,
   "id": "35ab899a",
   "metadata": {},
   "outputs": [],
   "source": [
    "img = cv2.imread('./data/istockphoto-1154370446.jpg', 0)"
   ]
  },
  {
   "cell_type": "code",
   "execution_count": 33,
   "id": "efbc30a8",
   "metadata": {},
   "outputs": [],
   "source": [
    "# visualisation function\n",
    "def show_image(image):\n",
    "  # image view\n",
    "    plt.figure(figsize=(4, 4))\n",
    "    plt.imshow(image, cmap='gray')\n",
    "    plt.show()\n",
    "  # pixel view\n",
    "    print('image size: ', image.shape)\n",
    "    # print('pixel matrix:\\n', image)"
   ]
  },
  {
   "cell_type": "code",
   "execution_count": 34,
   "id": "c1c795d5",
   "metadata": {
    "scrolled": true
   },
   "outputs": [
    {
     "data": {
      "image/png": "[encoded data removed]",
      "text/plain": [
       "<Figure size 288x288 with 1 Axes>"
      ]
     },
     "metadata": {
      "needs_background": "light"
     },
     "output_type": "display_data"
    },
    {
     "name": "stdout",
     "output_type": "stream",
     "text": [
      "image size:  (406, 612)\n"
     ]
    }
   ],
   "source": [
    "show_image(img)"
   ]
  },
  {
   "cell_type": "code",
   "execution_count": 35,
   "id": "aab83838",
   "metadata": {},
   "outputs": [],
   "source": [
    "# Resize the image\n",
    "SIZE = 320\n",
    "img = cv2.resize(img, (SIZE, SIZE)) #cv2\n",
    "# img = img.resize(size=(SIZE, SIZE)) #PIL"
   ]
  },
  {
   "cell_type": "code",
   "execution_count": 36,
   "id": "cd5c09a2",
   "metadata": {},
   "outputs": [
    {
     "data": {
      "image/png": "[encoded data removed]",
      "text/plain": [
       "<Figure size 288x288 with 1 Axes>"
      ]
     },
     "metadata": {
      "needs_background": "light"
     },
     "output_type": "display_data"
    },
    {
     "name": "stdout",
     "output_type": "stream",
     "text": [
      "image size:  (320, 320)\n"
     ]
    }
   ],
   "source": [
    "show_image(img)"
   ]
  },
  {
   "cell_type": "markdown",
   "id": "c764a2c9",
   "metadata": {},
   "source": [
    "***"
   ]
  },
  {
   "cell_type": "markdown",
   "id": "e9beca89",
   "metadata": {},
   "source": [
    "### Pool the image"
   ]
  },
  {
   "cell_type": "code",
   "execution_count": 37,
   "id": "4ef06aeb",
   "metadata": {},
   "outputs": [],
   "source": [
    "# Divide the whole image matrix into pools\n",
    "def get_pools(mat: np.array, pool: int, stride: int) -> np.array:\n",
    "    # To store individual pools\n",
    "    pools = []    \n",
    "    # For all rows with the step size of stride (row 0 and row 2)\n",
    "    for i in np.arange(mat.shape[0], step=stride):\n",
    "        # For all columns with the step size of strade (column 0 and column 2)\n",
    "        for j in np.arange(mat.shape[1], step=stride):\n",
    "            # Get a single pool\n",
    "            # First  - Image[0:2, 0:2] -> [[10, 12], [ 4, 11]]\n",
    "            # Second - Image[0:2, 2:4] -> [[ 8,  7], [ 5,  9]]\n",
    "            # Third  - Image[2:4, 0:2] -> [[18, 13], [ 3, 15]]\n",
    "            # Fourth - Image[2:4, 2:4] -> [[ 7,  7], [ 2,  2]]\n",
    "            output = mat[i:i+pool, j:j+pool]\n",
    "\n",
    "            # Ensure that the shape of the matrix is 2x2 (pool size)\n",
    "            if output.shape == (pool, pool):\n",
    "                # Append to the list of pools\n",
    "                pools.append(output)\n",
    "                \n",
    "    # Return all pools as a Numpy array\n",
    "    return np.array(pools)"
   ]
  },
  {
   "cell_type": "code",
   "execution_count": 38,
   "id": "05eadcb9",
   "metadata": {},
   "outputs": [
    {
     "data": {
      "text/plain": [
       "array([[[255, 255, 255, 255],\n",
       "        [255, 255, 255, 255],\n",
       "        [255, 255, 255, 255],\n",
       "        [255, 255, 255, 255]],\n",
       "\n",
       "       [[255, 255, 255, 255],\n",
       "        [255, 255, 255, 255],\n",
       "        [255, 255, 255, 255],\n",
       "        [255, 255, 255, 255]],\n",
       "\n",
       "       [[255, 255, 255, 255],\n",
       "        [255, 255, 255, 255],\n",
       "        [255, 255, 255, 255],\n",
       "        [255, 255, 255, 255]],\n",
       "\n",
       "       ...,\n",
       "\n",
       "       [[255, 255, 255, 255],\n",
       "        [255, 255, 255, 255],\n",
       "        [255, 255, 255, 255],\n",
       "        [255, 255, 255, 255]],\n",
       "\n",
       "       [[255, 255, 255, 255],\n",
       "        [255, 255, 255, 255],\n",
       "        [255, 255, 255, 255],\n",
       "        [255, 255, 255, 255]],\n",
       "\n",
       "       [[255, 255, 255, 255],\n",
       "        [255, 255, 255, 255],\n",
       "        [255, 255, 255, 255],\n",
       "        [255, 255, 255, 255]]], dtype=uint8)"
      ]
     },
     "execution_count": 38,
     "metadata": {},
     "output_type": "execute_result"
    }
   ],
   "source": [
    "# Create pools\n",
    "animal_pools = get_pools(mat=np.array(img), pool=4, stride=2)\n",
    "animal_pools"
   ]
  },
  {
   "cell_type": "code",
   "execution_count": 39,
   "id": "e72124c4",
   "metadata": {},
   "outputs": [
    {
     "data": {
      "text/plain": [
       "(25281, 4, 4)"
      ]
     },
     "execution_count": 39,
     "metadata": {},
     "output_type": "execute_result"
    }
   ],
   "source": [
    "animal_pools.shape"
   ]
  },
  {
   "cell_type": "code",
   "execution_count": 40,
   "id": "49157e9d",
   "metadata": {},
   "outputs": [],
   "source": [
    "# Calculate the max value of each pool and reshape the pools into the desired aoutput shape\n",
    "def max_pooling(pools: np.array) -> np.array:\n",
    "    # total number of pools\n",
    "    num_pools = pools.shape[0]\n",
    "    # reshape the pools to a matrix - Square root of the number of pools\n",
    "    # cast the result to int, as Numpy returns sqrt() as float\n",
    "    # for example: np.sqrt(16) = 4.0 -> int(4.0) = 4\n",
    "    target_shape = (int(np.sqrt(num_pools)), int(np.sqrt(num_pools)))\n",
    "    # to store the max values\n",
    "    pooled = []\n",
    "    \n",
    "    # iterate over all pools\n",
    "    for pool in pools:\n",
    "        # append the max value only\n",
    "        pooled.append(np.max(pool))\n",
    "        \n",
    "    # Reshape to target shape\n",
    "    return np.array(pooled).reshape(target_shape)"
   ]
  },
  {
   "cell_type": "code",
   "execution_count": 41,
   "id": "d9f3de49",
   "metadata": {},
   "outputs": [
    {
     "data": {
      "text/plain": [
       "array([[255, 255, 255, ..., 255, 255, 255],\n",
       "       [255, 255, 255, ..., 255, 255, 255],\n",
       "       [255, 255, 255, ..., 255, 255, 255],\n",
       "       ...,\n",
       "       [255, 255, 255, ..., 255, 255, 255],\n",
       "       [255, 255, 255, ..., 255, 255, 255],\n",
       "       [255, 255, 255, ..., 255, 255, 255]], dtype=uint8)"
      ]
     },
     "execution_count": 41,
     "metadata": {},
     "output_type": "execute_result"
    }
   ],
   "source": [
    "# Apply max-pooling\n",
    "animal_max_pooled = max_pooling(pools=animal_pools)\n",
    "animal_max_pooled"
   ]
  },
  {
   "cell_type": "code",
   "execution_count": 42,
   "id": "17d9acd1",
   "metadata": {},
   "outputs": [
    {
     "data": {
      "text/plain": [
       "(159, 159)"
      ]
     },
     "execution_count": 42,
     "metadata": {},
     "output_type": "execute_result"
    }
   ],
   "source": [
    "animal_max_pooled.shape"
   ]
  },
  {
   "cell_type": "code",
   "execution_count": 43,
   "id": "9460d5fd",
   "metadata": {},
   "outputs": [
    {
     "data": {
      "image/png": "[encoded data removed]",
      "text/plain": [
       "<Figure size 288x288 with 1 Axes>"
      ]
     },
     "metadata": {
      "needs_background": "light"
     },
     "output_type": "display_data"
    },
    {
     "name": "stdout",
     "output_type": "stream",
     "text": [
      "image size:  (320, 320)\n"
     ]
    }
   ],
   "source": [
    "show_image(img)"
   ]
  },
  {
   "cell_type": "code",
   "execution_count": 44,
   "id": "7cb8405d",
   "metadata": {},
   "outputs": [
    {
     "data": {
      "image/png": "[encoded data removed]",
      "text/plain": [
       "<Figure size 288x288 with 1 Axes>"
      ]
     },
     "metadata": {
      "needs_background": "light"
     },
     "output_type": "display_data"
    },
    {
     "name": "stdout",
     "output_type": "stream",
     "text": [
      "image size:  (159, 159)\n"
     ]
    }
   ],
   "source": [
    "show_image(animal_max_pooled)"
   ]
  },
  {
   "cell_type": "code",
   "execution_count": 71,
   "id": "9e83fb61",
   "metadata": {},
   "outputs": [
    {
     "data": {
      "image/png": "[encoded data removed]",
      "text/plain": [
       "<Figure size 288x288 with 1 Axes>"
      ]
     },
     "metadata": {
      "needs_background": "light"
     },
     "output_type": "display_data"
    },
    {
     "name": "stdout",
     "output_type": "stream",
     "text": [
      "image size:  (159, 159)\n"
     ]
    }
   ],
   "source": [
    "# show transposed image\n",
    "show_image(animal_max_pooled.T)"
   ]
  },
  {
   "cell_type": "code",
   "execution_count": 46,
   "id": "96adbb1f",
   "metadata": {},
   "outputs": [
    {
     "data": {
      "text/plain": [
       "array([[[255, 255, 255],\n",
       "        [255, 255, 255],\n",
       "        [255, 255, 255]],\n",
       "\n",
       "       [[255, 255, 255],\n",
       "        [255, 255, 255],\n",
       "        [255, 255, 255]],\n",
       "\n",
       "       [[255, 255, 255],\n",
       "        [255, 255, 255],\n",
       "        [255, 255, 255]],\n",
       "\n",
       "       ...,\n",
       "\n",
       "       [[255, 255, 255],\n",
       "        [255, 255, 255],\n",
       "        [255, 255, 255]],\n",
       "\n",
       "       [[255, 255, 255],\n",
       "        [255, 255, 255],\n",
       "        [255, 255, 255]],\n",
       "\n",
       "       [[255, 255, 255],\n",
       "        [255, 255, 255],\n",
       "        [255, 255, 255]]], dtype=uint8)"
      ]
     },
     "execution_count": 46,
     "metadata": {},
     "output_type": "execute_result"
    }
   ],
   "source": [
    "# Create another pool\n",
    "animal_pools = get_pools(mat=np.array(animal_max_pooled), pool=3, stride=3)\n",
    "animal_pools"
   ]
  },
  {
   "cell_type": "markdown",
   "id": "0551cc92",
   "metadata": {},
   "source": [
    "***"
   ]
  },
  {
   "cell_type": "markdown",
   "id": "2f571dff",
   "metadata": {},
   "source": [
    "### Convolute"
   ]
  },
  {
   "cell_type": "code",
   "execution_count": 47,
   "id": "74f980f9",
   "metadata": {},
   "outputs": [],
   "source": [
    "# Convolution function\n",
    "import math\n",
    "def get_conv(mat, kernel):\n",
    "    conv = []\n",
    "    for m in mat:\n",
    "        conv.append(\n",
    "        np.sum(np.multiply(m, kernel)))\n",
    "    resh_size = int(math.sqrt(mat.shape[0]))\n",
    "    conv = np.array(conv).reshape(resh_size, resh_size)\n",
    "    return conv"
   ]
  },
  {
   "cell_type": "code",
   "execution_count": 60,
   "id": "1da9cfa0",
   "metadata": {},
   "outputs": [],
   "source": [
    "# Edge detection\n",
    "kernel = [[-1, -1, -1],[-1, 12, -1], [-1, -1, -1]]"
   ]
  },
  {
   "cell_type": "code",
   "execution_count": 61,
   "id": "da498bd2",
   "metadata": {},
   "outputs": [],
   "source": [
    "transformed = get_conv(animal_pools, kernel)"
   ]
  },
  {
   "cell_type": "code",
   "execution_count": 62,
   "id": "bf0da2a9",
   "metadata": {},
   "outputs": [
    {
     "data": {
      "image/png": "[encoded data removed]",
      "text/plain": [
       "<Figure size 288x288 with 1 Axes>"
      ]
     },
     "metadata": {
      "needs_background": "light"
     },
     "output_type": "display_data"
    },
    {
     "name": "stdout",
     "output_type": "stream",
     "text": [
      "image size:  (53, 53)\n"
     ]
    }
   ],
   "source": [
    "show_image(transformed)"
   ]
  },
  {
   "cell_type": "code",
   "execution_count": null,
   "id": "30f80d33",
   "metadata": {},
   "outputs": [],
   "source": []
  }
 ],
 "metadata": {
  "kernelspec": {
   "display_name": "Python 3 (ipykernel)",
   "language": "python",
   "name": "python3"
  },
  "language_info": {
   "codemirror_mode": {
    "name": "ipython",
    "version": 3
   },
   "file_extension": ".py",
   "mimetype": "text/x-python",
   "name": "python",
   "nbconvert_exporter": "python",
   "pygments_lexer": "ipython3",
   "version": "3.10.2"
  }
 },
 "nbformat": 4,
 "nbformat_minor": 5
}
