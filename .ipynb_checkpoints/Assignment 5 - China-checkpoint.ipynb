{
 "cells": [
  {
   "cell_type": "markdown",
   "id": "e6a6187d",
   "metadata": {},
   "source": [
    "# <center>Assignment 5: Prediction by Regression</center>"
   ]
  },
  {
   "cell_type": "markdown",
   "id": "01b5b425",
   "metadata": {},
   "source": [
    "### Assignment description"
   ]
  },
  {
   "cell_type": "markdown",
   "id": "c288e971",
   "metadata": {},
   "source": [
    "In the file china_gdp.csv you will find historic data about the development of China's gross domestic product (GDP).\n",
    "\n",
    "Your task is to train a model that fits to the data and use the model for prediction of the GDP values of years 2010, 2020, and 2022.\n",
    "\n",
    "\n",
    "\n",
    "Please, submit a Python solution and elaborate on the following questions related to it:\n",
    "\n",
    "What type/s of regression have you applied?\n",
    "\n",
    "Which were the challenges?\n",
    "\n",
    "How accurate is your solution?\n",
    "\n",
    "What else could be done for improvement of the accuracy?\n",
    "\n",
    "\n",
    "\n",
    "This is a group project.\n",
    "\n",
    "The solution brings two more study points to your collection."
   ]
  },
  {
   "cell_type": "markdown",
   "id": "ca85cfcd",
   "metadata": {},
   "source": [
    "***"
   ]
  },
  {
   "cell_type": "code",
   "execution_count": 1,
   "id": "e3de0306",
   "metadata": {},
   "outputs": [],
   "source": [
    "import pandas as pd\n",
    "import numpy as np\n",
    "import matplotlib.pyplot as plt\n",
    "import seaborn as sns\n",
    "%matplotlib inline\n",
    "import random\n",
<<<<<<< Updated upstream
    "from sklearn import datasets, svm, tree, preprocessing, metrics\n",
    "from sklearn.linear_model import LinearRegression\n",
    "from sklearn.model_selection import KFold"
=======
    "from sklearn import datasets, svm, tree, preprocessing, metrics"
>>>>>>> Stashed changes
   ]
  },
  {
   "cell_type": "code",
   "execution_count": 2,
   "id": "5937e1ed",
   "metadata": {},
   "outputs": [],
   "source": [
    "china = pd.read_csv('./data/china_gdp.csv')"
   ]
  },
  {
   "cell_type": "code",
   "execution_count": 3,
   "id": "acd01c68",
   "metadata": {},
   "outputs": [
    {
     "data": {
      "text/html": [
       "<div>\n",
       "<style scoped>\n",
       "    .dataframe tbody tr th:only-of-type {\n",
       "        vertical-align: middle;\n",
       "    }\n",
       "\n",
       "    .dataframe tbody tr th {\n",
       "        vertical-align: top;\n",
       "    }\n",
       "\n",
       "    .dataframe thead th {\n",
       "        text-align: right;\n",
       "    }\n",
       "</style>\n",
       "<table border=\"1\" class=\"dataframe\">\n",
       "  <thead>\n",
       "    <tr style=\"text-align: right;\">\n",
       "      <th></th>\n",
       "      <th>Year</th>\n",
       "      <th>Value</th>\n",
       "    </tr>\n",
       "  </thead>\n",
       "  <tbody>\n",
       "    <tr>\n",
       "      <th>0</th>\n",
       "      <td>1960</td>\n",
       "      <td>5.918412e+10</td>\n",
       "    </tr>\n",
       "    <tr>\n",
       "      <th>1</th>\n",
       "      <td>1961</td>\n",
       "      <td>4.955705e+10</td>\n",
       "    </tr>\n",
       "    <tr>\n",
       "      <th>2</th>\n",
       "      <td>1962</td>\n",
       "      <td>4.668518e+10</td>\n",
       "    </tr>\n",
       "    <tr>\n",
       "      <th>3</th>\n",
       "      <td>1963</td>\n",
       "      <td>5.009730e+10</td>\n",
       "    </tr>\n",
       "    <tr>\n",
       "      <th>4</th>\n",
       "      <td>1964</td>\n",
       "      <td>5.906225e+10</td>\n",
       "    </tr>\n",
       "  </tbody>\n",
       "</table>\n",
       "</div>"
      ],
      "text/plain": [
       "   Year         Value\n",
       "0  1960  5.918412e+10\n",
       "1  1961  4.955705e+10\n",
       "2  1962  4.668518e+10\n",
       "3  1963  5.009730e+10\n",
       "4  1964  5.906225e+10"
      ]
     },
     "execution_count": 3,
     "metadata": {},
     "output_type": "execute_result"
    }
   ],
   "source": [
    "china.head()"
   ]
  },
  {
   "cell_type": "code",
   "execution_count": 4,
   "id": "ba4a2f98",
   "metadata": {},
   "outputs": [
    {
     "data": {
      "text/html": [
       "<div>\n",
       "<style scoped>\n",
       "    .dataframe tbody tr th:only-of-type {\n",
       "        vertical-align: middle;\n",
       "    }\n",
       "\n",
       "    .dataframe tbody tr th {\n",
       "        vertical-align: top;\n",
       "    }\n",
       "\n",
       "    .dataframe thead th {\n",
       "        text-align: right;\n",
       "    }\n",
       "</style>\n",
       "<table border=\"1\" class=\"dataframe\">\n",
       "  <thead>\n",
       "    <tr style=\"text-align: right;\">\n",
       "      <th></th>\n",
       "      <th>Year</th>\n",
       "      <th>Value</th>\n",
       "    </tr>\n",
       "  </thead>\n",
       "  <tbody>\n",
       "    <tr>\n",
       "      <th>50</th>\n",
       "      <td>2010</td>\n",
       "      <td>6.039659e+12</td>\n",
       "    </tr>\n",
       "    <tr>\n",
       "      <th>51</th>\n",
       "      <td>2011</td>\n",
       "      <td>7.492432e+12</td>\n",
       "    </tr>\n",
       "    <tr>\n",
       "      <th>52</th>\n",
       "      <td>2012</td>\n",
       "      <td>8.461623e+12</td>\n",
       "    </tr>\n",
       "    <tr>\n",
       "      <th>53</th>\n",
       "      <td>2013</td>\n",
       "      <td>9.490603e+12</td>\n",
       "    </tr>\n",
       "    <tr>\n",
       "      <th>54</th>\n",
       "      <td>2014</td>\n",
       "      <td>1.035483e+13</td>\n",
       "    </tr>\n",
       "  </tbody>\n",
       "</table>\n",
       "</div>"
      ],
      "text/plain": [
       "    Year         Value\n",
       "50  2010  6.039659e+12\n",
       "51  2011  7.492432e+12\n",
       "52  2012  8.461623e+12\n",
       "53  2013  9.490603e+12\n",
       "54  2014  1.035483e+13"
      ]
     },
     "execution_count": 4,
     "metadata": {},
     "output_type": "execute_result"
    }
   ],
   "source": [
    "china.tail()"
   ]
  },
  {
   "cell_type": "code",
   "execution_count": 5,
   "id": "16d4f6c0",
   "metadata": {},
   "outputs": [
    {
     "data": {
      "image/png": "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\n",
      "text/plain": [
       "<Figure size 1080x720 with 1 Axes>"
      ]
     },
     "metadata": {
      "needs_background": "light"
     },
     "output_type": "display_data"
    }
   ],
   "source": [
    "plt.figure(figsize=(15, 10))\n",
    "plt.xlabel(\"Year\")\n",
    "plt.ylabel(\"GDP\")\n",
    "plt.plot(china['Year'], china['Value'], 'o')\n",
    "\n",
    "plt.show()"
   ]
  },
  {
   "cell_type": "code",
<<<<<<< Updated upstream
   "execution_count": 6,
=======
   "execution_count": 42,
>>>>>>> Stashed changes
   "id": "ac17a401",
   "metadata": {},
   "outputs": [
    {
     "data": {
      "text/plain": [
<<<<<<< Updated upstream
       "[<matplotlib.lines.Line2D at 0x1cab08b89a0>,\n",
       " <matplotlib.lines.Line2D at 0x1cab34a1ba0>]"
      ]
     },
     "execution_count": 6,
=======
       "[<matplotlib.lines.Line2D at 0x18226dca4a0>,\n",
       " <matplotlib.lines.Line2D at 0x18226dca6e0>]"
      ]
     },
     "execution_count": 42,
>>>>>>> Stashed changes
     "metadata": {},
     "output_type": "execute_result"
    },
    {
     "data": {
<<<<<<< Updated upstream
      "image/png": "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\n",
=======
      "image/png": "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\n",
>>>>>>> Stashed changes
      "text/plain": [
       "<Figure size 1080x720 with 1 Axes>"
      ]
     },
     "metadata": {
      "needs_background": "light"
     },
     "output_type": "display_data"
    }
   ],
   "source": [
    "# Create a linear regression model\n",
    "\n",
<<<<<<< Updated upstream
    "linear_fit = np.poly1d(np.polyfit(china['Year'], china['Value'],1))\n",
    "plt.figure(figsize=(15, 10))\n",
    "plt.plot(china['Year'],china['Value'], 'o', china['Year'], linear_fit(china['Year']))"
=======
    "linear_fit = np.polyfit(china['Year'], china['Value'],1)\n",
    "poly1d_fn = np.poly1d(linear_fit)\n",
    "plt.figure(figsize=(15, 10))\n",
    "plt.plot(china['Year'],china['Value'], 'yo', china['Year'], poly1d_fn(china['Year']), '--k')"
>>>>>>> Stashed changes
   ]
  },
  {
   "cell_type": "code",
<<<<<<< Updated upstream
   "execution_count": 7,
   "id": "935d7392",
   "metadata": {},
   "outputs": [],
   "source": [
    "def linear_regression_calculator(year):\n",
    "    return linear_fit(year)"
   ]
  },
  {
   "cell_type": "code",
   "execution_count": 8,
   "id": "727d1b6c",
   "metadata": {},
   "outputs": [
    {
     "name": "stdout",
     "output_type": "stream",
     "text": [
      "GDP prediction for year 2010: 4035114903803.4688\n",
      "GDP prediction for year 2020: 5164711898506.0\n",
      "GDP prediction for year 2022: 5390631297446.531\n"
     ]
    }
   ],
   "source": [
    "# Show predicted value by linear regression model:\n",
    "print('GDP prediction for year 2010: '+str(linear_regression_calculator(2010)))\n",
    "print('GDP prediction for year 2020: '+str(linear_regression_calculator(2020)))\n",
    "print('GDP prediction for year 2022: '+str(linear_regression_calculator(2022)))"
   ]
  },
  {
   "cell_type": "code",
   "execution_count": 9,
   "id": "ebefdd54",
   "metadata": {},
   "outputs": [
    {
     "name": "stdout",
     "output_type": "stream",
     "text": [
      "[0.4923164680334984, 0.46627842605804215, 0.5144617170433088]\n"
     ]
    }
   ],
   "source": [
    "# Estimate the accuracy of the linear model.\n",
    "\n",
    "X = pd.DataFrame(china['Year'])\n",
    "y = pd.DataFrame(china['Value'])\n",
    "model = LinearRegression()\n",
    "scores = []\n",
    "kfold = KFold(n_splits=3, shuffle=True, random_state=42)\n",
    "for i, (x1, y1) in enumerate(kfold.split(X, y)):\n",
    "    model.fit(X.iloc[x1,:], y.iloc[x1,:])\n",
    "    score = model.score(X.iloc[y1,:], y.iloc[y1,:])\n",
    "    scores.append(score)\n",
    "print(scores)"
=======
   "execution_count": 54,
   "id": "6dca9909",
   "metadata": {},
   "outputs": [],
   "source": [
    "# Function to return the determination of accuracy of the fitted regression line (R Squared value)\n",
    "\n",
    "def polyfit(x, y, degree):\n",
    "    results = {}\n",
    "\n",
    "    coeffs = np.polyfit(x, y, degree)\n",
    "\n",
    "     # Polynomial Coefficients\n",
    "    results['polynomial'] = coeffs.tolist()\n",
    "\n",
    "    # r-squared\n",
    "    p = np.poly1d(coeffs)\n",
    "    # fit values, and mean\n",
    "    yhat = p(x)                         # or [p(z) for z in x]\n",
    "    ybar = np.sum(y)/len(y)          # or sum(y)/len(y)\n",
    "    ssreg = np.sum((yhat-ybar)**2)   # or sum([ (yihat - ybar)**2 for yihat in yhat])\n",
    "    sstot = np.sum((y - ybar)**2)    # or sum([ (yi - ybar)**2 for yi in y])\n",
    "    results['determination'] = ssreg / sstot\n",
    "\n",
    "    return results"
>>>>>>> Stashed changes
   ]
  },
  {
   "cell_type": "code",
<<<<<<< Updated upstream
   "execution_count": 10,
   "id": "ca982e69",
=======
   "execution_count": 55,
   "id": "732e2998",
>>>>>>> Stashed changes
   "metadata": {},
   "outputs": [
    {
     "data": {
      "text/plain": [
<<<<<<< Updated upstream
       "5.7560232247309564e+48"
      ]
     },
     "execution_count": 10,
=======
       "{'polynomial': [112959699470.25523, -223013881031409.56],\n",
       " 'determination': 0.523970823557458}"
      ]
     },
     "execution_count": 55,
>>>>>>> Stashed changes
     "metadata": {},
     "output_type": "execute_result"
    }
   ],
   "source": [
<<<<<<< Updated upstream
    "# Find the sum of error squares.\n",
    "\n",
    "np.sum((np.polyval(np.polyfit(china['Year'], china['Value'],1), china['Value']) - china['Year'])**2)"
=======
    "polyfit(china['Year'], china['Value'],1)"
>>>>>>> Stashed changes
   ]
  },
  {
   "cell_type": "code",
<<<<<<< Updated upstream
   "execution_count": 11,
   "id": "422b3a74",
=======
   "execution_count": 45,
   "id": "bd54fbd1",
>>>>>>> Stashed changes
   "metadata": {},
   "outputs": [
    {
     "data": {
      "text/plain": [
<<<<<<< Updated upstream
       "[<matplotlib.lines.Line2D at 0x1cab34e2f80>]"
      ]
     },
     "execution_count": 11,
=======
       "[<matplotlib.lines.Line2D at 0x18226ef3850>]"
      ]
     },
     "execution_count": 45,
>>>>>>> Stashed changes
     "metadata": {},
     "output_type": "execute_result"
    },
    {
     "data": {
      "image/png": "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\n",
      "text/plain": [
       "<Figure size 1080x720 with 1 Axes>"
      ]
     },
     "metadata": {
      "needs_background": "light"
     },
     "output_type": "display_data"
    }
   ],
   "source": [
    "# Create a exponential regression model\n",
    "\n",
    "ekspo_fit = np.polyfit(china['Year'], np.log(china['Value']), 1)\n",
    "\n",
    "y = np.exp(ekspo_fit[1]) * np.exp(ekspo_fit[0]*china['Year'])\n",
    "plt.figure(figsize=(15, 10))\n",
    "plt.plot(china['Year'], china['Value'], \"o\")\n",
    "plt.plot(china['Year'], y)"
   ]
  },
  {
   "cell_type": "code",
<<<<<<< Updated upstream
   "execution_count": 12,
   "id": "0bf2b213",
   "metadata": {},
   "outputs": [],
   "source": [
    "def ekspo_regression_calculator(year):\n",
    "    return np.exp(ekspo_fit[1]) * np.exp(ekspo_fit[0]*year)"
   ]
  },
  {
   "cell_type": "code",
   "execution_count": 13,
   "id": "a3c25814",
   "metadata": {},
   "outputs": [
    {
     "name": "stdout",
     "output_type": "stream",
     "text": [
      "GDP prediction for year 2010: 3811642116890.3926\n",
      "GDP prediction for year 2020: 9906902874813.26\n",
      "GDP prediction for year 2022: 11992315977544.98\n"
     ]
    }
   ],
   "source": [
    "# Show predicted value by eksponential regression model:\n",
    "\n",
    "print('GDP prediction for year 2010: '+str(ekspo_regression_calculator(2010)))\n",
    "print('GDP prediction for year 2020: '+str(ekspo_regression_calculator(2020)))\n",
    "print('GDP prediction for year 2022: '+str(ekspo_regression_calculator(2022)))"
=======
   "execution_count": 56,
   "id": "58aac8df",
   "metadata": {},
   "outputs": [
    {
     "data": {
      "text/plain": [
       "{'polynomial': [0.09551716761572913, -163.02042569359446],\n",
       " 'determination': 0.9604701157357949}"
      ]
     },
     "execution_count": 56,
     "metadata": {},
     "output_type": "execute_result"
    }
   ],
   "source": [
    "polyfit(china['Year'], np.log(china['Value']), 1)"
>>>>>>> Stashed changes
   ]
  },
  {
   "cell_type": "code",
<<<<<<< Updated upstream
   "execution_count": 37,
   "id": "2495675c",
   "metadata": {},
   "outputs": [],
   "source": [
    "# TODO - Calculate accuracy of the model."
   ]
  },
  {
   "cell_type": "code",
   "execution_count": 83,
   "id": "e51167bb",
   "metadata": {},
   "outputs": [],
   "source": [
    "# Actual value\n",
    "def actual_gdp(year: float) -> float:\n",
    "    x = china.loc[china['Year'] == year]\n",
    "    x = float(x['Value'])\n",
    "    return x"
=======
   "execution_count": 7,
   "id": "0bf2b213",
   "metadata": {},
   "outputs": [],
   "source": [
    "def regression_calc(year):\n",
    "    return np.exp(fit[1]) * np.exp(fit[0]*year)"
>>>>>>> Stashed changes
   ]
  },
  {
   "cell_type": "code",
<<<<<<< Updated upstream
   "execution_count": 84,
   "id": "d985a5eb",
   "metadata": {},
   "outputs": [],
   "source": [
    "# Predicted value\n",
    "def predicted_gdp(year: float) -> float:\n",
    "    return np.exp(ekspo_fit[1]) * np.exp(ekspo_fit[0]*year)"
=======
   "execution_count": 8,
   "id": "163ae0bd",
   "metadata": {},
   "outputs": [
    {
     "data": {
      "text/plain": [
       "3811642116890.5005"
      ]
     },
     "execution_count": 8,
     "metadata": {},
     "output_type": "execute_result"
    }
   ],
   "source": [
    "regression_calc(2010)"
>>>>>>> Stashed changes
   ]
  },
  {
   "cell_type": "code",
<<<<<<< Updated upstream
   "execution_count": 85,
   "id": "42741a45",
   "metadata": {},
   "outputs": [],
   "source": [
    "# The Error amount\n",
    "def error(year: float, actual_value: float) -> float:\n",
    "    return actual_gdp-predicted_gdp(year)"
=======
   "execution_count": 9,
   "id": "4d5617b7",
   "metadata": {},
   "outputs": [
    {
     "data": {
      "text/plain": [
       "9906902874813.541"
      ]
     },
     "execution_count": 9,
     "metadata": {},
     "output_type": "execute_result"
    }
   ],
   "source": [
    "regression_calc(2020)"
>>>>>>> Stashed changes
   ]
  },
  {
   "cell_type": "code",
<<<<<<< Updated upstream
   "execution_count": 92,
   "id": "704c0b5d",
   "metadata": {},
   "outputs": [
    {
     "name": "stdout",
     "output_type": "stream",
     "text": [
      "Actual GPD:     189649992463.987\n",
      "Predicted GPD:  217087467551.83704\n"
     ]
    }
   ],
   "source": [
    "print('Actual GPD:     '+str(actual_gdp(1980)))\n",
    "print('Predicted GPD:  '+str(predicted_gdp(1980)))"
   ]
  },
  {
   "cell_type": "markdown",
   "id": "7cfd573e",
   "metadata": {},
   "source": [
    "***"
=======
   "execution_count": 10,
   "id": "a5bb3b2b",
   "metadata": {},
   "outputs": [
    {
     "data": {
      "text/plain": [
       "11992315977545.32"
      ]
     },
     "execution_count": 10,
     "metadata": {},
     "output_type": "execute_result"
    }
   ],
   "source": [
    "regression_calc(2022)"
>>>>>>> Stashed changes
   ]
  },
  {
   "cell_type": "code",
<<<<<<< Updated upstream
   "execution_count": null,
   "id": "84eecc2b",
   "metadata": {},
   "outputs": [],
   "source": []
  },
  {
   "cell_type": "code",
   "execution_count": 17,
=======
   "execution_count": 11,
>>>>>>> Stashed changes
   "id": "fb78655e",
   "metadata": {},
   "outputs": [],
   "source": [
    "correlation = china.corr()"
   ]
  },
  {
   "cell_type": "code",
<<<<<<< Updated upstream
   "execution_count": 18,
=======
   "execution_count": 12,
>>>>>>> Stashed changes
   "id": "5552a806",
   "metadata": {},
   "outputs": [
    {
     "data": {
      "text/plain": [
       "<AxesSubplot:>"
      ]
     },
<<<<<<< Updated upstream
     "execution_count": 18,
=======
     "execution_count": 12,
>>>>>>> Stashed changes
     "metadata": {},
     "output_type": "execute_result"
    },
    {
     "data": {
      "image/png": "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\n",
      "text/plain": [
       "<Figure size 720x360 with 2 Axes>"
      ]
     },
     "metadata": {
      "needs_background": "light"
     },
     "output_type": "display_data"
    }
   ],
   "source": [
    "fig, ax = plt.subplots(figsize=(10,5))         # Sample figsize in inches\n",
    "sns.heatmap(correlation, annot=True)"
   ]
  },
  {
   "cell_type": "code",
<<<<<<< Updated upstream
   "execution_count": 19,
=======
   "execution_count": 18,
>>>>>>> Stashed changes
   "id": "0d7129df",
   "metadata": {},
   "outputs": [],
   "source": [
    "from sklearn.model_selection import train_test_split\n",
    "\n",
    "# test_size: what proportion of original data is used for test set\n",
    "\n",
    "train_value, test_value, train_year, test_year = train_test_split(china['Value'], china['Year'], test_size=1/7.0, random_state=0)"
   ]
  },
  {
   "cell_type": "code",
<<<<<<< Updated upstream
   "execution_count": null,
   "id": "f29836a6",
=======
   "execution_count": 19,
   "id": "6b47fc27",
   "metadata": {},
   "outputs": [
    {
     "data": {
      "text/plain": [
       "45    2.268599e+12\n",
       "33    4.428746e+11\n",
       "40    1.205261e+12\n",
       "26    2.988058e+11\n",
       "11    9.856202e+10\n",
       "2     4.668518e+10\n",
       "32    4.249341e+11\n",
       "43    1.649929e+12\n",
       "Name: Value, dtype: float64"
      ]
     },
     "execution_count": 19,
     "metadata": {},
     "output_type": "execute_result"
    }
   ],
   "source": [
    "test_value"
   ]
  },
  {
   "cell_type": "code",
   "execution_count": null,
   "id": "6ece9c3e",
>>>>>>> Stashed changes
   "metadata": {},
   "outputs": [],
   "source": []
  }
 ],
 "metadata": {
  "kernelspec": {
   "display_name": "Python 3 (ipykernel)",
   "language": "python",
   "name": "python3"
  },
  "language_info": {
   "codemirror_mode": {
    "name": "ipython",
    "version": 3
   },
   "file_extension": ".py",
   "mimetype": "text/x-python",
   "name": "python",
   "nbconvert_exporter": "python",
   "pygments_lexer": "ipython3",
   "version": "3.10.2"
  }
 },
 "nbformat": 4,
 "nbformat_minor": 5
}
