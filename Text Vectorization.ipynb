{
 "cells": [
  {
   "cell_type": "code",
   "execution_count": 1,
   "id": "5f938fa4",
   "metadata": {},
   "outputs": [],
   "source": [
    "# Import libraries\n",
    "import pandas as pd\n",
    "import sklearn as sk\n",
    "import math"
   ]
  },
  {
   "cell_type": "code",
   "execution_count": 2,
   "id": "6d00dc01",
   "metadata": {},
   "outputs": [],
   "source": [
    "# Enter to sentences for the test\n",
    "sent1 = \"Data Science is the sexiest job of the 21 century.\"\n",
    "sent2 = \"Machine Learning is the key for data science.\""
   ]
  },
  {
   "cell_type": "code",
   "execution_count": 3,
   "id": "d1a4983e",
   "metadata": {},
   "outputs": [],
   "source": [
    "# Split the data into sets\n",
    "sent1 = sent1.split(\" \")\n",
    "sent2 = sent2.split(\" \")"
   ]
  },
  {
   "cell_type": "code",
   "execution_count": 4,
   "id": "58e55252",
   "metadata": {},
   "outputs": [
    {
     "name": "stdout",
     "output_type": "stream",
     "text": [
      "{'Learning', 'science.', 'century.', 'for', 'Machine', 'job', 'data', 'sexiest', 'the', 'Science', '21', 'is', 'key', 'Data', 'of'}\n"
     ]
    }
   ],
   "source": [
    "all = set(sent1).union(set(sent2))\n",
    "print(all)"
   ]
  },
  {
   "cell_type": "code",
   "execution_count": 5,
   "id": "428e4116",
   "metadata": {},
   "outputs": [
    {
     "data": {
      "text/plain": [
       "15"
      ]
     },
     "execution_count": 5,
     "metadata": {},
     "output_type": "execute_result"
    }
   ],
   "source": [
    "len(all)"
   ]
  },
  {
   "cell_type": "code",
   "execution_count": 6,
   "id": "9c412a1b",
   "metadata": {},
   "outputs": [
    {
     "data": {
      "text/plain": [
       "{'Learning': 0,\n",
       " 'science.': 0,\n",
       " 'century.': 1,\n",
       " 'for': 0,\n",
       " 'Machine': 0,\n",
       " 'job': 1,\n",
       " 'data': 0,\n",
       " 'sexiest': 1,\n",
       " 'the': 2,\n",
       " 'Science': 1,\n",
       " '21': 1,\n",
       " 'is': 1,\n",
       " 'key': 0,\n",
       " 'Data': 1,\n",
       " 'of': 1}"
      ]
     },
     "execution_count": 6,
     "metadata": {},
     "output_type": "execute_result"
    }
   ],
   "source": [
    "dict1 = dict.fromkeys(all, 0)\n",
    "for word in sent1:\n",
    "    dict1[word] = dict1[word]+1;\n",
    "dict1"
   ]
  },
  {
   "cell_type": "code",
   "execution_count": 7,
   "id": "9d09c860",
   "metadata": {},
   "outputs": [
    {
     "data": {
      "text/plain": [
       "{'Learning': 1,\n",
       " 'science.': 1,\n",
       " 'century.': 0,\n",
       " 'for': 1,\n",
       " 'Machine': 1,\n",
       " 'job': 0,\n",
       " 'data': 1,\n",
       " 'sexiest': 0,\n",
       " 'the': 1,\n",
       " 'Science': 0,\n",
       " '21': 0,\n",
       " 'is': 1,\n",
       " 'key': 1,\n",
       " 'Data': 0,\n",
       " 'of': 0}"
      ]
     },
     "execution_count": 7,
     "metadata": {},
     "output_type": "execute_result"
    }
   ],
   "source": [
    "dict2 = dict.fromkeys(all, 0)\n",
    "for word in sent2:\n",
    "    dict2[word] = dict2[word]+1;\n",
    "dict2"
   ]
  },
  {
   "cell_type": "code",
   "execution_count": 9,
   "id": "f14f5be7",
   "metadata": {},
   "outputs": [],
   "source": [
    "df = pd.DataFrame(dict1, dict2)"
   ]
  },
  {
   "cell_type": "code",
   "execution_count": 11,
   "id": "87e5f18e",
   "metadata": {},
   "outputs": [
    {
     "data": {
      "text/plain": [
       "Learning    0.0\n",
       "science.    0.0\n",
       "century.    1.0\n",
       "for         0.0\n",
       "Machine     0.0\n",
       "job         1.0\n",
       "data        0.0\n",
       "sexiest     1.0\n",
       "the         2.0\n",
       "Science     1.0\n",
       "21          1.0\n",
       "is          1.0\n",
       "key         0.0\n",
       "Data        1.0\n",
       "of          1.0\n",
       "dtype: float64"
      ]
     },
     "execution_count": 11,
     "metadata": {},
     "output_type": "execute_result"
    }
   ],
   "source": [
    "df.mean()"
   ]
  },
  {
   "cell_type": "code",
   "execution_count": null,
   "id": "f2f49d40",
   "metadata": {},
   "outputs": [],
   "source": []
  }
 ],
 "metadata": {
  "kernelspec": {
   "display_name": "Python 3 (ipykernel)",
   "language": "python",
   "name": "python3"
  },
  "language_info": {
   "codemirror_mode": {
    "name": "ipython",
    "version": 3
   },
   "file_extension": ".py",
   "mimetype": "text/x-python",
   "name": "python",
   "nbconvert_exporter": "python",
   "pygments_lexer": "ipython3",
   "version": "3.10.2"
  }
 },
 "nbformat": 4,
 "nbformat_minor": 5
}
